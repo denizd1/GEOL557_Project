{
  "nbformat": 4,
  "nbformat_minor": 0,
  "metadata": {
    "colab": {
      "name": "polar_south_80_sw_data.ipynb",
      "provenance": [],
      "collapsed_sections": []
    },
    "kernelspec": {
      "name": "python3",
      "display_name": "Python 3"
    }
  },
  "cells": [
    {
      "cell_type": "code",
      "metadata": {
        "id": "z-6O4OMgviNt",
        "outputId": "8326f5ec-6ccc-443f-9258-604c80ef5d7e",
        "colab": {
          "base_uri": "https://localhost:8080/"
        }
      },
      "source": [
        "from google.colab import drive # this mounts Google Drive to this notebook\n",
        "drive.mount('/content/gdrive')"
      ],
      "execution_count": null,
      "outputs": [
        {
          "output_type": "stream",
          "text": [
            "Drive already mounted at /content/gdrive; to attempt to forcibly remount, call drive.mount(\"/content/gdrive\", force_remount=True).\n"
          ],
          "name": "stdout"
        }
      ]
    },
    {
      "cell_type": "code",
      "metadata": {
        "id": "bjRvXJszvl80",
        "outputId": "a401b183-e2ed-476e-ea26-c17cba377a3b",
        "colab": {
          "base_uri": "https://localhost:8080/"
        }
      },
      "source": [
        "%cd /content/gdrive/My\\ Drive\n",
        "!ls"
      ],
      "execution_count": null,
      "outputs": [
        {
          "output_type": "stream",
          "text": [
            "/content/gdrive/My Drive\n",
            "AVGVIS_SUN60m.tif\n",
            "_GEOL557\n",
            "GEOL557_Shared_Lunar_AVGVIS_SUN60_resample.ipynb\n",
            "polar_south_80_summer_max.txt\n",
            "polar_south_80_sw_max_diff.txt\n",
            "polar_south_80_winter_min.txt\n",
            "SPoleDEM10mCb.tif\n"
          ],
          "name": "stdout"
        }
      ]
    },
    {
      "cell_type": "code",
      "metadata": {
        "id": "wOH6dOx6vt1H"
      },
      "source": [
        "import pandas as pd\n",
        "import numpy as np\n",
        "import matplotlib.pyplot as plt\n",
        "from mpl_toolkits.mplot3d import Axes3D"
      ],
      "execution_count": null,
      "outputs": []
    },
    {
      "cell_type": "code",
      "metadata": {
        "id": "2ArGH8fgx7fY"
      },
      "source": [
        "def read_data(datasetname):\n",
        "  # read txt, create a dataframe\n",
        "  datasetname = pd.read_csv(datasetname + '.txt', sep=',')\n",
        "  return datasetname\n",
        "\n",
        "def strip_whitespace(datdat):\n",
        "  # strip whitespace in column name\n",
        "  datdat.rename(columns=lambda x: x.strip(), inplace=True)\n",
        "  datdat = datdat.rename(columns=lambda x: x.strip())\n",
        "  return datdat"
      ],
      "execution_count": null,
      "outputs": []
    },
    {
      "cell_type": "code",
      "metadata": {
        "id": "AnvUwm0cyPpb"
      },
      "source": [
        "arr=['polar_south_80_summer_max','polar_south_80_winter_min','polar_south_80_sw_max_diff'] #these are the same with .txt file names. we assign the dataframes by the same name.\n",
        "for i in range(len(arr)):\n",
        "  arr[i]=read_data(arr[i])\n",
        "  arr[i]=strip_whitespace(arr[i])\n",
        "  "
      ],
      "execution_count": null,
      "outputs": []
    },
    {
      "cell_type": "code",
      "metadata": {
        "id": "eJO1pC5p0kg0",
        "outputId": "05470212-a4f5-4561-d07e-abbc5f9feb4e",
        "colab": {
          "base_uri": "https://localhost:8080/",
          "height": 195
        }
      },
      "source": [
        "polar_south_80_summer_max.head()"
      ],
      "execution_count": null,
      "outputs": [
        {
          "output_type": "execute_result",
          "data": {
            "text/html": [
              "<div>\n",
              "<style scoped>\n",
              "    .dataframe tbody tr th:only-of-type {\n",
              "        vertical-align: middle;\n",
              "    }\n",
              "\n",
              "    .dataframe tbody tr th {\n",
              "        vertical-align: top;\n",
              "    }\n",
              "\n",
              "    .dataframe thead th {\n",
              "        text-align: right;\n",
              "    }\n",
              "</style>\n",
              "<table border=\"1\" class=\"dataframe\">\n",
              "  <thead>\n",
              "    <tr style=\"text-align: right;\">\n",
              "      <th></th>\n",
              "      <th>x</th>\n",
              "      <th>y</th>\n",
              "      <th>clon</th>\n",
              "      <th>clat</th>\n",
              "      <th>tbol</th>\n",
              "    </tr>\n",
              "  </thead>\n",
              "  <tbody>\n",
              "    <tr>\n",
              "      <th>0</th>\n",
              "      <td>-0.006770</td>\n",
              "      <td>0.174908</td>\n",
              "      <td>-2.216503</td>\n",
              "      <td>-79.996484</td>\n",
              "      <td>236.619217</td>\n",
              "    </tr>\n",
              "    <tr>\n",
              "      <th>1</th>\n",
              "      <td>-0.006632</td>\n",
              "      <td>0.174908</td>\n",
              "      <td>-2.171312</td>\n",
              "      <td>-79.996784</td>\n",
              "      <td>184.231064</td>\n",
              "    </tr>\n",
              "    <tr>\n",
              "      <th>2</th>\n",
              "      <td>-0.006493</td>\n",
              "      <td>0.174908</td>\n",
              "      <td>-2.126118</td>\n",
              "      <td>-79.997079</td>\n",
              "      <td>278.650818</td>\n",
              "    </tr>\n",
              "    <tr>\n",
              "      <th>3</th>\n",
              "      <td>-0.006355</td>\n",
              "      <td>0.174908</td>\n",
              "      <td>-2.080922</td>\n",
              "      <td>-79.997367</td>\n",
              "      <td>241.225204</td>\n",
              "    </tr>\n",
              "    <tr>\n",
              "      <th>4</th>\n",
              "      <td>-0.006217</td>\n",
              "      <td>0.174908</td>\n",
              "      <td>-2.035723</td>\n",
              "      <td>-79.997649</td>\n",
              "      <td>288.323425</td>\n",
              "    </tr>\n",
              "  </tbody>\n",
              "</table>\n",
              "</div>"
            ],
            "text/plain": [
              "          x         y      clon       clat        tbol\n",
              "0 -0.006770  0.174908 -2.216503 -79.996484  236.619217\n",
              "1 -0.006632  0.174908 -2.171312 -79.996784  184.231064\n",
              "2 -0.006493  0.174908 -2.126118 -79.997079  278.650818\n",
              "3 -0.006355  0.174908 -2.080922 -79.997367  241.225204\n",
              "4 -0.006217  0.174908 -2.035723 -79.997649  288.323425"
            ]
          },
          "metadata": {
            "tags": []
          },
          "execution_count": 112
        }
      ]
    },
    {
      "cell_type": "code",
      "metadata": {
        "id": "aTH8MevzSFSe",
        "outputId": "611f62d9-ae38-4e4b-f784-fcac43430233",
        "colab": {
          "base_uri": "https://localhost:8080/"
        }
      },
      "source": [
        "polar_south_80_summer_max.info()"
      ],
      "execution_count": null,
      "outputs": [
        {
          "output_type": "stream",
          "text": [
            "<class 'pandas.core.frame.DataFrame'>\n",
            "RangeIndex: 5043426 entries, 0 to 5043425\n",
            "Data columns (total 5 columns):\n",
            " #   Column  Dtype  \n",
            "---  ------  -----  \n",
            " 0   x       float64\n",
            " 1   y       float64\n",
            " 2   clon    float64\n",
            " 3   clat    float64\n",
            " 4   tbol    float64\n",
            "dtypes: float64(5)\n",
            "memory usage: 192.4 MB\n"
          ],
          "name": "stdout"
        }
      ]
    },
    {
      "cell_type": "code",
      "metadata": {
        "id": "pzJk5OMuSIAl",
        "outputId": "b19afa38-04a1-4c54-df83-9e828672e0b7",
        "colab": {
          "base_uri": "https://localhost:8080/",
          "height": 284
        }
      },
      "source": [
        "polar_south_80_summer_max.describe()"
      ],
      "execution_count": null,
      "outputs": [
        {
          "output_type": "execute_result",
          "data": {
            "text/html": [
              "<div>\n",
              "<style scoped>\n",
              "    .dataframe tbody tr th:only-of-type {\n",
              "        vertical-align: middle;\n",
              "    }\n",
              "\n",
              "    .dataframe tbody tr th {\n",
              "        vertical-align: top;\n",
              "    }\n",
              "\n",
              "    .dataframe thead th {\n",
              "        text-align: right;\n",
              "    }\n",
              "</style>\n",
              "<table border=\"1\" class=\"dataframe\">\n",
              "  <thead>\n",
              "    <tr style=\"text-align: right;\">\n",
              "      <th></th>\n",
              "      <th>x</th>\n",
              "      <th>y</th>\n",
              "      <th>clon</th>\n",
              "      <th>clat</th>\n",
              "      <th>tbol</th>\n",
              "    </tr>\n",
              "  </thead>\n",
              "  <tbody>\n",
              "    <tr>\n",
              "      <th>count</th>\n",
              "      <td>5.043426e+06</td>\n",
              "      <td>5.043426e+06</td>\n",
              "      <td>5.043426e+06</td>\n",
              "      <td>5.043426e+06</td>\n",
              "      <td>5.043426e+06</td>\n",
              "    </tr>\n",
              "    <tr>\n",
              "      <th>mean</th>\n",
              "      <td>6.432853e-07</td>\n",
              "      <td>-2.453110e-07</td>\n",
              "      <td>4.542231e-02</td>\n",
              "      <td>-8.332376e+01</td>\n",
              "      <td>2.327942e+02</td>\n",
              "    </tr>\n",
              "    <tr>\n",
              "      <th>std</th>\n",
              "      <td>8.752537e-02</td>\n",
              "      <td>8.752556e-02</td>\n",
              "      <td>1.039229e+02</td>\n",
              "      <td>2.356805e+00</td>\n",
              "      <td>4.828128e+01</td>\n",
              "    </tr>\n",
              "    <tr>\n",
              "      <th>min</th>\n",
              "      <td>-1.749080e-01</td>\n",
              "      <td>-1.749080e-01</td>\n",
              "      <td>-1.799547e+02</td>\n",
              "      <td>-9.000000e+01</td>\n",
              "      <td>4.489028e+01</td>\n",
              "    </tr>\n",
              "    <tr>\n",
              "      <th>25%</th>\n",
              "      <td>-7.073700e-02</td>\n",
              "      <td>-7.073700e-02</td>\n",
              "      <td>-9.000000e+01</td>\n",
              "      <td>-8.498832e+01</td>\n",
              "      <td>2.175041e+02</td>\n",
              "    </tr>\n",
              "    <tr>\n",
              "      <th>50%</th>\n",
              "      <td>0.000000e+00</td>\n",
              "      <td>-0.000000e+00</td>\n",
              "      <td>4.556300e-02</td>\n",
              "      <td>-8.291693e+01</td>\n",
              "      <td>2.419048e+02</td>\n",
              "    </tr>\n",
              "    <tr>\n",
              "      <th>75%</th>\n",
              "      <td>7.073700e-02</td>\n",
              "      <td>7.073700e-02</td>\n",
              "      <td>9.004539e+01</td>\n",
              "      <td>-8.133064e+01</td>\n",
              "      <td>2.628466e+02</td>\n",
              "    </tr>\n",
              "    <tr>\n",
              "      <th>max</th>\n",
              "      <td>1.749080e-01</td>\n",
              "      <td>1.749080e-01</td>\n",
              "      <td>1.800000e+02</td>\n",
              "      <td>-7.999471e+01</td>\n",
              "      <td>4.389996e+02</td>\n",
              "    </tr>\n",
              "  </tbody>\n",
              "</table>\n",
              "</div>"
            ],
            "text/plain": [
              "                  x             y          clon          clat          tbol\n",
              "count  5.043426e+06  5.043426e+06  5.043426e+06  5.043426e+06  5.043426e+06\n",
              "mean   6.432853e-07 -2.453110e-07  4.542231e-02 -8.332376e+01  2.327942e+02\n",
              "std    8.752537e-02  8.752556e-02  1.039229e+02  2.356805e+00  4.828128e+01\n",
              "min   -1.749080e-01 -1.749080e-01 -1.799547e+02 -9.000000e+01  4.489028e+01\n",
              "25%   -7.073700e-02 -7.073700e-02 -9.000000e+01 -8.498832e+01  2.175041e+02\n",
              "50%    0.000000e+00 -0.000000e+00  4.556300e-02 -8.291693e+01  2.419048e+02\n",
              "75%    7.073700e-02  7.073700e-02  9.004539e+01 -8.133064e+01  2.628466e+02\n",
              "max    1.749080e-01  1.749080e-01  1.800000e+02 -7.999471e+01  4.389996e+02"
            ]
          },
          "metadata": {
            "tags": []
          },
          "execution_count": 114
        }
      ]
    },
    {
      "cell_type": "code",
      "metadata": {
        "id": "CSPvqWslSnbb",
        "outputId": "1f847955-36bf-4a95-8354-b6936668d8d2",
        "colab": {
          "base_uri": "https://localhost:8080/",
          "height": 195
        }
      },
      "source": [
        "polar_south_80_winter_min.head()"
      ],
      "execution_count": null,
      "outputs": [
        {
          "output_type": "execute_result",
          "data": {
            "text/html": [
              "<div>\n",
              "<style scoped>\n",
              "    .dataframe tbody tr th:only-of-type {\n",
              "        vertical-align: middle;\n",
              "    }\n",
              "\n",
              "    .dataframe tbody tr th {\n",
              "        vertical-align: top;\n",
              "    }\n",
              "\n",
              "    .dataframe thead th {\n",
              "        text-align: right;\n",
              "    }\n",
              "</style>\n",
              "<table border=\"1\" class=\"dataframe\">\n",
              "  <thead>\n",
              "    <tr style=\"text-align: right;\">\n",
              "      <th></th>\n",
              "      <th>x</th>\n",
              "      <th>y</th>\n",
              "      <th>clon</th>\n",
              "      <th>clat</th>\n",
              "      <th>tbol</th>\n",
              "    </tr>\n",
              "  </thead>\n",
              "  <tbody>\n",
              "    <tr>\n",
              "      <th>0</th>\n",
              "      <td>-0.006908</td>\n",
              "      <td>0.174908</td>\n",
              "      <td>-2.261691</td>\n",
              "      <td>-79.996177</td>\n",
              "      <td>63.289589</td>\n",
              "    </tr>\n",
              "    <tr>\n",
              "      <th>1</th>\n",
              "      <td>-0.006770</td>\n",
              "      <td>0.174908</td>\n",
              "      <td>-2.216503</td>\n",
              "      <td>-79.996484</td>\n",
              "      <td>74.312469</td>\n",
              "    </tr>\n",
              "    <tr>\n",
              "      <th>2</th>\n",
              "      <td>-0.006632</td>\n",
              "      <td>0.174908</td>\n",
              "      <td>-2.171312</td>\n",
              "      <td>-79.996784</td>\n",
              "      <td>67.112411</td>\n",
              "    </tr>\n",
              "    <tr>\n",
              "      <th>3</th>\n",
              "      <td>-0.006493</td>\n",
              "      <td>0.174908</td>\n",
              "      <td>-2.126118</td>\n",
              "      <td>-79.997079</td>\n",
              "      <td>63.632652</td>\n",
              "    </tr>\n",
              "    <tr>\n",
              "      <th>4</th>\n",
              "      <td>-0.006355</td>\n",
              "      <td>0.174908</td>\n",
              "      <td>-2.080922</td>\n",
              "      <td>-79.997367</td>\n",
              "      <td>71.600967</td>\n",
              "    </tr>\n",
              "  </tbody>\n",
              "</table>\n",
              "</div>"
            ],
            "text/plain": [
              "          x         y      clon       clat       tbol\n",
              "0 -0.006908  0.174908 -2.261691 -79.996177  63.289589\n",
              "1 -0.006770  0.174908 -2.216503 -79.996484  74.312469\n",
              "2 -0.006632  0.174908 -2.171312 -79.996784  67.112411\n",
              "3 -0.006493  0.174908 -2.126118 -79.997079  63.632652\n",
              "4 -0.006355  0.174908 -2.080922 -79.997367  71.600967"
            ]
          },
          "metadata": {
            "tags": []
          },
          "execution_count": 115
        }
      ]
    },
    {
      "cell_type": "code",
      "metadata": {
        "id": "64Q_Z1bpSo6j",
        "outputId": "0a251a3a-cf0c-42f6-875b-2865a0fdada3",
        "colab": {
          "base_uri": "https://localhost:8080/"
        }
      },
      "source": [
        "polar_south_80_winter_min.info()"
      ],
      "execution_count": null,
      "outputs": [
        {
          "output_type": "stream",
          "text": [
            "<class 'pandas.core.frame.DataFrame'>\n",
            "RangeIndex: 5043383 entries, 0 to 5043382\n",
            "Data columns (total 5 columns):\n",
            " #   Column  Dtype  \n",
            "---  ------  -----  \n",
            " 0   x       float64\n",
            " 1   y       float64\n",
            " 2   clon    float64\n",
            " 3   clat    float64\n",
            " 4   tbol    float64\n",
            "dtypes: float64(5)\n",
            "memory usage: 192.4 MB\n"
          ],
          "name": "stdout"
        }
      ]
    },
    {
      "cell_type": "code",
      "metadata": {
        "id": "69xjjR3tSqhO",
        "outputId": "47889b72-fc39-46b2-9106-44d1929bc980",
        "colab": {
          "base_uri": "https://localhost:8080/",
          "height": 284
        }
      },
      "source": [
        "polar_south_80_winter_min.describe()"
      ],
      "execution_count": null,
      "outputs": [
        {
          "output_type": "execute_result",
          "data": {
            "text/html": [
              "<div>\n",
              "<style scoped>\n",
              "    .dataframe tbody tr th:only-of-type {\n",
              "        vertical-align: middle;\n",
              "    }\n",
              "\n",
              "    .dataframe tbody tr th {\n",
              "        vertical-align: top;\n",
              "    }\n",
              "\n",
              "    .dataframe thead th {\n",
              "        text-align: right;\n",
              "    }\n",
              "</style>\n",
              "<table border=\"1\" class=\"dataframe\">\n",
              "  <thead>\n",
              "    <tr style=\"text-align: right;\">\n",
              "      <th></th>\n",
              "      <th>x</th>\n",
              "      <th>y</th>\n",
              "      <th>clon</th>\n",
              "      <th>clat</th>\n",
              "      <th>tbol</th>\n",
              "    </tr>\n",
              "  </thead>\n",
              "  <tbody>\n",
              "    <tr>\n",
              "      <th>count</th>\n",
              "      <td>5.043383e+06</td>\n",
              "      <td>5.043383e+06</td>\n",
              "      <td>5.043383e+06</td>\n",
              "      <td>5.043383e+06</td>\n",
              "      <td>5.043383e+06</td>\n",
              "    </tr>\n",
              "    <tr>\n",
              "      <th>mean</th>\n",
              "      <td>2.079140e-08</td>\n",
              "      <td>-6.695355e-07</td>\n",
              "      <td>4.540867e-02</td>\n",
              "      <td>-8.332379e+01</td>\n",
              "      <td>5.572158e+01</td>\n",
              "    </tr>\n",
              "    <tr>\n",
              "      <th>std</th>\n",
              "      <td>8.752483e-02</td>\n",
              "      <td>8.752536e-02</td>\n",
              "      <td>1.039231e+02</td>\n",
              "      <td>2.356795e+00</td>\n",
              "      <td>1.315201e+01</td>\n",
              "    </tr>\n",
              "    <tr>\n",
              "      <th>min</th>\n",
              "      <td>-1.749080e-01</td>\n",
              "      <td>-1.749080e-01</td>\n",
              "      <td>-1.799547e+02</td>\n",
              "      <td>-9.000000e+01</td>\n",
              "      <td>6.568587e+00</td>\n",
              "    </tr>\n",
              "    <tr>\n",
              "      <th>25%</th>\n",
              "      <td>-7.073700e-02</td>\n",
              "      <td>-7.073700e-02</td>\n",
              "      <td>-8.995465e+01</td>\n",
              "      <td>-8.498833e+01</td>\n",
              "      <td>4.612692e+01</td>\n",
              "    </tr>\n",
              "    <tr>\n",
              "      <th>50%</th>\n",
              "      <td>0.000000e+00</td>\n",
              "      <td>-0.000000e+00</td>\n",
              "      <td>4.540100e-02</td>\n",
              "      <td>-8.291699e+01</td>\n",
              "      <td>5.788851e+01</td>\n",
              "    </tr>\n",
              "    <tr>\n",
              "      <th>75%</th>\n",
              "      <td>7.073700e-02</td>\n",
              "      <td>7.073700e-02</td>\n",
              "      <td>9.004571e+01</td>\n",
              "      <td>-8.133066e+01</td>\n",
              "      <td>6.542851e+01</td>\n",
              "    </tr>\n",
              "    <tr>\n",
              "      <th>max</th>\n",
              "      <td>1.749080e-01</td>\n",
              "      <td>1.749080e-01</td>\n",
              "      <td>1.800000e+02</td>\n",
              "      <td>-7.999461e+01</td>\n",
              "      <td>2.858426e+02</td>\n",
              "    </tr>\n",
              "  </tbody>\n",
              "</table>\n",
              "</div>"
            ],
            "text/plain": [
              "                  x             y          clon          clat          tbol\n",
              "count  5.043383e+06  5.043383e+06  5.043383e+06  5.043383e+06  5.043383e+06\n",
              "mean   2.079140e-08 -6.695355e-07  4.540867e-02 -8.332379e+01  5.572158e+01\n",
              "std    8.752483e-02  8.752536e-02  1.039231e+02  2.356795e+00  1.315201e+01\n",
              "min   -1.749080e-01 -1.749080e-01 -1.799547e+02 -9.000000e+01  6.568587e+00\n",
              "25%   -7.073700e-02 -7.073700e-02 -8.995465e+01 -8.498833e+01  4.612692e+01\n",
              "50%    0.000000e+00 -0.000000e+00  4.540100e-02 -8.291699e+01  5.788851e+01\n",
              "75%    7.073700e-02  7.073700e-02  9.004571e+01 -8.133066e+01  6.542851e+01\n",
              "max    1.749080e-01  1.749080e-01  1.800000e+02 -7.999461e+01  2.858426e+02"
            ]
          },
          "metadata": {
            "tags": []
          },
          "execution_count": 117
        }
      ]
    },
    {
      "cell_type": "code",
      "metadata": {
        "id": "J43flbi7Sr7h",
        "outputId": "9ce7c214-8ec3-46ff-c13f-1764d83c0602",
        "colab": {
          "base_uri": "https://localhost:8080/",
          "height": 195
        }
      },
      "source": [
        "polar_south_80_sw_max_diff.head()"
      ],
      "execution_count": null,
      "outputs": [
        {
          "output_type": "execute_result",
          "data": {
            "text/html": [
              "<div>\n",
              "<style scoped>\n",
              "    .dataframe tbody tr th:only-of-type {\n",
              "        vertical-align: middle;\n",
              "    }\n",
              "\n",
              "    .dataframe tbody tr th {\n",
              "        vertical-align: top;\n",
              "    }\n",
              "\n",
              "    .dataframe thead th {\n",
              "        text-align: right;\n",
              "    }\n",
              "</style>\n",
              "<table border=\"1\" class=\"dataframe\">\n",
              "  <thead>\n",
              "    <tr style=\"text-align: right;\">\n",
              "      <th></th>\n",
              "      <th>x</th>\n",
              "      <th>y</th>\n",
              "      <th>clon</th>\n",
              "      <th>clat</th>\n",
              "      <th>tbol</th>\n",
              "    </tr>\n",
              "  </thead>\n",
              "  <tbody>\n",
              "    <tr>\n",
              "      <th>0</th>\n",
              "      <td>-0.006770</td>\n",
              "      <td>0.174908</td>\n",
              "      <td>-2.216503</td>\n",
              "      <td>-79.996484</td>\n",
              "      <td>155.635345</td>\n",
              "    </tr>\n",
              "    <tr>\n",
              "      <th>1</th>\n",
              "      <td>-0.006632</td>\n",
              "      <td>0.174908</td>\n",
              "      <td>-2.171312</td>\n",
              "      <td>-79.996784</td>\n",
              "      <td>104.292503</td>\n",
              "    </tr>\n",
              "    <tr>\n",
              "      <th>2</th>\n",
              "      <td>-0.006493</td>\n",
              "      <td>0.174908</td>\n",
              "      <td>-2.126118</td>\n",
              "      <td>-79.997079</td>\n",
              "      <td>190.774017</td>\n",
              "    </tr>\n",
              "    <tr>\n",
              "      <th>3</th>\n",
              "      <td>-0.006355</td>\n",
              "      <td>0.174908</td>\n",
              "      <td>-2.080922</td>\n",
              "      <td>-79.997367</td>\n",
              "      <td>153.297531</td>\n",
              "    </tr>\n",
              "    <tr>\n",
              "      <th>4</th>\n",
              "      <td>-0.006217</td>\n",
              "      <td>0.174908</td>\n",
              "      <td>-2.035723</td>\n",
              "      <td>-79.997649</td>\n",
              "      <td>176.969238</td>\n",
              "    </tr>\n",
              "  </tbody>\n",
              "</table>\n",
              "</div>"
            ],
            "text/plain": [
              "          x         y      clon       clat        tbol\n",
              "0 -0.006770  0.174908 -2.216503 -79.996484  155.635345\n",
              "1 -0.006632  0.174908 -2.171312 -79.996784  104.292503\n",
              "2 -0.006493  0.174908 -2.126118 -79.997079  190.774017\n",
              "3 -0.006355  0.174908 -2.080922 -79.997367  153.297531\n",
              "4 -0.006217  0.174908 -2.035723 -79.997649  176.969238"
            ]
          },
          "metadata": {
            "tags": []
          },
          "execution_count": 118
        }
      ]
    },
    {
      "cell_type": "code",
      "metadata": {
        "id": "7P8lxF5OSzOK",
        "outputId": "83019087-cd3f-4d7e-e71c-5728305425d7",
        "colab": {
          "base_uri": "https://localhost:8080/"
        }
      },
      "source": [
        "polar_south_80_sw_max_diff.info()"
      ],
      "execution_count": null,
      "outputs": [
        {
          "output_type": "stream",
          "text": [
            "<class 'pandas.core.frame.DataFrame'>\n",
            "RangeIndex: 5043181 entries, 0 to 5043180\n",
            "Data columns (total 5 columns):\n",
            " #   Column  Dtype  \n",
            "---  ------  -----  \n",
            " 0   x       float64\n",
            " 1   y       float64\n",
            " 2   clon    float64\n",
            " 3   clat    float64\n",
            " 4   tbol    float64\n",
            "dtypes: float64(5)\n",
            "memory usage: 192.4 MB\n"
          ],
          "name": "stdout"
        }
      ]
    },
    {
      "cell_type": "code",
      "metadata": {
        "id": "UFeUDX3KS0hH",
        "outputId": "a440ae32-714d-44bd-cdf0-6692353d11a8",
        "colab": {
          "base_uri": "https://localhost:8080/",
          "height": 284
        }
      },
      "source": [
        "polar_south_80_sw_max_diff.describe()"
      ],
      "execution_count": null,
      "outputs": [
        {
          "output_type": "execute_result",
          "data": {
            "text/html": [
              "<div>\n",
              "<style scoped>\n",
              "    .dataframe tbody tr th:only-of-type {\n",
              "        vertical-align: middle;\n",
              "    }\n",
              "\n",
              "    .dataframe tbody tr th {\n",
              "        vertical-align: top;\n",
              "    }\n",
              "\n",
              "    .dataframe thead th {\n",
              "        text-align: right;\n",
              "    }\n",
              "</style>\n",
              "<table border=\"1\" class=\"dataframe\">\n",
              "  <thead>\n",
              "    <tr style=\"text-align: right;\">\n",
              "      <th></th>\n",
              "      <th>x</th>\n",
              "      <th>y</th>\n",
              "      <th>clon</th>\n",
              "      <th>clat</th>\n",
              "      <th>tbol</th>\n",
              "    </tr>\n",
              "  </thead>\n",
              "  <tbody>\n",
              "    <tr>\n",
              "      <th>count</th>\n",
              "      <td>5.043181e+06</td>\n",
              "      <td>5.043181e+06</td>\n",
              "      <td>5.043181e+06</td>\n",
              "      <td>5.043181e+06</td>\n",
              "      <td>5.043181e+06</td>\n",
              "    </tr>\n",
              "    <tr>\n",
              "      <th>mean</th>\n",
              "      <td>1.557128e-07</td>\n",
              "      <td>-7.770332e-07</td>\n",
              "      <td>4.538136e-02</td>\n",
              "      <td>-8.332392e+01</td>\n",
              "      <td>2.295297e+01</td>\n",
              "    </tr>\n",
              "    <tr>\n",
              "      <th>std</th>\n",
              "      <td>8.752312e-02</td>\n",
              "      <td>8.752356e-02</td>\n",
              "      <td>1.039232e+02</td>\n",
              "      <td>2.356748e+00</td>\n",
              "      <td>3.296587e+01</td>\n",
              "    </tr>\n",
              "    <tr>\n",
              "      <th>min</th>\n",
              "      <td>-1.749080e-01</td>\n",
              "      <td>-1.749080e-01</td>\n",
              "      <td>-1.799547e+02</td>\n",
              "      <td>-9.000000e+01</td>\n",
              "      <td>-3.516243e+02</td>\n",
              "    </tr>\n",
              "    <tr>\n",
              "      <th>25%</th>\n",
              "      <td>-7.073700e-02</td>\n",
              "      <td>-7.073700e-02</td>\n",
              "      <td>-9.000000e+01</td>\n",
              "      <td>-8.498855e+01</td>\n",
              "      <td>6.827057e+00</td>\n",
              "    </tr>\n",
              "    <tr>\n",
              "      <th>50%</th>\n",
              "      <td>0.000000e+00</td>\n",
              "      <td>-0.000000e+00</td>\n",
              "      <td>4.540100e-02</td>\n",
              "      <td>-8.291707e+01</td>\n",
              "      <td>1.235234e+01</td>\n",
              "    </tr>\n",
              "    <tr>\n",
              "      <th>75%</th>\n",
              "      <td>7.073700e-02</td>\n",
              "      <td>7.073700e-02</td>\n",
              "      <td>9.004573e+01</td>\n",
              "      <td>-8.133086e+01</td>\n",
              "      <td>2.228523e+01</td>\n",
              "    </tr>\n",
              "    <tr>\n",
              "      <th>max</th>\n",
              "      <td>1.749080e-01</td>\n",
              "      <td>1.749080e-01</td>\n",
              "      <td>1.800000e+02</td>\n",
              "      <td>-7.999499e+01</td>\n",
              "      <td>3.423568e+02</td>\n",
              "    </tr>\n",
              "  </tbody>\n",
              "</table>\n",
              "</div>"
            ],
            "text/plain": [
              "                  x             y          clon          clat          tbol\n",
              "count  5.043181e+06  5.043181e+06  5.043181e+06  5.043181e+06  5.043181e+06\n",
              "mean   1.557128e-07 -7.770332e-07  4.538136e-02 -8.332392e+01  2.295297e+01\n",
              "std    8.752312e-02  8.752356e-02  1.039232e+02  2.356748e+00  3.296587e+01\n",
              "min   -1.749080e-01 -1.749080e-01 -1.799547e+02 -9.000000e+01 -3.516243e+02\n",
              "25%   -7.073700e-02 -7.073700e-02 -9.000000e+01 -8.498855e+01  6.827057e+00\n",
              "50%    0.000000e+00 -0.000000e+00  4.540100e-02 -8.291707e+01  1.235234e+01\n",
              "75%    7.073700e-02  7.073700e-02  9.004573e+01 -8.133086e+01  2.228523e+01\n",
              "max    1.749080e-01  1.749080e-01  1.800000e+02 -7.999499e+01  3.423568e+02"
            ]
          },
          "metadata": {
            "tags": []
          },
          "execution_count": 120
        }
      ]
    }
  ]
}