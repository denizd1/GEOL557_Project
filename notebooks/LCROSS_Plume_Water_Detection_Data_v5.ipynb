{
  "nbformat": 4,
  "nbformat_minor": 0,
  "metadata": {
    "colab": {
      "name": "LCROSS Plume Water Detection Data_v5.ipynb",
      "provenance": [],
      "collapsed_sections": [],
      "include_colab_link": true
    },
    "kernelspec": {
      "name": "python3",
      "display_name": "Python 3"
    }
  },
  "cells": [
    {
      "cell_type": "markdown",
      "metadata": {
        "id": "view-in-github",
        "colab_type": "text"
      },
      "source": [
        "<a href=\"https://colab.research.google.com/github/denizd1/GEOL557_Project/blob/main/notebooks/LCROSS_Plume_Water_Detection_Data_v5.ipynb\" target=\"_parent\"><img src=\"https://colab.research.google.com/assets/colab-badge.svg\" alt=\"Open In Colab\"/></a>"
      ]
    },
    {
      "cell_type": "markdown",
      "metadata": {
        "id": "1rROLu0tRzxa"
      },
      "source": [
        "LCROSS Plume Water Detection Data\n",
        "\n"
      ]
    },
    {
      "cell_type": "markdown",
      "metadata": {
        "id": "i8vjH9QRyNQk"
      },
      "source": [
        "The goal of this section is to make a dataframe of the molecular abundance from the LCROSS impact in the Cabeus crater near the Lunar South Pole. The original data is from (Colaprete, et al., 2010) Table 2.\n"
      ]
    },
    {
      "cell_type": "markdown",
      "metadata": {
        "id": "kDt8id1MycqX"
      },
      "source": [
        "Colaprete, A., Schultz, P., Heldmann, J., Wooden, D., Shirley, M., Ennico, K., .\n",
        ".. & Goldstein, D. (2010). Detection of water in the LCROSS ejecta plume. Science, 330(6003), 463-468."
      ]
    },
    {
      "cell_type": "markdown",
      "metadata": {
        "id": "YWwqYr7VygS5"
      },
      "source": [
        "These data were published in percentages relative to water. This is a hard way to read the data so Chris Dreyer and George Sowers converted them to weight percent. They provided the updated table to us in a personel communication Spring 2020."
      ]
    },
    {
      "cell_type": "markdown",
      "metadata": {
        "id": "a15phzZIv1Hb"
      },
      "source": [
        "\n",
        "------------------------------------------------------------------------\n",
        "![ColapreteA_2010_LCROSS_Plume_Water_Detection_CorrectedTable_from_GeorgeandChris [2].png](data:image/png;base64,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) "
      ]
    },
    {
      "cell_type": "code",
      "metadata": {
        "id": "1GzuRFlLSCB0"
      },
      "source": [
        "#import key packages\n",
        "import pandas as pd\n",
        "import matplotlib.pyplot as plt"
      ],
      "execution_count": null,
      "outputs": []
    },
    {
      "cell_type": "code",
      "metadata": {
        "id": "LuSLg_XcSEUR",
        "outputId": "f711b812-c335-4df7-e67f-87503a2d610f",
        "colab": {
          "base_uri": "https://localhost:8080/",
          "height": 452
        }
      },
      "source": [
        "#first method of creating a pandas dataframe. In this we manually created a dictionary of the values and converted to a dataframe. \n",
        "data = {'Compound':['water', 'hydrogen sulfide', 'hydrogen gas', 'carbon monoxide', 'calcium', 'ammonia','mercury','magnesium','sulfur dioxide','ethylene','carbon dioxide','methanol','methane'],\n",
        "        'Symbol':['H2O','H2S','H2','CO','Ca','NH3','Hg','Mg','SO2','C2H4','CO2','CH3OH','CH4'],\n",
        "        'Concentration (wt%)':[5.5,0.92,0.69,0.57,0.4,0.33,0.24,0.19,0.18,0.17,0.12,0.09,0.04]}\n",
        "df = pd.DataFrame(data)\n",
        "df"
      ],
      "execution_count": null,
      "outputs": [
        {
          "output_type": "execute_result",
          "data": {
            "text/html": [
              "<div>\n",
              "<style scoped>\n",
              "    .dataframe tbody tr th:only-of-type {\n",
              "        vertical-align: middle;\n",
              "    }\n",
              "\n",
              "    .dataframe tbody tr th {\n",
              "        vertical-align: top;\n",
              "    }\n",
              "\n",
              "    .dataframe thead th {\n",
              "        text-align: right;\n",
              "    }\n",
              "</style>\n",
              "<table border=\"1\" class=\"dataframe\">\n",
              "  <thead>\n",
              "    <tr style=\"text-align: right;\">\n",
              "      <th></th>\n",
              "      <th>Compound</th>\n",
              "      <th>Symbol</th>\n",
              "      <th>Concentration (wt%)</th>\n",
              "    </tr>\n",
              "  </thead>\n",
              "  <tbody>\n",
              "    <tr>\n",
              "      <th>0</th>\n",
              "      <td>water</td>\n",
              "      <td>H2O</td>\n",
              "      <td>5.50</td>\n",
              "    </tr>\n",
              "    <tr>\n",
              "      <th>1</th>\n",
              "      <td>hydrogen sulfide</td>\n",
              "      <td>H2S</td>\n",
              "      <td>0.92</td>\n",
              "    </tr>\n",
              "    <tr>\n",
              "      <th>2</th>\n",
              "      <td>hydrogen gas</td>\n",
              "      <td>H2</td>\n",
              "      <td>0.69</td>\n",
              "    </tr>\n",
              "    <tr>\n",
              "      <th>3</th>\n",
              "      <td>carbon monoxide</td>\n",
              "      <td>CO</td>\n",
              "      <td>0.57</td>\n",
              "    </tr>\n",
              "    <tr>\n",
              "      <th>4</th>\n",
              "      <td>calcium</td>\n",
              "      <td>Ca</td>\n",
              "      <td>0.40</td>\n",
              "    </tr>\n",
              "    <tr>\n",
              "      <th>5</th>\n",
              "      <td>ammonia</td>\n",
              "      <td>NH3</td>\n",
              "      <td>0.33</td>\n",
              "    </tr>\n",
              "    <tr>\n",
              "      <th>6</th>\n",
              "      <td>mercury</td>\n",
              "      <td>Hg</td>\n",
              "      <td>0.24</td>\n",
              "    </tr>\n",
              "    <tr>\n",
              "      <th>7</th>\n",
              "      <td>magnesium</td>\n",
              "      <td>Mg</td>\n",
              "      <td>0.19</td>\n",
              "    </tr>\n",
              "    <tr>\n",
              "      <th>8</th>\n",
              "      <td>sulfur dioxide</td>\n",
              "      <td>SO2</td>\n",
              "      <td>0.18</td>\n",
              "    </tr>\n",
              "    <tr>\n",
              "      <th>9</th>\n",
              "      <td>ethylene</td>\n",
              "      <td>C2H4</td>\n",
              "      <td>0.17</td>\n",
              "    </tr>\n",
              "    <tr>\n",
              "      <th>10</th>\n",
              "      <td>carbon dioxide</td>\n",
              "      <td>CO2</td>\n",
              "      <td>0.12</td>\n",
              "    </tr>\n",
              "    <tr>\n",
              "      <th>11</th>\n",
              "      <td>methanol</td>\n",
              "      <td>CH3OH</td>\n",
              "      <td>0.09</td>\n",
              "    </tr>\n",
              "    <tr>\n",
              "      <th>12</th>\n",
              "      <td>methane</td>\n",
              "      <td>CH4</td>\n",
              "      <td>0.04</td>\n",
              "    </tr>\n",
              "  </tbody>\n",
              "</table>\n",
              "</div>"
            ],
            "text/plain": [
              "            Compound Symbol  Concentration (wt%)\n",
              "0              water    H2O                 5.50\n",
              "1   hydrogen sulfide    H2S                 0.92\n",
              "2       hydrogen gas     H2                 0.69\n",
              "3    carbon monoxide     CO                 0.57\n",
              "4            calcium     Ca                 0.40\n",
              "5            ammonia    NH3                 0.33\n",
              "6            mercury     Hg                 0.24\n",
              "7          magnesium     Mg                 0.19\n",
              "8     sulfur dioxide    SO2                 0.18\n",
              "9           ethylene   C2H4                 0.17\n",
              "10    carbon dioxide    CO2                 0.12\n",
              "11          methanol  CH3OH                 0.09\n",
              "12           methane    CH4                 0.04"
            ]
          },
          "metadata": {
            "tags": []
          },
          "execution_count": 2
        }
      ]
    },
    {
      "cell_type": "code",
      "metadata": {
        "id": "aiC0SkZRuNkj",
        "outputId": "012d7e47-7df7-4cbb-974c-5a6076239c47",
        "colab": {
          "base_uri": "https://localhost:8080/",
          "height": 452
        }
      },
      "source": [
        "#alternate method of loading the data to a dataframe. The values were typed into an Excel file and saved as csv on GitHub. Then read from there. \n",
        "df2 = pd.read_csv('https://raw.githubusercontent.com/denizd1/GEOL557_Project/main/data/ColapreteA_2010_LCROSS_Plume_Water_Detection_CorrectedTable_from_GeorgeandChris.csv')\n",
        "df2"
      ],
      "execution_count": null,
      "outputs": [
        {
          "output_type": "execute_result",
          "data": {
            "text/html": [
              "<div>\n",
              "<style scoped>\n",
              "    .dataframe tbody tr th:only-of-type {\n",
              "        vertical-align: middle;\n",
              "    }\n",
              "\n",
              "    .dataframe tbody tr th {\n",
              "        vertical-align: top;\n",
              "    }\n",
              "\n",
              "    .dataframe thead th {\n",
              "        text-align: right;\n",
              "    }\n",
              "</style>\n",
              "<table border=\"1\" class=\"dataframe\">\n",
              "  <thead>\n",
              "    <tr style=\"text-align: right;\">\n",
              "      <th></th>\n",
              "      <th>Compound</th>\n",
              "      <th>Symbol</th>\n",
              "      <th>Concentration (wt%)</th>\n",
              "    </tr>\n",
              "  </thead>\n",
              "  <tbody>\n",
              "    <tr>\n",
              "      <th>0</th>\n",
              "      <td>water</td>\n",
              "      <td>H2O</td>\n",
              "      <td>5.50</td>\n",
              "    </tr>\n",
              "    <tr>\n",
              "      <th>1</th>\n",
              "      <td>hydrogen sulfide</td>\n",
              "      <td>H2S</td>\n",
              "      <td>0.92</td>\n",
              "    </tr>\n",
              "    <tr>\n",
              "      <th>2</th>\n",
              "      <td>hydrogen gas</td>\n",
              "      <td>H2</td>\n",
              "      <td>0.69</td>\n",
              "    </tr>\n",
              "    <tr>\n",
              "      <th>3</th>\n",
              "      <td>carbon monoxide</td>\n",
              "      <td>CO</td>\n",
              "      <td>0.57</td>\n",
              "    </tr>\n",
              "    <tr>\n",
              "      <th>4</th>\n",
              "      <td>Calcium</td>\n",
              "      <td>Ca</td>\n",
              "      <td>0.40</td>\n",
              "    </tr>\n",
              "    <tr>\n",
              "      <th>5</th>\n",
              "      <td>Ammonia</td>\n",
              "      <td>NH3</td>\n",
              "      <td>0.33</td>\n",
              "    </tr>\n",
              "    <tr>\n",
              "      <th>6</th>\n",
              "      <td>Mercury</td>\n",
              "      <td>Hg</td>\n",
              "      <td>0.24</td>\n",
              "    </tr>\n",
              "    <tr>\n",
              "      <th>7</th>\n",
              "      <td>Magnesium</td>\n",
              "      <td>Mg</td>\n",
              "      <td>0.19</td>\n",
              "    </tr>\n",
              "    <tr>\n",
              "      <th>8</th>\n",
              "      <td>Sulfur dioxide</td>\n",
              "      <td>SO2</td>\n",
              "      <td>0.18</td>\n",
              "    </tr>\n",
              "    <tr>\n",
              "      <th>9</th>\n",
              "      <td>Ethylene</td>\n",
              "      <td>C2H4</td>\n",
              "      <td>0.17</td>\n",
              "    </tr>\n",
              "    <tr>\n",
              "      <th>10</th>\n",
              "      <td>Carbon dioxide</td>\n",
              "      <td>CO2</td>\n",
              "      <td>0.12</td>\n",
              "    </tr>\n",
              "    <tr>\n",
              "      <th>11</th>\n",
              "      <td>Methanol</td>\n",
              "      <td>CH3OH</td>\n",
              "      <td>0.09</td>\n",
              "    </tr>\n",
              "    <tr>\n",
              "      <th>12</th>\n",
              "      <td>Methane</td>\n",
              "      <td>CH4</td>\n",
              "      <td>0.04</td>\n",
              "    </tr>\n",
              "  </tbody>\n",
              "</table>\n",
              "</div>"
            ],
            "text/plain": [
              "            Compound Symbol  Concentration (wt%)\n",
              "0              water    H2O                 5.50\n",
              "1   hydrogen sulfide    H2S                 0.92\n",
              "2       hydrogen gas     H2                 0.69\n",
              "3    carbon monoxide     CO                 0.57\n",
              "4            Calcium     Ca                 0.40\n",
              "5            Ammonia    NH3                 0.33\n",
              "6            Mercury     Hg                 0.24\n",
              "7          Magnesium     Mg                 0.19\n",
              "8     Sulfur dioxide    SO2                 0.18\n",
              "9           Ethylene   C2H4                 0.17\n",
              "10    Carbon dioxide    CO2                 0.12\n",
              "11          Methanol  CH3OH                 0.09\n",
              "12           Methane    CH4                 0.04"
            ]
          },
          "metadata": {
            "tags": []
          },
          "execution_count": 3
        }
      ]
    },
    {
      "cell_type": "code",
      "metadata": {
        "id": "b8MzYIGVsp1u",
        "outputId": "cd8ee6af-a853-4a8e-edf9-02ce45ac4af9",
        "colab": {
          "base_uri": "https://localhost:8080/",
          "height": 427
        }
      },
      "source": [
        "# Creating plot with the weight percent of all the molecules observed by LCROSS\n",
        "fig = plt.figure(figsize =(10, 7)) \n",
        "plt.pie(df['Concentration (wt%)'], labels = df['Compound']) \n",
        "plt.title('Compound Wt%')\n",
        "# show plot \n",
        "plt.show() "
      ],
      "execution_count": null,
      "outputs": [
        {
          "output_type": "display_data",
          "data": {
            "image/png": "[encoded data removed]",
            "text/plain": [
              "<Figure size 720x504 with 1 Axes>"
            ]
          },
          "metadata": {
            "tags": []
          }
        }
      ]
    },
    {
      "cell_type": "code",
      "metadata": {
        "id": "EYHD-gEYtwut",
        "outputId": "8bfaee89-b905-46d1-d4f4-42720c32edd9",
        "colab": {
          "base_uri": "https://localhost:8080/",
          "height": 452
        }
      },
      "source": [
        "#add a column with a boolian for the the presence of carbon or not.\n",
        "df['Carbon']=df[\"Symbol\"].str.startswith('C')\n",
        "df"
      ],
      "execution_count": null,
      "outputs": [
        {
          "output_type": "execute_result",
          "data": {
            "text/html": [
              "<div>\n",
              "<style scoped>\n",
              "    .dataframe tbody tr th:only-of-type {\n",
              "        vertical-align: middle;\n",
              "    }\n",
              "\n",
              "    .dataframe tbody tr th {\n",
              "        vertical-align: top;\n",
              "    }\n",
              "\n",
              "    .dataframe thead th {\n",
              "        text-align: right;\n",
              "    }\n",
              "</style>\n",
              "<table border=\"1\" class=\"dataframe\">\n",
              "  <thead>\n",
              "    <tr style=\"text-align: right;\">\n",
              "      <th></th>\n",
              "      <th>Compound</th>\n",
              "      <th>Symbol</th>\n",
              "      <th>Concentration (wt%)</th>\n",
              "      <th>Carbon</th>\n",
              "    </tr>\n",
              "  </thead>\n",
              "  <tbody>\n",
              "    <tr>\n",
              "      <th>0</th>\n",
              "      <td>water</td>\n",
              "      <td>H2O</td>\n",
              "      <td>5.50</td>\n",
              "      <td>False</td>\n",
              "    </tr>\n",
              "    <tr>\n",
              "      <th>1</th>\n",
              "      <td>hydrogen sulfide</td>\n",
              "      <td>H2S</td>\n",
              "      <td>0.92</td>\n",
              "      <td>False</td>\n",
              "    </tr>\n",
              "    <tr>\n",
              "      <th>2</th>\n",
              "      <td>hydrogen gas</td>\n",
              "      <td>H2</td>\n",
              "      <td>0.69</td>\n",
              "      <td>False</td>\n",
              "    </tr>\n",
              "    <tr>\n",
              "      <th>3</th>\n",
              "      <td>carbon monoxide</td>\n",
              "      <td>CO</td>\n",
              "      <td>0.57</td>\n",
              "      <td>True</td>\n",
              "    </tr>\n",
              "    <tr>\n",
              "      <th>4</th>\n",
              "      <td>calcium</td>\n",
              "      <td>Ca</td>\n",
              "      <td>0.40</td>\n",
              "      <td>True</td>\n",
              "    </tr>\n",
              "    <tr>\n",
              "      <th>5</th>\n",
              "      <td>ammonia</td>\n",
              "      <td>NH3</td>\n",
              "      <td>0.33</td>\n",
              "      <td>False</td>\n",
              "    </tr>\n",
              "    <tr>\n",
              "      <th>6</th>\n",
              "      <td>mercury</td>\n",
              "      <td>Hg</td>\n",
              "      <td>0.24</td>\n",
              "      <td>False</td>\n",
              "    </tr>\n",
              "    <tr>\n",
              "      <th>7</th>\n",
              "      <td>magnesium</td>\n",
              "      <td>Mg</td>\n",
              "      <td>0.19</td>\n",
              "      <td>False</td>\n",
              "    </tr>\n",
              "    <tr>\n",
              "      <th>8</th>\n",
              "      <td>sulfur dioxide</td>\n",
              "      <td>SO2</td>\n",
              "      <td>0.18</td>\n",
              "      <td>False</td>\n",
              "    </tr>\n",
              "    <tr>\n",
              "      <th>9</th>\n",
              "      <td>ethylene</td>\n",
              "      <td>C2H4</td>\n",
              "      <td>0.17</td>\n",
              "      <td>True</td>\n",
              "    </tr>\n",
              "    <tr>\n",
              "      <th>10</th>\n",
              "      <td>carbon dioxide</td>\n",
              "      <td>CO2</td>\n",
              "      <td>0.12</td>\n",
              "      <td>True</td>\n",
              "    </tr>\n",
              "    <tr>\n",
              "      <th>11</th>\n",
              "      <td>methanol</td>\n",
              "      <td>CH3OH</td>\n",
              "      <td>0.09</td>\n",
              "      <td>True</td>\n",
              "    </tr>\n",
              "    <tr>\n",
              "      <th>12</th>\n",
              "      <td>methane</td>\n",
              "      <td>CH4</td>\n",
              "      <td>0.04</td>\n",
              "      <td>True</td>\n",
              "    </tr>\n",
              "  </tbody>\n",
              "</table>\n",
              "</div>"
            ],
            "text/plain": [
              "            Compound Symbol  Concentration (wt%)  Carbon\n",
              "0              water    H2O                 5.50   False\n",
              "1   hydrogen sulfide    H2S                 0.92   False\n",
              "2       hydrogen gas     H2                 0.69   False\n",
              "3    carbon monoxide     CO                 0.57    True\n",
              "4            calcium     Ca                 0.40    True\n",
              "5            ammonia    NH3                 0.33   False\n",
              "6            mercury     Hg                 0.24   False\n",
              "7          magnesium     Mg                 0.19   False\n",
              "8     sulfur dioxide    SO2                 0.18   False\n",
              "9           ethylene   C2H4                 0.17    True\n",
              "10    carbon dioxide    CO2                 0.12    True\n",
              "11          methanol  CH3OH                 0.09    True\n",
              "12           methane    CH4                 0.04    True"
            ]
          },
          "metadata": {
            "tags": []
          },
          "execution_count": 5
        }
      ]
    },
    {
      "cell_type": "code",
      "metadata": {
        "id": "LFzHYLUqyPIa",
        "outputId": "d427676d-2b94-4650-e69e-a0bcbfef3cab",
        "colab": {
          "base_uri": "https://localhost:8080/",
          "height": 427
        }
      },
      "source": [
        "# Creating plot showing only the carbon beariing compounds\n",
        "fig = plt.figure(figsize =(10, 7)) \n",
        "c_only = pd.DataFrame(df.groupby(['Carbon']))\n",
        "c_only = c_only.iloc[1][1]\n",
        "plt.pie(c_only['Concentration (wt%)'], labels = c_only['Compound']) \n",
        "plt.title('Compound Wt%')\n",
        "# show plot \n",
        "plt.show() \n",
        "#df_first = df[(df.Pclass == 1)]"
      ],
      "execution_count": null,
      "outputs": [
        {
          "output_type": "display_data",
          "data": {
            "image/png": "[encoded data removed]",
            "text/plain": [
              "<Figure size 720x504 with 1 Axes>"
            ]
          },
          "metadata": {
            "tags": []
          }
        }
      ]
    },
    {
      "cell_type": "markdown",
      "metadata": {
        "id": "_FKC_Gntt6N_"
      },
      "source": [
        "We need to count atoms in the molecules. We could do this by hand in a couple of minutes but would like to do it using extensable tools. We found a package calle ChemParse. https://pypi.org/project/chemparse/"
      ]
    },
    {
      "cell_type": "code",
      "metadata": {
        "id": "_sZPvtubPuLx",
        "outputId": "ae1db3b9-f276-4d4f-bbf6-5063ec645301",
        "colab": {
          "base_uri": "https://localhost:8080/"
        }
      },
      "source": [
        "pip install chemparse #https://pypi.org/project/chemparse/"
      ],
      "execution_count": null,
      "outputs": [
        {
          "output_type": "stream",
          "text": [
            "Collecting chemparse\n",
            "  Downloading https://files.pythonhosted.org/packages/33/90/074708249c3301c97b487ae5371f4c184bedc611a1af36c3869b7ecccf3f/chemparse-0.1.0.tar.gz\n",
            "Building wheels for collected packages: chemparse\n",
            "  Building wheel for chemparse (setup.py) ... \u001b[?25l\u001b[?25hdone\n",
            "  Created wheel for chemparse: filename=chemparse-0.1.0-cp36-none-any.whl size=2913 sha256=27ec2be69af5a0c56c2955068890e411558f0193017b3ad7fa7bcf8789784184\n",
            "  Stored in directory: /root/.cache/pip/wheels/6d/14/a5/1fee5885ee2793f331fe97ce98392ab4ee79b02147bbb4a59d\n",
            "Successfully built chemparse\n",
            "Installing collected packages: chemparse\n",
            "Successfully installed chemparse-0.1.0\n"
          ],
          "name": "stdout"
        }
      ]
    },
    {
      "cell_type": "code",
      "metadata": {
        "id": "Lplw99BQPy1h",
        "outputId": "af82868d-6a1c-41a7-c141-8d5f8e192440",
        "colab": {
          "base_uri": "https://localhost:8080/"
        }
      },
      "source": [
        "import chemparse #import chemparse \n",
        "print(chemparse.parse_formula(\"C6H12O6\")) #test with given example"
      ],
      "execution_count": null,
      "outputs": [
        {
          "output_type": "stream",
          "text": [
            "{'C': 6.0, 'H': 12.0, 'O': 6.0}\n"
          ],
          "name": "stdout"
        }
      ]
    },
    {
      "cell_type": "code",
      "metadata": {
        "id": "0jGSksP4QBx0",
        "outputId": "15db8aa7-f004-4b4a-97f8-c3447323a24d",
        "colab": {
          "base_uri": "https://localhost:8080/",
          "height": 35
        }
      },
      "source": [
        "df['Symbol'].to_list()[0] #learning how to use the chemparse by simplifying the input to the first molecule in our dataframe"
      ],
      "execution_count": null,
      "outputs": [
        {
          "output_type": "execute_result",
          "data": {
            "application/vnd.google.colaboratory.intrinsic+json": {
              "type": "string"
            },
            "text/plain": [
              "'H2O'"
            ]
          },
          "metadata": {
            "tags": []
          },
          "execution_count": 9
        }
      ]
    },
    {
      "cell_type": "code",
      "metadata": {
        "id": "Z9tybamQQo2v",
        "outputId": "efcb1aa6-dc0c-4744-85b1-6bbfbd85e03a",
        "colab": {
          "base_uri": "https://localhost:8080/"
        }
      },
      "source": [
        "aa=chemparse.parse_formula(df['Symbol'].to_list()[0]) #learning how to use the chemparse by looking at the output type\n",
        "print(type(aa))"
      ],
      "execution_count": null,
      "outputs": [
        {
          "output_type": "stream",
          "text": [
            "<class 'dict'>\n"
          ],
          "name": "stdout"
        }
      ]
    },
    {
      "cell_type": "code",
      "metadata": {
        "id": "ITzyQOlLYw_m",
        "outputId": "789d430c-85a5-4c8c-df9b-a649936bdcca",
        "colab": {
          "base_uri": "https://localhost:8080/"
        }
      },
      "source": [
        "elements=[]\n",
        "for i in range(len(df['Symbol'].to_list())):\n",
        "  elements.append(chemparse.parse_formula(df['Symbol'].to_list()[i]))\n",
        "elements"
      ],
      "execution_count": null,
      "outputs": [
        {
          "output_type": "execute_result",
          "data": {
            "text/plain": [
              "[{'H': 2.0, 'O': 1.0},\n",
              " {'H': 2.0, 'S': 1.0},\n",
              " {'H': 2.0},\n",
              " {'C': 1.0, 'O': 1.0},\n",
              " {'Ca': 1.0},\n",
              " {'H': 3.0, 'N': 1.0},\n",
              " {'Hg': 1.0},\n",
              " {'Mg': 1.0},\n",
              " {'O': 2.0, 'S': 1.0},\n",
              " {'C': 2.0, 'H': 4.0},\n",
              " {'C': 1.0, 'O': 2.0},\n",
              " {'C': 1.0, 'H': 4.0, 'O': 1.0},\n",
              " {'C': 1.0, 'H': 4.0}]"
            ]
          },
          "metadata": {
            "tags": []
          },
          "execution_count": 11
        }
      ]
    },
    {
      "cell_type": "code",
      "metadata": {
        "id": "vS0JV453src2",
        "outputId": "e945d8f8-e4b3-4957-d677-5eee64e49a46",
        "colab": {
          "base_uri": "https://localhost:8080/"
        }
      },
      "source": [
        "print(type(elements)) #list of dictionaries "
      ],
      "execution_count": null,
      "outputs": [
        {
          "output_type": "stream",
          "text": [
            "<class 'list'>\n"
          ],
          "name": "stdout"
        }
      ]
    },
    {
      "cell_type": "code",
      "metadata": {
        "id": "jA8hnO59ZvJh",
        "outputId": "fedf662c-0cff-4cca-92ea-387981c6f6d7",
        "colab": {
          "base_uri": "https://localhost:8080/",
          "height": 452
        }
      },
      "source": [
        "df_e = pd.DataFrame(elements) #convert the list to a Pandas dataframe\n",
        "df_e"
      ],
      "execution_count": null,
      "outputs": [
        {
          "output_type": "execute_result",
          "data": {
            "text/html": [
              "<div>\n",
              "<style scoped>\n",
              "    .dataframe tbody tr th:only-of-type {\n",
              "        vertical-align: middle;\n",
              "    }\n",
              "\n",
              "    .dataframe tbody tr th {\n",
              "        vertical-align: top;\n",
              "    }\n",
              "\n",
              "    .dataframe thead th {\n",
              "        text-align: right;\n",
              "    }\n",
              "</style>\n",
              "<table border=\"1\" class=\"dataframe\">\n",
              "  <thead>\n",
              "    <tr style=\"text-align: right;\">\n",
              "      <th></th>\n",
              "      <th>H</th>\n",
              "      <th>O</th>\n",
              "      <th>S</th>\n",
              "      <th>C</th>\n",
              "      <th>Ca</th>\n",
              "      <th>N</th>\n",
              "      <th>Hg</th>\n",
              "      <th>Mg</th>\n",
              "    </tr>\n",
              "  </thead>\n",
              "  <tbody>\n",
              "    <tr>\n",
              "      <th>0</th>\n",
              "      <td>2.0</td>\n",
              "      <td>1.0</td>\n",
              "      <td>NaN</td>\n",
              "      <td>NaN</td>\n",
              "      <td>NaN</td>\n",
              "      <td>NaN</td>\n",
              "      <td>NaN</td>\n",
              "      <td>NaN</td>\n",
              "    </tr>\n",
              "    <tr>\n",
              "      <th>1</th>\n",
              "      <td>2.0</td>\n",
              "      <td>NaN</td>\n",
              "      <td>1.0</td>\n",
              "      <td>NaN</td>\n",
              "      <td>NaN</td>\n",
              "      <td>NaN</td>\n",
              "      <td>NaN</td>\n",
              "      <td>NaN</td>\n",
              "    </tr>\n",
              "    <tr>\n",
              "      <th>2</th>\n",
              "      <td>2.0</td>\n",
              "      <td>NaN</td>\n",
              "      <td>NaN</td>\n",
              "      <td>NaN</td>\n",
              "      <td>NaN</td>\n",
              "      <td>NaN</td>\n",
              "      <td>NaN</td>\n",
              "      <td>NaN</td>\n",
              "    </tr>\n",
              "    <tr>\n",
              "      <th>3</th>\n",
              "      <td>NaN</td>\n",
              "      <td>1.0</td>\n",
              "      <td>NaN</td>\n",
              "      <td>1.0</td>\n",
              "      <td>NaN</td>\n",
              "      <td>NaN</td>\n",
              "      <td>NaN</td>\n",
              "      <td>NaN</td>\n",
              "    </tr>\n",
              "    <tr>\n",
              "      <th>4</th>\n",
              "      <td>NaN</td>\n",
              "      <td>NaN</td>\n",
              "      <td>NaN</td>\n",
              "      <td>NaN</td>\n",
              "      <td>1.0</td>\n",
              "      <td>NaN</td>\n",
              "      <td>NaN</td>\n",
              "      <td>NaN</td>\n",
              "    </tr>\n",
              "    <tr>\n",
              "      <th>5</th>\n",
              "      <td>3.0</td>\n",
              "      <td>NaN</td>\n",
              "      <td>NaN</td>\n",
              "      <td>NaN</td>\n",
              "      <td>NaN</td>\n",
              "      <td>1.0</td>\n",
              "      <td>NaN</td>\n",
              "      <td>NaN</td>\n",
              "    </tr>\n",
              "    <tr>\n",
              "      <th>6</th>\n",
              "      <td>NaN</td>\n",
              "      <td>NaN</td>\n",
              "      <td>NaN</td>\n",
              "      <td>NaN</td>\n",
              "      <td>NaN</td>\n",
              "      <td>NaN</td>\n",
              "      <td>1.0</td>\n",
              "      <td>NaN</td>\n",
              "    </tr>\n",
              "    <tr>\n",
              "      <th>7</th>\n",
              "      <td>NaN</td>\n",
              "      <td>NaN</td>\n",
              "      <td>NaN</td>\n",
              "      <td>NaN</td>\n",
              "      <td>NaN</td>\n",
              "      <td>NaN</td>\n",
              "      <td>NaN</td>\n",
              "      <td>1.0</td>\n",
              "    </tr>\n",
              "    <tr>\n",
              "      <th>8</th>\n",
              "      <td>NaN</td>\n",
              "      <td>2.0</td>\n",
              "      <td>1.0</td>\n",
              "      <td>NaN</td>\n",
              "      <td>NaN</td>\n",
              "      <td>NaN</td>\n",
              "      <td>NaN</td>\n",
              "      <td>NaN</td>\n",
              "    </tr>\n",
              "    <tr>\n",
              "      <th>9</th>\n",
              "      <td>4.0</td>\n",
              "      <td>NaN</td>\n",
              "      <td>NaN</td>\n",
              "      <td>2.0</td>\n",
              "      <td>NaN</td>\n",
              "      <td>NaN</td>\n",
              "      <td>NaN</td>\n",
              "      <td>NaN</td>\n",
              "    </tr>\n",
              "    <tr>\n",
              "      <th>10</th>\n",
              "      <td>NaN</td>\n",
              "      <td>2.0</td>\n",
              "      <td>NaN</td>\n",
              "      <td>1.0</td>\n",
              "      <td>NaN</td>\n",
              "      <td>NaN</td>\n",
              "      <td>NaN</td>\n",
              "      <td>NaN</td>\n",
              "    </tr>\n",
              "    <tr>\n",
              "      <th>11</th>\n",
              "      <td>4.0</td>\n",
              "      <td>1.0</td>\n",
              "      <td>NaN</td>\n",
              "      <td>1.0</td>\n",
              "      <td>NaN</td>\n",
              "      <td>NaN</td>\n",
              "      <td>NaN</td>\n",
              "      <td>NaN</td>\n",
              "    </tr>\n",
              "    <tr>\n",
              "      <th>12</th>\n",
              "      <td>4.0</td>\n",
              "      <td>NaN</td>\n",
              "      <td>NaN</td>\n",
              "      <td>1.0</td>\n",
              "      <td>NaN</td>\n",
              "      <td>NaN</td>\n",
              "      <td>NaN</td>\n",
              "      <td>NaN</td>\n",
              "    </tr>\n",
              "  </tbody>\n",
              "</table>\n",
              "</div>"
            ],
            "text/plain": [
              "      H    O    S    C   Ca    N   Hg   Mg\n",
              "0   2.0  1.0  NaN  NaN  NaN  NaN  NaN  NaN\n",
              "1   2.0  NaN  1.0  NaN  NaN  NaN  NaN  NaN\n",
              "2   2.0  NaN  NaN  NaN  NaN  NaN  NaN  NaN\n",
              "3   NaN  1.0  NaN  1.0  NaN  NaN  NaN  NaN\n",
              "4   NaN  NaN  NaN  NaN  1.0  NaN  NaN  NaN\n",
              "5   3.0  NaN  NaN  NaN  NaN  1.0  NaN  NaN\n",
              "6   NaN  NaN  NaN  NaN  NaN  NaN  1.0  NaN\n",
              "7   NaN  NaN  NaN  NaN  NaN  NaN  NaN  1.0\n",
              "8   NaN  2.0  1.0  NaN  NaN  NaN  NaN  NaN\n",
              "9   4.0  NaN  NaN  2.0  NaN  NaN  NaN  NaN\n",
              "10  NaN  2.0  NaN  1.0  NaN  NaN  NaN  NaN\n",
              "11  4.0  1.0  NaN  1.0  NaN  NaN  NaN  NaN\n",
              "12  4.0  NaN  NaN  1.0  NaN  NaN  NaN  NaN"
            ]
          },
          "metadata": {
            "tags": []
          },
          "execution_count": 13
        }
      ]
    },
    {
      "cell_type": "code",
      "metadata": {
        "id": "1JVMp3H5apKG",
        "outputId": "08366f7d-7f8e-4f60-a74a-3bd52f7145e5",
        "colab": {
          "base_uri": "https://localhost:8080/",
          "height": 452
        }
      },
      "source": [
        "df_m = pd.concat([df, df_e], axis=1, sort=False) #combine the results of parsing the molecules with the original dataframe\n",
        "df_m=df_m.fillna(0) #fill the NaN with 0\n",
        "df_m"
      ],
      "execution_count": null,
      "outputs": [
        {
          "output_type": "execute_result",
          "data": {
            "text/html": [
              "<div>\n",
              "<style scoped>\n",
              "    .dataframe tbody tr th:only-of-type {\n",
              "        vertical-align: middle;\n",
              "    }\n",
              "\n",
              "    .dataframe tbody tr th {\n",
              "        vertical-align: top;\n",
              "    }\n",
              "\n",
              "    .dataframe thead th {\n",
              "        text-align: right;\n",
              "    }\n",
              "</style>\n",
              "<table border=\"1\" class=\"dataframe\">\n",
              "  <thead>\n",
              "    <tr style=\"text-align: right;\">\n",
              "      <th></th>\n",
              "      <th>Compound</th>\n",
              "      <th>Symbol</th>\n",
              "      <th>Concentration (wt%)</th>\n",
              "      <th>Carbon</th>\n",
              "      <th>H</th>\n",
              "      <th>O</th>\n",
              "      <th>S</th>\n",
              "      <th>C</th>\n",
              "      <th>Ca</th>\n",
              "      <th>N</th>\n",
              "      <th>Hg</th>\n",
              "      <th>Mg</th>\n",
              "    </tr>\n",
              "  </thead>\n",
              "  <tbody>\n",
              "    <tr>\n",
              "      <th>0</th>\n",
              "      <td>water</td>\n",
              "      <td>H2O</td>\n",
              "      <td>5.50</td>\n",
              "      <td>False</td>\n",
              "      <td>2.0</td>\n",
              "      <td>1.0</td>\n",
              "      <td>0.0</td>\n",
              "      <td>0.0</td>\n",
              "      <td>0.0</td>\n",
              "      <td>0.0</td>\n",
              "      <td>0.0</td>\n",
              "      <td>0.0</td>\n",
              "    </tr>\n",
              "    <tr>\n",
              "      <th>1</th>\n",
              "      <td>hydrogen sulfide</td>\n",
              "      <td>H2S</td>\n",
              "      <td>0.92</td>\n",
              "      <td>False</td>\n",
              "      <td>2.0</td>\n",
              "      <td>0.0</td>\n",
              "      <td>1.0</td>\n",
              "      <td>0.0</td>\n",
              "      <td>0.0</td>\n",
              "      <td>0.0</td>\n",
              "      <td>0.0</td>\n",
              "      <td>0.0</td>\n",
              "    </tr>\n",
              "    <tr>\n",
              "      <th>2</th>\n",
              "      <td>hydrogen gas</td>\n",
              "      <td>H2</td>\n",
              "      <td>0.69</td>\n",
              "      <td>False</td>\n",
              "      <td>2.0</td>\n",
              "      <td>0.0</td>\n",
              "      <td>0.0</td>\n",
              "      <td>0.0</td>\n",
              "      <td>0.0</td>\n",
              "      <td>0.0</td>\n",
              "      <td>0.0</td>\n",
              "      <td>0.0</td>\n",
              "    </tr>\n",
              "    <tr>\n",
              "      <th>3</th>\n",
              "      <td>carbon monoxide</td>\n",
              "      <td>CO</td>\n",
              "      <td>0.57</td>\n",
              "      <td>True</td>\n",
              "      <td>0.0</td>\n",
              "      <td>1.0</td>\n",
              "      <td>0.0</td>\n",
              "      <td>1.0</td>\n",
              "      <td>0.0</td>\n",
              "      <td>0.0</td>\n",
              "      <td>0.0</td>\n",
              "      <td>0.0</td>\n",
              "    </tr>\n",
              "    <tr>\n",
              "      <th>4</th>\n",
              "      <td>calcium</td>\n",
              "      <td>Ca</td>\n",
              "      <td>0.40</td>\n",
              "      <td>True</td>\n",
              "      <td>0.0</td>\n",
              "      <td>0.0</td>\n",
              "      <td>0.0</td>\n",
              "      <td>0.0</td>\n",
              "      <td>1.0</td>\n",
              "      <td>0.0</td>\n",
              "      <td>0.0</td>\n",
              "      <td>0.0</td>\n",
              "    </tr>\n",
              "    <tr>\n",
              "      <th>5</th>\n",
              "      <td>ammonia</td>\n",
              "      <td>NH3</td>\n",
              "      <td>0.33</td>\n",
              "      <td>False</td>\n",
              "      <td>3.0</td>\n",
              "      <td>0.0</td>\n",
              "      <td>0.0</td>\n",
              "      <td>0.0</td>\n",
              "      <td>0.0</td>\n",
              "      <td>1.0</td>\n",
              "      <td>0.0</td>\n",
              "      <td>0.0</td>\n",
              "    </tr>\n",
              "    <tr>\n",
              "      <th>6</th>\n",
              "      <td>mercury</td>\n",
              "      <td>Hg</td>\n",
              "      <td>0.24</td>\n",
              "      <td>False</td>\n",
              "      <td>0.0</td>\n",
              "      <td>0.0</td>\n",
              "      <td>0.0</td>\n",
              "      <td>0.0</td>\n",
              "      <td>0.0</td>\n",
              "      <td>0.0</td>\n",
              "      <td>1.0</td>\n",
              "      <td>0.0</td>\n",
              "    </tr>\n",
              "    <tr>\n",
              "      <th>7</th>\n",
              "      <td>magnesium</td>\n",
              "      <td>Mg</td>\n",
              "      <td>0.19</td>\n",
              "      <td>False</td>\n",
              "      <td>0.0</td>\n",
              "      <td>0.0</td>\n",
              "      <td>0.0</td>\n",
              "      <td>0.0</td>\n",
              "      <td>0.0</td>\n",
              "      <td>0.0</td>\n",
              "      <td>0.0</td>\n",
              "      <td>1.0</td>\n",
              "    </tr>\n",
              "    <tr>\n",
              "      <th>8</th>\n",
              "      <td>sulfur dioxide</td>\n",
              "      <td>SO2</td>\n",
              "      <td>0.18</td>\n",
              "      <td>False</td>\n",
              "      <td>0.0</td>\n",
              "      <td>2.0</td>\n",
              "      <td>1.0</td>\n",
              "      <td>0.0</td>\n",
              "      <td>0.0</td>\n",
              "      <td>0.0</td>\n",
              "      <td>0.0</td>\n",
              "      <td>0.0</td>\n",
              "    </tr>\n",
              "    <tr>\n",
              "      <th>9</th>\n",
              "      <td>ethylene</td>\n",
              "      <td>C2H4</td>\n",
              "      <td>0.17</td>\n",
              "      <td>True</td>\n",
              "      <td>4.0</td>\n",
              "      <td>0.0</td>\n",
              "      <td>0.0</td>\n",
              "      <td>2.0</td>\n",
              "      <td>0.0</td>\n",
              "      <td>0.0</td>\n",
              "      <td>0.0</td>\n",
              "      <td>0.0</td>\n",
              "    </tr>\n",
              "    <tr>\n",
              "      <th>10</th>\n",
              "      <td>carbon dioxide</td>\n",
              "      <td>CO2</td>\n",
              "      <td>0.12</td>\n",
              "      <td>True</td>\n",
              "      <td>0.0</td>\n",
              "      <td>2.0</td>\n",
              "      <td>0.0</td>\n",
              "      <td>1.0</td>\n",
              "      <td>0.0</td>\n",
              "      <td>0.0</td>\n",
              "      <td>0.0</td>\n",
              "      <td>0.0</td>\n",
              "    </tr>\n",
              "    <tr>\n",
              "      <th>11</th>\n",
              "      <td>methanol</td>\n",
              "      <td>CH3OH</td>\n",
              "      <td>0.09</td>\n",
              "      <td>True</td>\n",
              "      <td>4.0</td>\n",
              "      <td>1.0</td>\n",
              "      <td>0.0</td>\n",
              "      <td>1.0</td>\n",
              "      <td>0.0</td>\n",
              "      <td>0.0</td>\n",
              "      <td>0.0</td>\n",
              "      <td>0.0</td>\n",
              "    </tr>\n",
              "    <tr>\n",
              "      <th>12</th>\n",
              "      <td>methane</td>\n",
              "      <td>CH4</td>\n",
              "      <td>0.04</td>\n",
              "      <td>True</td>\n",
              "      <td>4.0</td>\n",
              "      <td>0.0</td>\n",
              "      <td>0.0</td>\n",
              "      <td>1.0</td>\n",
              "      <td>0.0</td>\n",
              "      <td>0.0</td>\n",
              "      <td>0.0</td>\n",
              "      <td>0.0</td>\n",
              "    </tr>\n",
              "  </tbody>\n",
              "</table>\n",
              "</div>"
            ],
            "text/plain": [
              "            Compound Symbol  Concentration (wt%)  Carbon  ...   Ca    N   Hg   Mg\n",
              "0              water    H2O                 5.50   False  ...  0.0  0.0  0.0  0.0\n",
              "1   hydrogen sulfide    H2S                 0.92   False  ...  0.0  0.0  0.0  0.0\n",
              "2       hydrogen gas     H2                 0.69   False  ...  0.0  0.0  0.0  0.0\n",
              "3    carbon monoxide     CO                 0.57    True  ...  0.0  0.0  0.0  0.0\n",
              "4            calcium     Ca                 0.40    True  ...  1.0  0.0  0.0  0.0\n",
              "5            ammonia    NH3                 0.33   False  ...  0.0  1.0  0.0  0.0\n",
              "6            mercury     Hg                 0.24   False  ...  0.0  0.0  1.0  0.0\n",
              "7          magnesium     Mg                 0.19   False  ...  0.0  0.0  0.0  1.0\n",
              "8     sulfur dioxide    SO2                 0.18   False  ...  0.0  0.0  0.0  0.0\n",
              "9           ethylene   C2H4                 0.17    True  ...  0.0  0.0  0.0  0.0\n",
              "10    carbon dioxide    CO2                 0.12    True  ...  0.0  0.0  0.0  0.0\n",
              "11          methanol  CH3OH                 0.09    True  ...  0.0  0.0  0.0  0.0\n",
              "12           methane    CH4                 0.04    True  ...  0.0  0.0  0.0  0.0\n",
              "\n",
              "[13 rows x 12 columns]"
            ]
          },
          "metadata": {
            "tags": []
          },
          "execution_count": 14
        }
      ]
    },
    {
      "cell_type": "code",
      "metadata": {
        "id": "By3Y3NvF7sxR",
        "outputId": "a4cf04a4-1290-4aa8-c9f4-5c76b36ddfa8",
        "colab": {
          "base_uri": "https://localhost:8080/"
        }
      },
      "source": [
        "df_m.iloc[:,4:12].sum()"
      ],
      "execution_count": null,
      "outputs": [
        {
          "output_type": "execute_result",
          "data": {
            "text/plain": [
              "H     21.0\n",
              "O      7.0\n",
              "S      2.0\n",
              "C      6.0\n",
              "Ca     1.0\n",
              "N      1.0\n",
              "Hg     1.0\n",
              "Mg     1.0\n",
              "dtype: float64"
            ]
          },
          "metadata": {
            "tags": []
          },
          "execution_count": 46
        }
      ]
    },
    {
      "cell_type": "code",
      "metadata": {
        "id": "jkV1-kMWArQZ"
      },
      "source": [
        ""
      ],
      "execution_count": null,
      "outputs": []
    },
    {
      "cell_type": "code",
      "metadata": {
        "id": "vih9Wg8edH_s",
        "outputId": "f3d4a9f8-11f9-40e4-ad05-a77394272f19",
        "colab": {
          "base_uri": "https://localhost:8080/",
          "height": 297
        }
      },
      "source": [
        "df_atoms=[]\n",
        "df_atoms=pd.DataFrame(df_m.iloc[:,4:12]).sum().reset_index(name='AtomCount') #calculate the sum of each unique atomic type for all molecules observed\n",
        "df_atoms\n",
        "#df_SurvLastName=df.groupby(by=['Survived','LastNameLetter']).size().reset_index(name='LetterCount')\n",
        "#df_SurvLastName1.hist(column='percent', bins=27)\n",
        "#df_m.loc['H','O','S','C','Ca','N','Hg','Mg']"
      ],
      "execution_count": null,
      "outputs": [
        {
          "output_type": "execute_result",
          "data": {
            "text/html": [
              "<div>\n",
              "<style scoped>\n",
              "    .dataframe tbody tr th:only-of-type {\n",
              "        vertical-align: middle;\n",
              "    }\n",
              "\n",
              "    .dataframe tbody tr th {\n",
              "        vertical-align: top;\n",
              "    }\n",
              "\n",
              "    .dataframe thead th {\n",
              "        text-align: right;\n",
              "    }\n",
              "</style>\n",
              "<table border=\"1\" class=\"dataframe\">\n",
              "  <thead>\n",
              "    <tr style=\"text-align: right;\">\n",
              "      <th></th>\n",
              "      <th>index</th>\n",
              "      <th>AtomCount</th>\n",
              "    </tr>\n",
              "  </thead>\n",
              "  <tbody>\n",
              "    <tr>\n",
              "      <th>0</th>\n",
              "      <td>H</td>\n",
              "      <td>21.0</td>\n",
              "    </tr>\n",
              "    <tr>\n",
              "      <th>1</th>\n",
              "      <td>O</td>\n",
              "      <td>7.0</td>\n",
              "    </tr>\n",
              "    <tr>\n",
              "      <th>2</th>\n",
              "      <td>S</td>\n",
              "      <td>2.0</td>\n",
              "    </tr>\n",
              "    <tr>\n",
              "      <th>3</th>\n",
              "      <td>C</td>\n",
              "      <td>6.0</td>\n",
              "    </tr>\n",
              "    <tr>\n",
              "      <th>4</th>\n",
              "      <td>Ca</td>\n",
              "      <td>1.0</td>\n",
              "    </tr>\n",
              "    <tr>\n",
              "      <th>5</th>\n",
              "      <td>N</td>\n",
              "      <td>1.0</td>\n",
              "    </tr>\n",
              "    <tr>\n",
              "      <th>6</th>\n",
              "      <td>Hg</td>\n",
              "      <td>1.0</td>\n",
              "    </tr>\n",
              "    <tr>\n",
              "      <th>7</th>\n",
              "      <td>Mg</td>\n",
              "      <td>1.0</td>\n",
              "    </tr>\n",
              "  </tbody>\n",
              "</table>\n",
              "</div>"
            ],
            "text/plain": [
              "  index  AtomCount\n",
              "0     H       21.0\n",
              "1     O        7.0\n",
              "2     S        2.0\n",
              "3     C        6.0\n",
              "4    Ca        1.0\n",
              "5     N        1.0\n",
              "6    Hg        1.0\n",
              "7    Mg        1.0"
            ]
          },
          "metadata": {
            "tags": []
          },
          "execution_count": 50
        }
      ]
    },
    {
      "cell_type": "code",
      "metadata": {
        "id": "hsHtbmFR88ux",
        "outputId": "d551c242-3489-46c6-d8e1-c11ffa275423",
        "colab": {
          "base_uri": "https://localhost:8080/",
          "height": 427
        }
      },
      "source": [
        "# Creating plot with the weight percent of all the molecules observed by LCROSS\n",
        "fig = plt.figure(figsize =(10, 7)) \n",
        "plt.pie(df_atoms['AtomCount'], labels=df_atoms['index']) \n",
        "plt.title('Element Sum')\n",
        "# show plot \n",
        "plt.show() "
      ],
      "execution_count": null,
      "outputs": [
        {
          "output_type": "display_data",
          "data": {
            "image/png": "[encoded data removed]",
            "text/plain": [
              "<Figure size 720x504 with 1 Axes>"
            ]
          },
          "metadata": {
            "tags": []
          }
        }
      ]
    },
    {
      "cell_type": "markdown",
      "metadata": {
        "id": "9uMA60bH8QY_"
      },
      "source": [
        "#End of compelete work. Below are the attempts at the next steps. "
      ]
    },
    {
      "cell_type": "code",
      "metadata": {
        "id": "nC95mH4ok7uN"
      },
      "source": [
        "#Make a dataframe of the periodic table of elements from this location- https://gist.github.com/GoodmanSciences/c2dd862cd38f21b0ad36b8f96b4bf1ee \n",
        "df_pt=pd.read_csv('https://gist.githubusercontent.com/hdanque/87c96e740803f74f7a93f7356438183b/raw/1d92663004489a5b6926e944c1b3d9ec5c40900e/Periodic%2520Table%2520of%2520Elements.csv')\n",
        "df_pt.head()"
      ],
      "execution_count": null,
      "outputs": []
    },
    {
      "cell_type": "code",
      "metadata": {
        "id": "zkMbkxcSptDx"
      },
      "source": [
        "df_pt.loc['Symbol','AtomicMass'] #I want just the two columns from the Periodic table with te Symbol and Atomic mass and then I want to match the Symbol field to the previous dataframe. "
      ],
      "execution_count": null,
      "outputs": []
    },
    {
      "cell_type": "markdown",
      "metadata": {
        "id": "ByPWKnHnrr2e"
      },
      "source": [
        "Next I want to make a column of atomic weights and then multiply the weights by the number of atoms to get the atomic weight percent. A description of the process is here. \n",
        "https://www.scribd.com/doc/74247139/How-to-Convert-Atomic-Percent-to-Weight-Percent-and-Vice-Versa\n"
      ]
    },
    {
      "cell_type": "code",
      "metadata": {
        "id": "AqPbN5p8bv4n"
      },
      "source": [
        "#alternate method of merging dataframes.\n",
        "#merge them together, aligning rows based on their labels in the index\n",
        "#df_merged = pd.merge(left=df_econ, right=df_race, how='inner', left_index=True, right_index=True)\n",
        "#df_merged.head()\n"
      ],
      "execution_count": null,
      "outputs": []
    }
  ]
}