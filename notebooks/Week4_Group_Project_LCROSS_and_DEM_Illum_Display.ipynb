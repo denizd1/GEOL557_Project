{
  "nbformat": 4,
  "nbformat_minor": 0,
  "metadata": {
    "colab": {
      "name": "Week4_Group_Project_LCROSS_and_DEM_Illum_Display.ipynb",
      "provenance": [],
      "collapsed_sections": [],
      "include_colab_link": true
    },
    "kernelspec": {
      "name": "python3",
      "display_name": "Python 3"
    }
  },
  "cells": [
    {
      "cell_type": "markdown",
      "metadata": {
        "id": "view-in-github",
        "colab_type": "text"
      },
      "source": [
        "<a href=\"https://colab.research.google.com/github/denizd1/GEOL557_Project/blob/main/notebooks/Week4_Group_Project_LCROSS_and_DEM_Illum_Display.ipynb\" target=\"_parent\"><img src=\"https://colab.research.google.com/assets/colab-badge.svg\" alt=\"Open In Colab\"/></a>"
      ]
    },
    {
      "cell_type": "markdown",
      "metadata": {
        "id": "1rROLu0tRzxa"
      },
      "source": [
        "GEOL557 Week 4 Group Project\n",
        "\n",
        "\n",
        "---\n",
        "\n",
        "\n",
        "LCROSS Plume Water Detection Data and DEM Illumination grid plots\n",
        "\n",
        "---\n",
        "\n",
        "\n",
        "Britt Duffy Adkins, Hunter Danque, Deniz Donmez\n",
        "(November 15, 2020)\n"
      ]
    },
    {
      "cell_type": "markdown",
      "metadata": {
        "id": "i8vjH9QRyNQk"
      },
      "source": [
        "The goal of this section is to make a dataframe of the molecular abundance from the LCROSS impact in the Cabeus crater near the Lunar South Pole. The original data is from (Colaprete, et al., 2010) Table 2.\n"
      ]
    },
    {
      "cell_type": "markdown",
      "metadata": {
        "id": "kDt8id1MycqX"
      },
      "source": [
        "Colaprete, A., Schultz, P., Heldmann, J., Wooden, D., Shirley, M., Ennico, K., .\n",
        ".. & Goldstein, D. (2010). Detection of water in the LCROSS ejecta plume. Science, 330(6003), 463-468."
      ]
    },
    {
      "cell_type": "markdown",
      "metadata": {
        "id": "YWwqYr7VygS5"
      },
      "source": [
        "These data were published in percentages relative to water. This is a hard way to read the data so Chris Dreyer and George Sowers converted them to weight percent. They provided the updated table to us in a personel communication Spring 2020."
      ]
    },
    {
      "cell_type": "markdown",
      "metadata": {
        "id": "a15phzZIv1Hb"
      },
      "source": [
        "\n",
        "------------------------------------------------------------------------\n",
        "![ColapreteA_2010_LCROSS_Plume_Water_Detection_CorrectedTable_from_GeorgeandChris [2].png](data:image/png;base64,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) "
      ]
    },
    {
      "cell_type": "code",
      "metadata": {
        "id": "1GzuRFlLSCB0"
      },
      "source": [
        "#import key packages\n",
        "import pandas as pd\n",
        "import matplotlib.pyplot as plt\n",
        "import plotly.express as px"
      ],
      "execution_count": 6,
      "outputs": []
    },
    {
      "cell_type": "code",
      "metadata": {
        "id": "LuSLg_XcSEUR",
        "outputId": "61898b90-8a84-442a-d312-ec903a26f227",
        "colab": {
          "base_uri": "https://localhost:8080/",
          "height": 449
        }
      },
      "source": [
        "#first method of creating a pandas dataframe. In this we manually created a dictionary of the values and converted to a dataframe. \n",
        "data = {'Compound':['water', 'hydrogen sulfide', 'hydrogen gas', 'carbon monoxide', 'calcium', 'ammonia','mercury','magnesium','sulfur dioxide','ethylene','carbon dioxide','methanol','methane'],\n",
        "        'Symbol':['H2O','H2S','H2','CO','Ca','NH3','Hg','Mg','SO2','C2H4','CO2','CH3OH','CH4'],\n",
        "        'Concentration (wt%)':[5.5,0.92,0.69,0.57,0.4,0.33,0.24,0.19,0.18,0.17,0.12,0.09,0.04]}\n",
        "df = pd.DataFrame(data)\n",
        "df"
      ],
      "execution_count": 7,
      "outputs": [
        {
          "output_type": "execute_result",
          "data": {
            "text/html": [
              "<div>\n",
              "<style scoped>\n",
              "    .dataframe tbody tr th:only-of-type {\n",
              "        vertical-align: middle;\n",
              "    }\n",
              "\n",
              "    .dataframe tbody tr th {\n",
              "        vertical-align: top;\n",
              "    }\n",
              "\n",
              "    .dataframe thead th {\n",
              "        text-align: right;\n",
              "    }\n",
              "</style>\n",
              "<table border=\"1\" class=\"dataframe\">\n",
              "  <thead>\n",
              "    <tr style=\"text-align: right;\">\n",
              "      <th></th>\n",
              "      <th>Compound</th>\n",
              "      <th>Symbol</th>\n",
              "      <th>Concentration (wt%)</th>\n",
              "    </tr>\n",
              "  </thead>\n",
              "  <tbody>\n",
              "    <tr>\n",
              "      <th>0</th>\n",
              "      <td>water</td>\n",
              "      <td>H2O</td>\n",
              "      <td>5.50</td>\n",
              "    </tr>\n",
              "    <tr>\n",
              "      <th>1</th>\n",
              "      <td>hydrogen sulfide</td>\n",
              "      <td>H2S</td>\n",
              "      <td>0.92</td>\n",
              "    </tr>\n",
              "    <tr>\n",
              "      <th>2</th>\n",
              "      <td>hydrogen gas</td>\n",
              "      <td>H2</td>\n",
              "      <td>0.69</td>\n",
              "    </tr>\n",
              "    <tr>\n",
              "      <th>3</th>\n",
              "      <td>carbon monoxide</td>\n",
              "      <td>CO</td>\n",
              "      <td>0.57</td>\n",
              "    </tr>\n",
              "    <tr>\n",
              "      <th>4</th>\n",
              "      <td>calcium</td>\n",
              "      <td>Ca</td>\n",
              "      <td>0.40</td>\n",
              "    </tr>\n",
              "    <tr>\n",
              "      <th>5</th>\n",
              "      <td>ammonia</td>\n",
              "      <td>NH3</td>\n",
              "      <td>0.33</td>\n",
              "    </tr>\n",
              "    <tr>\n",
              "      <th>6</th>\n",
              "      <td>mercury</td>\n",
              "      <td>Hg</td>\n",
              "      <td>0.24</td>\n",
              "    </tr>\n",
              "    <tr>\n",
              "      <th>7</th>\n",
              "      <td>magnesium</td>\n",
              "      <td>Mg</td>\n",
              "      <td>0.19</td>\n",
              "    </tr>\n",
              "    <tr>\n",
              "      <th>8</th>\n",
              "      <td>sulfur dioxide</td>\n",
              "      <td>SO2</td>\n",
              "      <td>0.18</td>\n",
              "    </tr>\n",
              "    <tr>\n",
              "      <th>9</th>\n",
              "      <td>ethylene</td>\n",
              "      <td>C2H4</td>\n",
              "      <td>0.17</td>\n",
              "    </tr>\n",
              "    <tr>\n",
              "      <th>10</th>\n",
              "      <td>carbon dioxide</td>\n",
              "      <td>CO2</td>\n",
              "      <td>0.12</td>\n",
              "    </tr>\n",
              "    <tr>\n",
              "      <th>11</th>\n",
              "      <td>methanol</td>\n",
              "      <td>CH3OH</td>\n",
              "      <td>0.09</td>\n",
              "    </tr>\n",
              "    <tr>\n",
              "      <th>12</th>\n",
              "      <td>methane</td>\n",
              "      <td>CH4</td>\n",
              "      <td>0.04</td>\n",
              "    </tr>\n",
              "  </tbody>\n",
              "</table>\n",
              "</div>"
            ],
            "text/plain": [
              "            Compound Symbol  Concentration (wt%)\n",
              "0              water    H2O                 5.50\n",
              "1   hydrogen sulfide    H2S                 0.92\n",
              "2       hydrogen gas     H2                 0.69\n",
              "3    carbon monoxide     CO                 0.57\n",
              "4            calcium     Ca                 0.40\n",
              "5            ammonia    NH3                 0.33\n",
              "6            mercury     Hg                 0.24\n",
              "7          magnesium     Mg                 0.19\n",
              "8     sulfur dioxide    SO2                 0.18\n",
              "9           ethylene   C2H4                 0.17\n",
              "10    carbon dioxide    CO2                 0.12\n",
              "11          methanol  CH3OH                 0.09\n",
              "12           methane    CH4                 0.04"
            ]
          },
          "metadata": {
            "tags": []
          },
          "execution_count": 7
        }
      ]
    },
    {
      "cell_type": "code",
      "metadata": {
        "id": "aiC0SkZRuNkj",
        "outputId": "aff92abc-a2a0-44ea-f4eb-57c49eaae16a",
        "colab": {
          "base_uri": "https://localhost:8080/",
          "height": 449
        }
      },
      "source": [
        "#alternate method of loading the data to a dataframe. The values were typed into an Excel file and saved as csv on GitHub. Then read from there. \n",
        "df2 = pd.read_csv('https://raw.githubusercontent.com/denizd1/GEOL557_Project/main/data/ColapreteA_2010_LCROSS_Plume_Water_Detection_CorrectedTable_from_GeorgeandChris.csv')\n",
        "df2"
      ],
      "execution_count": 8,
      "outputs": [
        {
          "output_type": "execute_result",
          "data": {
            "text/html": [
              "<div>\n",
              "<style scoped>\n",
              "    .dataframe tbody tr th:only-of-type {\n",
              "        vertical-align: middle;\n",
              "    }\n",
              "\n",
              "    .dataframe tbody tr th {\n",
              "        vertical-align: top;\n",
              "    }\n",
              "\n",
              "    .dataframe thead th {\n",
              "        text-align: right;\n",
              "    }\n",
              "</style>\n",
              "<table border=\"1\" class=\"dataframe\">\n",
              "  <thead>\n",
              "    <tr style=\"text-align: right;\">\n",
              "      <th></th>\n",
              "      <th>Compound</th>\n",
              "      <th>Symbol</th>\n",
              "      <th>Concentration (wt%)</th>\n",
              "    </tr>\n",
              "  </thead>\n",
              "  <tbody>\n",
              "    <tr>\n",
              "      <th>0</th>\n",
              "      <td>water</td>\n",
              "      <td>H2O</td>\n",
              "      <td>5.50</td>\n",
              "    </tr>\n",
              "    <tr>\n",
              "      <th>1</th>\n",
              "      <td>hydrogen sulfide</td>\n",
              "      <td>H2S</td>\n",
              "      <td>0.92</td>\n",
              "    </tr>\n",
              "    <tr>\n",
              "      <th>2</th>\n",
              "      <td>hydrogen gas</td>\n",
              "      <td>H2</td>\n",
              "      <td>0.69</td>\n",
              "    </tr>\n",
              "    <tr>\n",
              "      <th>3</th>\n",
              "      <td>carbon monoxide</td>\n",
              "      <td>CO</td>\n",
              "      <td>0.57</td>\n",
              "    </tr>\n",
              "    <tr>\n",
              "      <th>4</th>\n",
              "      <td>Calcium</td>\n",
              "      <td>Ca</td>\n",
              "      <td>0.40</td>\n",
              "    </tr>\n",
              "    <tr>\n",
              "      <th>5</th>\n",
              "      <td>Ammonia</td>\n",
              "      <td>NH3</td>\n",
              "      <td>0.33</td>\n",
              "    </tr>\n",
              "    <tr>\n",
              "      <th>6</th>\n",
              "      <td>Mercury</td>\n",
              "      <td>Hg</td>\n",
              "      <td>0.24</td>\n",
              "    </tr>\n",
              "    <tr>\n",
              "      <th>7</th>\n",
              "      <td>Magnesium</td>\n",
              "      <td>Mg</td>\n",
              "      <td>0.19</td>\n",
              "    </tr>\n",
              "    <tr>\n",
              "      <th>8</th>\n",
              "      <td>Sulfur dioxide</td>\n",
              "      <td>SO2</td>\n",
              "      <td>0.18</td>\n",
              "    </tr>\n",
              "    <tr>\n",
              "      <th>9</th>\n",
              "      <td>Ethylene</td>\n",
              "      <td>C2H4</td>\n",
              "      <td>0.17</td>\n",
              "    </tr>\n",
              "    <tr>\n",
              "      <th>10</th>\n",
              "      <td>Carbon dioxide</td>\n",
              "      <td>CO2</td>\n",
              "      <td>0.12</td>\n",
              "    </tr>\n",
              "    <tr>\n",
              "      <th>11</th>\n",
              "      <td>Methanol</td>\n",
              "      <td>CH3OH</td>\n",
              "      <td>0.09</td>\n",
              "    </tr>\n",
              "    <tr>\n",
              "      <th>12</th>\n",
              "      <td>Methane</td>\n",
              "      <td>CH4</td>\n",
              "      <td>0.04</td>\n",
              "    </tr>\n",
              "  </tbody>\n",
              "</table>\n",
              "</div>"
            ],
            "text/plain": [
              "            Compound Symbol  Concentration (wt%)\n",
              "0              water    H2O                 5.50\n",
              "1   hydrogen sulfide    H2S                 0.92\n",
              "2       hydrogen gas     H2                 0.69\n",
              "3    carbon monoxide     CO                 0.57\n",
              "4            Calcium     Ca                 0.40\n",
              "5            Ammonia    NH3                 0.33\n",
              "6            Mercury     Hg                 0.24\n",
              "7          Magnesium     Mg                 0.19\n",
              "8     Sulfur dioxide    SO2                 0.18\n",
              "9           Ethylene   C2H4                 0.17\n",
              "10    Carbon dioxide    CO2                 0.12\n",
              "11          Methanol  CH3OH                 0.09\n",
              "12           Methane    CH4                 0.04"
            ]
          },
          "metadata": {
            "tags": []
          },
          "execution_count": 8
        }
      ]
    },
    {
      "cell_type": "code",
      "metadata": {
        "id": "b8MzYIGVsp1u",
        "outputId": "7bb2f7a1-1a83-4b8b-f110-e0c0a1f4594d",
        "colab": {
          "base_uri": "https://localhost:8080/",
          "height": 427
        }
      },
      "source": [
        "# Creating plot with the weight percent of all the molecules observed by LCROSS\n",
        "fig = plt.figure(figsize =(10, 7)) \n",
        "plt.pie(df['Concentration (wt%)'], labels = df['Compound']) \n",
        "plt.title('Compound Wt%')\n",
        "# show plot \n",
        "plt.show() "
      ],
      "execution_count": 9,
      "outputs": [
        {
          "output_type": "display_data",
          "data": {
            "image/png": "[encoded data removed]",
            "text/plain": [
              "<Figure size 720x504 with 1 Axes>"
            ]
          },
          "metadata": {
            "tags": []
          }
        }
      ]
    },
    {
      "cell_type": "code",
      "metadata": {
        "id": "2Rw9-YJly8rW"
      },
      "source": [
        "# using the principals of minimizing unnecessary color to usful data ink this histogram conveys the information simply.\n",
        "df2.plot(x='index', y='Concentration (wt%)', kind='bar', legend=False)  \n",
        "plt.ylabel('wt%')\n",
        "plt.xlabel('Symbol')\n",
        "plt.grid()\n",
        "plt.show()"
      ],
      "execution_count": null,
      "outputs": []
    },
    {
      "cell_type": "code",
      "metadata": {
        "id": "9VjRYtiJx596",
        "outputId": "dedf856c-5a18-4db8-d753-fdbba82f567a",
        "colab": {
          "base_uri": "https://localhost:8080/",
          "height": 542
        }
      },
      "source": [
        "fig = px.scatter(df2, \n",
        "                 x=\"Concentration (wt%)\", \n",
        "                 y=\"Concentration (wt%)\", \n",
        "                 #size='Orthoclase', \n",
        "                 hover_data=['Compound'],\n",
        "                 title='LCROSS Molecular Weight Percent'\n",
        "                 )\n",
        "fig.show()"
      ],
      "execution_count": 10,
      "outputs": [
        {
          "output_type": "display_data",
          "data": {
            "text/html": [
              "<html>\n",
              "<head><meta charset=\"utf-8\" /></head>\n",
              "<body>\n",
              "    <div>\n",
              "            <script src=\"https://cdnjs.cloudflare.com/ajax/libs/mathjax/2.7.5/MathJax.js?config=TeX-AMS-MML_SVG\"></script><script type=\"text/javascript\">if (window.MathJax) {MathJax.Hub.Config({SVG: {font: \"STIX-Web\"}});}</script>\n",
              "                <script type=\"text/javascript\">window.PlotlyConfig = {MathJaxConfig: 'local'};</script>\n",
              "        <script src=\"https://cdn.plot.ly/plotly-latest.min.js\"></script>    \n",
              "            <div id=\"ef6a067b-b600-491f-b6c3-3a9c3d3aca07\" class=\"plotly-graph-div\" style=\"height:525px; width:100%;\"></div>\n",
              "            <script type=\"text/javascript\">\n",
              "                \n",
              "                    window.PLOTLYENV=window.PLOTLYENV || {};\n",
              "                    \n",
              "                if (document.getElementById(\"ef6a067b-b600-491f-b6c3-3a9c3d3aca07\")) {\n",
              "                    Plotly.newPlot(\n",
              "                        'ef6a067b-b600-491f-b6c3-3a9c3d3aca07',\n",
              "                        [{\"customdata\": [[\"water\"], [\"hydrogen sulfide\"], [\"hydrogen gas\"], [\"carbon monoxide\"], [\"Calcium\"], [\"Ammonia\"], [\"Mercury\"], [\"Magnesium\"], [\"Sulfur dioxide\"], [\"Ethylene\"], [\"Carbon dioxide\"], [\"Methanol\"], [\"Methane\"]], \"hoverlabel\": {\"namelength\": 0}, \"hovertemplate\": \"Concentration (wt%)=%{y}<br>Compound=%{customdata[0]}\", \"legendgroup\": \"\", \"marker\": {\"color\": \"#636efa\", \"symbol\": \"circle\"}, \"mode\": \"markers\", \"name\": \"\", \"showlegend\": false, \"type\": \"scatter\", \"x\": [5.5, 0.92, 0.69, 0.57, 0.4, 0.33, 0.24, 0.19, 0.18, 0.17, 0.12, 0.09, 0.04], \"xaxis\": \"x\", \"y\": [5.5, 0.92, 0.69, 0.57, 0.4, 0.33, 0.24, 0.19, 0.18, 0.17, 0.12, 0.09, 0.04], \"yaxis\": \"y\"}],\n",
              "                        {\"legend\": {\"tracegroupgap\": 0}, \"template\": {\"data\": {\"bar\": [{\"error_x\": {\"color\": \"#2a3f5f\"}, \"error_y\": {\"color\": \"#2a3f5f\"}, \"marker\": {\"line\": {\"color\": \"#E5ECF6\", \"width\": 0.5}}, \"type\": \"bar\"}], \"barpolar\": [{\"marker\": {\"line\": {\"color\": \"#E5ECF6\", \"width\": 0.5}}, \"type\": \"barpolar\"}], \"carpet\": [{\"aaxis\": {\"endlinecolor\": \"#2a3f5f\", \"gridcolor\": \"white\", \"linecolor\": \"white\", \"minorgridcolor\": \"white\", \"startlinecolor\": \"#2a3f5f\"}, \"baxis\": {\"endlinecolor\": \"#2a3f5f\", \"gridcolor\": \"white\", \"linecolor\": \"white\", \"minorgridcolor\": \"white\", \"startlinecolor\": \"#2a3f5f\"}, \"type\": \"carpet\"}], \"choropleth\": [{\"colorbar\": {\"outlinewidth\": 0, \"ticks\": \"\"}, \"type\": \"choropleth\"}], \"contour\": [{\"colorbar\": {\"outlinewidth\": 0, \"ticks\": \"\"}, \"colorscale\": [[0.0, \"#0d0887\"], [0.1111111111111111, \"#46039f\"], [0.2222222222222222, \"#7201a8\"], [0.3333333333333333, \"#9c179e\"], [0.4444444444444444, \"#bd3786\"], [0.5555555555555556, \"#d8576b\"], [0.6666666666666666, \"#ed7953\"], [0.7777777777777778, \"#fb9f3a\"], [0.8888888888888888, \"#fdca26\"], [1.0, \"#f0f921\"]], \"type\": \"contour\"}], \"contourcarpet\": [{\"colorbar\": {\"outlinewidth\": 0, \"ticks\": \"\"}, \"type\": \"contourcarpet\"}], \"heatmap\": [{\"colorbar\": {\"outlinewidth\": 0, \"ticks\": \"\"}, \"colorscale\": [[0.0, \"#0d0887\"], [0.1111111111111111, \"#46039f\"], [0.2222222222222222, \"#7201a8\"], [0.3333333333333333, \"#9c179e\"], [0.4444444444444444, \"#bd3786\"], [0.5555555555555556, \"#d8576b\"], [0.6666666666666666, \"#ed7953\"], [0.7777777777777778, \"#fb9f3a\"], [0.8888888888888888, \"#fdca26\"], [1.0, \"#f0f921\"]], \"type\": \"heatmap\"}], \"heatmapgl\": [{\"colorbar\": {\"outlinewidth\": 0, \"ticks\": \"\"}, \"colorscale\": [[0.0, \"#0d0887\"], [0.1111111111111111, \"#46039f\"], [0.2222222222222222, \"#7201a8\"], [0.3333333333333333, \"#9c179e\"], [0.4444444444444444, \"#bd3786\"], [0.5555555555555556, \"#d8576b\"], [0.6666666666666666, \"#ed7953\"], [0.7777777777777778, \"#fb9f3a\"], [0.8888888888888888, \"#fdca26\"], [1.0, \"#f0f921\"]], \"type\": \"heatmapgl\"}], \"histogram\": [{\"marker\": {\"colorbar\": {\"outlinewidth\": 0, \"ticks\": \"\"}}, \"type\": \"histogram\"}], \"histogram2d\": [{\"colorbar\": {\"outlinewidth\": 0, \"ticks\": \"\"}, \"colorscale\": [[0.0, \"#0d0887\"], [0.1111111111111111, \"#46039f\"], [0.2222222222222222, \"#7201a8\"], [0.3333333333333333, \"#9c179e\"], [0.4444444444444444, \"#bd3786\"], [0.5555555555555556, \"#d8576b\"], [0.6666666666666666, \"#ed7953\"], [0.7777777777777778, \"#fb9f3a\"], [0.8888888888888888, \"#fdca26\"], [1.0, \"#f0f921\"]], \"type\": \"histogram2d\"}], \"histogram2dcontour\": [{\"colorbar\": {\"outlinewidth\": 0, \"ticks\": \"\"}, \"colorscale\": [[0.0, \"#0d0887\"], [0.1111111111111111, \"#46039f\"], [0.2222222222222222, \"#7201a8\"], [0.3333333333333333, \"#9c179e\"], [0.4444444444444444, \"#bd3786\"], [0.5555555555555556, \"#d8576b\"], [0.6666666666666666, \"#ed7953\"], [0.7777777777777778, \"#fb9f3a\"], [0.8888888888888888, \"#fdca26\"], [1.0, \"#f0f921\"]], \"type\": \"histogram2dcontour\"}], \"mesh3d\": [{\"colorbar\": {\"outlinewidth\": 0, \"ticks\": \"\"}, \"type\": \"mesh3d\"}], \"parcoords\": [{\"line\": {\"colorbar\": {\"outlinewidth\": 0, \"ticks\": \"\"}}, \"type\": \"parcoords\"}], \"pie\": [{\"automargin\": true, \"type\": \"pie\"}], \"scatter\": [{\"marker\": {\"colorbar\": {\"outlinewidth\": 0, \"ticks\": \"\"}}, \"type\": \"scatter\"}], \"scatter3d\": [{\"line\": {\"colorbar\": {\"outlinewidth\": 0, \"ticks\": \"\"}}, \"marker\": {\"colorbar\": {\"outlinewidth\": 0, \"ticks\": \"\"}}, \"type\": \"scatter3d\"}], \"scattercarpet\": [{\"marker\": {\"colorbar\": {\"outlinewidth\": 0, \"ticks\": \"\"}}, \"type\": \"scattercarpet\"}], \"scattergeo\": [{\"marker\": {\"colorbar\": {\"outlinewidth\": 0, \"ticks\": \"\"}}, \"type\": \"scattergeo\"}], \"scattergl\": [{\"marker\": {\"colorbar\": {\"outlinewidth\": 0, \"ticks\": \"\"}}, \"type\": \"scattergl\"}], \"scattermapbox\": [{\"marker\": {\"colorbar\": {\"outlinewidth\": 0, \"ticks\": \"\"}}, \"type\": \"scattermapbox\"}], \"scatterpolar\": [{\"marker\": {\"colorbar\": {\"outlinewidth\": 0, \"ticks\": \"\"}}, \"type\": \"scatterpolar\"}], \"scatterpolargl\": [{\"marker\": {\"colorbar\": {\"outlinewidth\": 0, \"ticks\": \"\"}}, \"type\": \"scatterpolargl\"}], \"scatterternary\": [{\"marker\": {\"colorbar\": {\"outlinewidth\": 0, \"ticks\": \"\"}}, \"type\": \"scatterternary\"}], \"surface\": [{\"colorbar\": {\"outlinewidth\": 0, \"ticks\": \"\"}, \"colorscale\": [[0.0, \"#0d0887\"], [0.1111111111111111, \"#46039f\"], [0.2222222222222222, \"#7201a8\"], [0.3333333333333333, \"#9c179e\"], [0.4444444444444444, \"#bd3786\"], [0.5555555555555556, \"#d8576b\"], [0.6666666666666666, \"#ed7953\"], [0.7777777777777778, \"#fb9f3a\"], [0.8888888888888888, \"#fdca26\"], [1.0, \"#f0f921\"]], \"type\": \"surface\"}], \"table\": [{\"cells\": {\"fill\": {\"color\": \"#EBF0F8\"}, \"line\": {\"color\": \"white\"}}, \"header\": {\"fill\": {\"color\": \"#C8D4E3\"}, \"line\": {\"color\": \"white\"}}, \"type\": \"table\"}]}, \"layout\": {\"annotationdefaults\": {\"arrowcolor\": \"#2a3f5f\", \"arrowhead\": 0, \"arrowwidth\": 1}, \"coloraxis\": {\"colorbar\": {\"outlinewidth\": 0, \"ticks\": \"\"}}, \"colorscale\": {\"diverging\": [[0, \"#8e0152\"], [0.1, \"#c51b7d\"], [0.2, \"#de77ae\"], [0.3, \"#f1b6da\"], [0.4, \"#fde0ef\"], [0.5, \"#f7f7f7\"], [0.6, \"#e6f5d0\"], [0.7, \"#b8e186\"], [0.8, \"#7fbc41\"], [0.9, \"#4d9221\"], [1, \"#276419\"]], \"sequential\": [[0.0, \"#0d0887\"], [0.1111111111111111, \"#46039f\"], [0.2222222222222222, \"#7201a8\"], [0.3333333333333333, \"#9c179e\"], [0.4444444444444444, \"#bd3786\"], [0.5555555555555556, \"#d8576b\"], [0.6666666666666666, \"#ed7953\"], [0.7777777777777778, \"#fb9f3a\"], [0.8888888888888888, \"#fdca26\"], [1.0, \"#f0f921\"]], \"sequentialminus\": [[0.0, \"#0d0887\"], [0.1111111111111111, \"#46039f\"], [0.2222222222222222, \"#7201a8\"], [0.3333333333333333, \"#9c179e\"], [0.4444444444444444, \"#bd3786\"], [0.5555555555555556, \"#d8576b\"], [0.6666666666666666, \"#ed7953\"], [0.7777777777777778, \"#fb9f3a\"], [0.8888888888888888, \"#fdca26\"], [1.0, \"#f0f921\"]]}, \"colorway\": [\"#636efa\", \"#EF553B\", \"#00cc96\", \"#ab63fa\", \"#FFA15A\", \"#19d3f3\", \"#FF6692\", \"#B6E880\", \"#FF97FF\", \"#FECB52\"], \"font\": {\"color\": \"#2a3f5f\"}, \"geo\": {\"bgcolor\": \"white\", \"lakecolor\": \"white\", \"landcolor\": \"#E5ECF6\", \"showlakes\": true, \"showland\": true, \"subunitcolor\": \"white\"}, \"hoverlabel\": {\"align\": \"left\"}, \"hovermode\": \"closest\", \"mapbox\": {\"style\": \"light\"}, \"paper_bgcolor\": \"white\", \"plot_bgcolor\": \"#E5ECF6\", \"polar\": {\"angularaxis\": {\"gridcolor\": \"white\", \"linecolor\": \"white\", \"ticks\": \"\"}, \"bgcolor\": \"#E5ECF6\", \"radialaxis\": {\"gridcolor\": \"white\", \"linecolor\": \"white\", \"ticks\": \"\"}}, \"scene\": {\"xaxis\": {\"backgroundcolor\": \"#E5ECF6\", \"gridcolor\": \"white\", \"gridwidth\": 2, \"linecolor\": \"white\", \"showbackground\": true, \"ticks\": \"\", \"zerolinecolor\": \"white\"}, \"yaxis\": {\"backgroundcolor\": \"#E5ECF6\", \"gridcolor\": \"white\", \"gridwidth\": 2, \"linecolor\": \"white\", \"showbackground\": true, \"ticks\": \"\", \"zerolinecolor\": \"white\"}, \"zaxis\": {\"backgroundcolor\": \"#E5ECF6\", \"gridcolor\": \"white\", \"gridwidth\": 2, \"linecolor\": \"white\", \"showbackground\": true, \"ticks\": \"\", \"zerolinecolor\": \"white\"}}, \"shapedefaults\": {\"line\": {\"color\": \"#2a3f5f\"}}, \"ternary\": {\"aaxis\": {\"gridcolor\": \"white\", \"linecolor\": \"white\", \"ticks\": \"\"}, \"baxis\": {\"gridcolor\": \"white\", \"linecolor\": \"white\", \"ticks\": \"\"}, \"bgcolor\": \"#E5ECF6\", \"caxis\": {\"gridcolor\": \"white\", \"linecolor\": \"white\", \"ticks\": \"\"}}, \"title\": {\"x\": 0.05}, \"xaxis\": {\"automargin\": true, \"gridcolor\": \"white\", \"linecolor\": \"white\", \"ticks\": \"\", \"title\": {\"standoff\": 15}, \"zerolinecolor\": \"white\", \"zerolinewidth\": 2}, \"yaxis\": {\"automargin\": true, \"gridcolor\": \"white\", \"linecolor\": \"white\", \"ticks\": \"\", \"title\": {\"standoff\": 15}, \"zerolinecolor\": \"white\", \"zerolinewidth\": 2}}}, \"title\": {\"text\": \"LCROSS Molecular Weight Percent\"}, \"xaxis\": {\"anchor\": \"y\", \"domain\": [0.0, 1.0], \"title\": {\"text\": \"Concentration (wt%)\"}}, \"yaxis\": {\"anchor\": \"x\", \"domain\": [0.0, 1.0], \"title\": {\"text\": \"Concentration (wt%)\"}}},\n",
              "                        {\"responsive\": true}\n",
              "                    ).then(function(){\n",
              "                            \n",
              "var gd = document.getElementById('ef6a067b-b600-491f-b6c3-3a9c3d3aca07');\n",
              "var x = new MutationObserver(function (mutations, observer) {{\n",
              "        var display = window.getComputedStyle(gd).display;\n",
              "        if (!display || display === 'none') {{\n",
              "            console.log([gd, 'removed!']);\n",
              "            Plotly.purge(gd);\n",
              "            observer.disconnect();\n",
              "        }}\n",
              "}});\n",
              "\n",
              "// Listen for the removal of the full notebook cells\n",
              "var notebookContainer = gd.closest('#notebook-container');\n",
              "if (notebookContainer) {{\n",
              "    x.observe(notebookContainer, {childList: true});\n",
              "}}\n",
              "\n",
              "// Listen for the clearing of the current output cell\n",
              "var outputEl = gd.closest('.output');\n",
              "if (outputEl) {{\n",
              "    x.observe(outputEl, {childList: true});\n",
              "}}\n",
              "\n",
              "                        })\n",
              "                };\n",
              "                \n",
              "            </script>\n",
              "        </div>\n",
              "</body>\n",
              "</html>"
            ]
          },
          "metadata": {
            "tags": []
          }
        }
      ]
    },
    {
      "cell_type": "markdown",
      "metadata": {
        "id": "_FKC_Gntt6N_"
      },
      "source": [
        "We need to count atoms in the molecules. We could do this by hand in a couple of minutes but would like to do it using extensable tools. We found a package calle ChemParse. https://pypi.org/project/chemparse/"
      ]
    },
    {
      "cell_type": "code",
      "metadata": {
        "id": "_sZPvtubPuLx",
        "outputId": "d79c5a7e-56d4-46c6-e9d1-cbcb4883ea76",
        "colab": {
          "base_uri": "https://localhost:8080/"
        }
      },
      "source": [
        "pip install chemparse #https://pypi.org/project/chemparse/"
      ],
      "execution_count": 11,
      "outputs": [
        {
          "output_type": "stream",
          "text": [
            "Collecting chemparse\n",
            "  Downloading https://files.pythonhosted.org/packages/33/90/074708249c3301c97b487ae5371f4c184bedc611a1af36c3869b7ecccf3f/chemparse-0.1.0.tar.gz\n",
            "Building wheels for collected packages: chemparse\n",
            "  Building wheel for chemparse (setup.py) ... \u001b[?25l\u001b[?25hdone\n",
            "  Created wheel for chemparse: filename=chemparse-0.1.0-cp36-none-any.whl size=2913 sha256=0d8b63eb145962f02bb03f945a8d80e666764414838cf44c6b2c9a05f211ebff\n",
            "  Stored in directory: /root/.cache/pip/wheels/6d/14/a5/1fee5885ee2793f331fe97ce98392ab4ee79b02147bbb4a59d\n",
            "Successfully built chemparse\n",
            "Installing collected packages: chemparse\n",
            "Successfully installed chemparse-0.1.0\n"
          ],
          "name": "stdout"
        }
      ]
    },
    {
      "cell_type": "code",
      "metadata": {
        "id": "Lplw99BQPy1h",
        "outputId": "bf028876-6563-4e81-9036-b0625657ed4c",
        "colab": {
          "base_uri": "https://localhost:8080/"
        }
      },
      "source": [
        "import chemparse #import chemparse \n",
        "print(chemparse.parse_formula(\"C6H12O6\")) #test with given example"
      ],
      "execution_count": 12,
      "outputs": [
        {
          "output_type": "stream",
          "text": [
            "{'C': 6.0, 'H': 12.0, 'O': 6.0}\n"
          ],
          "name": "stdout"
        }
      ]
    },
    {
      "cell_type": "code",
      "metadata": {
        "id": "0jGSksP4QBx0",
        "outputId": "09fab894-f589-4268-f4a1-60529e1956c6",
        "colab": {
          "base_uri": "https://localhost:8080/",
          "height": 35
        }
      },
      "source": [
        "df['Symbol'].to_list()[0] #learning how to use the chemparse by simplifying the input to the first molecule in our dataframe"
      ],
      "execution_count": 13,
      "outputs": [
        {
          "output_type": "execute_result",
          "data": {
            "application/vnd.google.colaboratory.intrinsic+json": {
              "type": "string"
            },
            "text/plain": [
              "'H2O'"
            ]
          },
          "metadata": {
            "tags": []
          },
          "execution_count": 13
        }
      ]
    },
    {
      "cell_type": "code",
      "metadata": {
        "id": "Z9tybamQQo2v",
        "outputId": "5516ff9e-764d-4146-d257-cf3977c46616",
        "colab": {
          "base_uri": "https://localhost:8080/"
        }
      },
      "source": [
        "aa=chemparse.parse_formula(df['Symbol'].to_list()[0]) #learning how to use the chemparse by looking at the output type\n",
        "print(type(aa))"
      ],
      "execution_count": 14,
      "outputs": [
        {
          "output_type": "stream",
          "text": [
            "<class 'dict'>\n"
          ],
          "name": "stdout"
        }
      ]
    },
    {
      "cell_type": "code",
      "metadata": {
        "id": "ITzyQOlLYw_m",
        "outputId": "989fedaa-afc3-4e31-dbc8-a35d44b6290f",
        "colab": {
          "base_uri": "https://localhost:8080/"
        }
      },
      "source": [
        "elements=[]\n",
        "for i in range(len(df['Symbol'].to_list())):\n",
        "  elements.append(chemparse.parse_formula(df['Symbol'].to_list()[i]))\n",
        "elements"
      ],
      "execution_count": 15,
      "outputs": [
        {
          "output_type": "execute_result",
          "data": {
            "text/plain": [
              "[{'H': 2.0, 'O': 1.0},\n",
              " {'H': 2.0, 'S': 1.0},\n",
              " {'H': 2.0},\n",
              " {'C': 1.0, 'O': 1.0},\n",
              " {'Ca': 1.0},\n",
              " {'H': 3.0, 'N': 1.0},\n",
              " {'Hg': 1.0},\n",
              " {'Mg': 1.0},\n",
              " {'O': 2.0, 'S': 1.0},\n",
              " {'C': 2.0, 'H': 4.0},\n",
              " {'C': 1.0, 'O': 2.0},\n",
              " {'C': 1.0, 'H': 4.0, 'O': 1.0},\n",
              " {'C': 1.0, 'H': 4.0}]"
            ]
          },
          "metadata": {
            "tags": []
          },
          "execution_count": 15
        }
      ]
    },
    {
      "cell_type": "code",
      "metadata": {
        "id": "vS0JV453src2",
        "outputId": "352d60ae-59fa-42db-bb14-1b6d5b7e3cd8",
        "colab": {
          "base_uri": "https://localhost:8080/"
        }
      },
      "source": [
        "print(type(elements)) #list of dictionaries "
      ],
      "execution_count": 16,
      "outputs": [
        {
          "output_type": "stream",
          "text": [
            "<class 'list'>\n"
          ],
          "name": "stdout"
        }
      ]
    },
    {
      "cell_type": "code",
      "metadata": {
        "id": "jA8hnO59ZvJh",
        "outputId": "8d609e03-1016-42c3-ef2b-0a07f9f4098d",
        "colab": {
          "base_uri": "https://localhost:8080/",
          "height": 449
        }
      },
      "source": [
        "df_e = pd.DataFrame(elements) #convert the list to a Pandas dataframe\n",
        "df_e"
      ],
      "execution_count": 17,
      "outputs": [
        {
          "output_type": "execute_result",
          "data": {
            "text/html": [
              "<div>\n",
              "<style scoped>\n",
              "    .dataframe tbody tr th:only-of-type {\n",
              "        vertical-align: middle;\n",
              "    }\n",
              "\n",
              "    .dataframe tbody tr th {\n",
              "        vertical-align: top;\n",
              "    }\n",
              "\n",
              "    .dataframe thead th {\n",
              "        text-align: right;\n",
              "    }\n",
              "</style>\n",
              "<table border=\"1\" class=\"dataframe\">\n",
              "  <thead>\n",
              "    <tr style=\"text-align: right;\">\n",
              "      <th></th>\n",
              "      <th>H</th>\n",
              "      <th>O</th>\n",
              "      <th>S</th>\n",
              "      <th>C</th>\n",
              "      <th>Ca</th>\n",
              "      <th>N</th>\n",
              "      <th>Hg</th>\n",
              "      <th>Mg</th>\n",
              "    </tr>\n",
              "  </thead>\n",
              "  <tbody>\n",
              "    <tr>\n",
              "      <th>0</th>\n",
              "      <td>2.0</td>\n",
              "      <td>1.0</td>\n",
              "      <td>NaN</td>\n",
              "      <td>NaN</td>\n",
              "      <td>NaN</td>\n",
              "      <td>NaN</td>\n",
              "      <td>NaN</td>\n",
              "      <td>NaN</td>\n",
              "    </tr>\n",
              "    <tr>\n",
              "      <th>1</th>\n",
              "      <td>2.0</td>\n",
              "      <td>NaN</td>\n",
              "      <td>1.0</td>\n",
              "      <td>NaN</td>\n",
              "      <td>NaN</td>\n",
              "      <td>NaN</td>\n",
              "      <td>NaN</td>\n",
              "      <td>NaN</td>\n",
              "    </tr>\n",
              "    <tr>\n",
              "      <th>2</th>\n",
              "      <td>2.0</td>\n",
              "      <td>NaN</td>\n",
              "      <td>NaN</td>\n",
              "      <td>NaN</td>\n",
              "      <td>NaN</td>\n",
              "      <td>NaN</td>\n",
              "      <td>NaN</td>\n",
              "      <td>NaN</td>\n",
              "    </tr>\n",
              "    <tr>\n",
              "      <th>3</th>\n",
              "      <td>NaN</td>\n",
              "      <td>1.0</td>\n",
              "      <td>NaN</td>\n",
              "      <td>1.0</td>\n",
              "      <td>NaN</td>\n",
              "      <td>NaN</td>\n",
              "      <td>NaN</td>\n",
              "      <td>NaN</td>\n",
              "    </tr>\n",
              "    <tr>\n",
              "      <th>4</th>\n",
              "      <td>NaN</td>\n",
              "      <td>NaN</td>\n",
              "      <td>NaN</td>\n",
              "      <td>NaN</td>\n",
              "      <td>1.0</td>\n",
              "      <td>NaN</td>\n",
              "      <td>NaN</td>\n",
              "      <td>NaN</td>\n",
              "    </tr>\n",
              "    <tr>\n",
              "      <th>5</th>\n",
              "      <td>3.0</td>\n",
              "      <td>NaN</td>\n",
              "      <td>NaN</td>\n",
              "      <td>NaN</td>\n",
              "      <td>NaN</td>\n",
              "      <td>1.0</td>\n",
              "      <td>NaN</td>\n",
              "      <td>NaN</td>\n",
              "    </tr>\n",
              "    <tr>\n",
              "      <th>6</th>\n",
              "      <td>NaN</td>\n",
              "      <td>NaN</td>\n",
              "      <td>NaN</td>\n",
              "      <td>NaN</td>\n",
              "      <td>NaN</td>\n",
              "      <td>NaN</td>\n",
              "      <td>1.0</td>\n",
              "      <td>NaN</td>\n",
              "    </tr>\n",
              "    <tr>\n",
              "      <th>7</th>\n",
              "      <td>NaN</td>\n",
              "      <td>NaN</td>\n",
              "      <td>NaN</td>\n",
              "      <td>NaN</td>\n",
              "      <td>NaN</td>\n",
              "      <td>NaN</td>\n",
              "      <td>NaN</td>\n",
              "      <td>1.0</td>\n",
              "    </tr>\n",
              "    <tr>\n",
              "      <th>8</th>\n",
              "      <td>NaN</td>\n",
              "      <td>2.0</td>\n",
              "      <td>1.0</td>\n",
              "      <td>NaN</td>\n",
              "      <td>NaN</td>\n",
              "      <td>NaN</td>\n",
              "      <td>NaN</td>\n",
              "      <td>NaN</td>\n",
              "    </tr>\n",
              "    <tr>\n",
              "      <th>9</th>\n",
              "      <td>4.0</td>\n",
              "      <td>NaN</td>\n",
              "      <td>NaN</td>\n",
              "      <td>2.0</td>\n",
              "      <td>NaN</td>\n",
              "      <td>NaN</td>\n",
              "      <td>NaN</td>\n",
              "      <td>NaN</td>\n",
              "    </tr>\n",
              "    <tr>\n",
              "      <th>10</th>\n",
              "      <td>NaN</td>\n",
              "      <td>2.0</td>\n",
              "      <td>NaN</td>\n",
              "      <td>1.0</td>\n",
              "      <td>NaN</td>\n",
              "      <td>NaN</td>\n",
              "      <td>NaN</td>\n",
              "      <td>NaN</td>\n",
              "    </tr>\n",
              "    <tr>\n",
              "      <th>11</th>\n",
              "      <td>4.0</td>\n",
              "      <td>1.0</td>\n",
              "      <td>NaN</td>\n",
              "      <td>1.0</td>\n",
              "      <td>NaN</td>\n",
              "      <td>NaN</td>\n",
              "      <td>NaN</td>\n",
              "      <td>NaN</td>\n",
              "    </tr>\n",
              "    <tr>\n",
              "      <th>12</th>\n",
              "      <td>4.0</td>\n",
              "      <td>NaN</td>\n",
              "      <td>NaN</td>\n",
              "      <td>1.0</td>\n",
              "      <td>NaN</td>\n",
              "      <td>NaN</td>\n",
              "      <td>NaN</td>\n",
              "      <td>NaN</td>\n",
              "    </tr>\n",
              "  </tbody>\n",
              "</table>\n",
              "</div>"
            ],
            "text/plain": [
              "      H    O    S    C   Ca    N   Hg   Mg\n",
              "0   2.0  1.0  NaN  NaN  NaN  NaN  NaN  NaN\n",
              "1   2.0  NaN  1.0  NaN  NaN  NaN  NaN  NaN\n",
              "2   2.0  NaN  NaN  NaN  NaN  NaN  NaN  NaN\n",
              "3   NaN  1.0  NaN  1.0  NaN  NaN  NaN  NaN\n",
              "4   NaN  NaN  NaN  NaN  1.0  NaN  NaN  NaN\n",
              "5   3.0  NaN  NaN  NaN  NaN  1.0  NaN  NaN\n",
              "6   NaN  NaN  NaN  NaN  NaN  NaN  1.0  NaN\n",
              "7   NaN  NaN  NaN  NaN  NaN  NaN  NaN  1.0\n",
              "8   NaN  2.0  1.0  NaN  NaN  NaN  NaN  NaN\n",
              "9   4.0  NaN  NaN  2.0  NaN  NaN  NaN  NaN\n",
              "10  NaN  2.0  NaN  1.0  NaN  NaN  NaN  NaN\n",
              "11  4.0  1.0  NaN  1.0  NaN  NaN  NaN  NaN\n",
              "12  4.0  NaN  NaN  1.0  NaN  NaN  NaN  NaN"
            ]
          },
          "metadata": {
            "tags": []
          },
          "execution_count": 17
        }
      ]
    },
    {
      "cell_type": "code",
      "metadata": {
        "id": "1JVMp3H5apKG",
        "outputId": "5a3fa572-61d1-4f21-f101-e1a473116bc7",
        "colab": {
          "base_uri": "https://localhost:8080/",
          "height": 449
        }
      },
      "source": [
        "df_m = pd.concat([df, df_e], axis=1, sort=False) #combine the results of parsing the molecules with the original dataframe\n",
        "df_m=df_m.fillna(0) #fill the NaN with 0\n",
        "df_m"
      ],
      "execution_count": 18,
      "outputs": [
        {
          "output_type": "execute_result",
          "data": {
            "text/html": [
              "<div>\n",
              "<style scoped>\n",
              "    .dataframe tbody tr th:only-of-type {\n",
              "        vertical-align: middle;\n",
              "    }\n",
              "\n",
              "    .dataframe tbody tr th {\n",
              "        vertical-align: top;\n",
              "    }\n",
              "\n",
              "    .dataframe thead th {\n",
              "        text-align: right;\n",
              "    }\n",
              "</style>\n",
              "<table border=\"1\" class=\"dataframe\">\n",
              "  <thead>\n",
              "    <tr style=\"text-align: right;\">\n",
              "      <th></th>\n",
              "      <th>Compound</th>\n",
              "      <th>Symbol</th>\n",
              "      <th>Concentration (wt%)</th>\n",
              "      <th>H</th>\n",
              "      <th>O</th>\n",
              "      <th>S</th>\n",
              "      <th>C</th>\n",
              "      <th>Ca</th>\n",
              "      <th>N</th>\n",
              "      <th>Hg</th>\n",
              "      <th>Mg</th>\n",
              "    </tr>\n",
              "  </thead>\n",
              "  <tbody>\n",
              "    <tr>\n",
              "      <th>0</th>\n",
              "      <td>water</td>\n",
              "      <td>H2O</td>\n",
              "      <td>5.50</td>\n",
              "      <td>2.0</td>\n",
              "      <td>1.0</td>\n",
              "      <td>0.0</td>\n",
              "      <td>0.0</td>\n",
              "      <td>0.0</td>\n",
              "      <td>0.0</td>\n",
              "      <td>0.0</td>\n",
              "      <td>0.0</td>\n",
              "    </tr>\n",
              "    <tr>\n",
              "      <th>1</th>\n",
              "      <td>hydrogen sulfide</td>\n",
              "      <td>H2S</td>\n",
              "      <td>0.92</td>\n",
              "      <td>2.0</td>\n",
              "      <td>0.0</td>\n",
              "      <td>1.0</td>\n",
              "      <td>0.0</td>\n",
              "      <td>0.0</td>\n",
              "      <td>0.0</td>\n",
              "      <td>0.0</td>\n",
              "      <td>0.0</td>\n",
              "    </tr>\n",
              "    <tr>\n",
              "      <th>2</th>\n",
              "      <td>hydrogen gas</td>\n",
              "      <td>H2</td>\n",
              "      <td>0.69</td>\n",
              "      <td>2.0</td>\n",
              "      <td>0.0</td>\n",
              "      <td>0.0</td>\n",
              "      <td>0.0</td>\n",
              "      <td>0.0</td>\n",
              "      <td>0.0</td>\n",
              "      <td>0.0</td>\n",
              "      <td>0.0</td>\n",
              "    </tr>\n",
              "    <tr>\n",
              "      <th>3</th>\n",
              "      <td>carbon monoxide</td>\n",
              "      <td>CO</td>\n",
              "      <td>0.57</td>\n",
              "      <td>0.0</td>\n",
              "      <td>1.0</td>\n",
              "      <td>0.0</td>\n",
              "      <td>1.0</td>\n",
              "      <td>0.0</td>\n",
              "      <td>0.0</td>\n",
              "      <td>0.0</td>\n",
              "      <td>0.0</td>\n",
              "    </tr>\n",
              "    <tr>\n",
              "      <th>4</th>\n",
              "      <td>calcium</td>\n",
              "      <td>Ca</td>\n",
              "      <td>0.40</td>\n",
              "      <td>0.0</td>\n",
              "      <td>0.0</td>\n",
              "      <td>0.0</td>\n",
              "      <td>0.0</td>\n",
              "      <td>1.0</td>\n",
              "      <td>0.0</td>\n",
              "      <td>0.0</td>\n",
              "      <td>0.0</td>\n",
              "    </tr>\n",
              "    <tr>\n",
              "      <th>5</th>\n",
              "      <td>ammonia</td>\n",
              "      <td>NH3</td>\n",
              "      <td>0.33</td>\n",
              "      <td>3.0</td>\n",
              "      <td>0.0</td>\n",
              "      <td>0.0</td>\n",
              "      <td>0.0</td>\n",
              "      <td>0.0</td>\n",
              "      <td>1.0</td>\n",
              "      <td>0.0</td>\n",
              "      <td>0.0</td>\n",
              "    </tr>\n",
              "    <tr>\n",
              "      <th>6</th>\n",
              "      <td>mercury</td>\n",
              "      <td>Hg</td>\n",
              "      <td>0.24</td>\n",
              "      <td>0.0</td>\n",
              "      <td>0.0</td>\n",
              "      <td>0.0</td>\n",
              "      <td>0.0</td>\n",
              "      <td>0.0</td>\n",
              "      <td>0.0</td>\n",
              "      <td>1.0</td>\n",
              "      <td>0.0</td>\n",
              "    </tr>\n",
              "    <tr>\n",
              "      <th>7</th>\n",
              "      <td>magnesium</td>\n",
              "      <td>Mg</td>\n",
              "      <td>0.19</td>\n",
              "      <td>0.0</td>\n",
              "      <td>0.0</td>\n",
              "      <td>0.0</td>\n",
              "      <td>0.0</td>\n",
              "      <td>0.0</td>\n",
              "      <td>0.0</td>\n",
              "      <td>0.0</td>\n",
              "      <td>1.0</td>\n",
              "    </tr>\n",
              "    <tr>\n",
              "      <th>8</th>\n",
              "      <td>sulfur dioxide</td>\n",
              "      <td>SO2</td>\n",
              "      <td>0.18</td>\n",
              "      <td>0.0</td>\n",
              "      <td>2.0</td>\n",
              "      <td>1.0</td>\n",
              "      <td>0.0</td>\n",
              "      <td>0.0</td>\n",
              "      <td>0.0</td>\n",
              "      <td>0.0</td>\n",
              "      <td>0.0</td>\n",
              "    </tr>\n",
              "    <tr>\n",
              "      <th>9</th>\n",
              "      <td>ethylene</td>\n",
              "      <td>C2H4</td>\n",
              "      <td>0.17</td>\n",
              "      <td>4.0</td>\n",
              "      <td>0.0</td>\n",
              "      <td>0.0</td>\n",
              "      <td>2.0</td>\n",
              "      <td>0.0</td>\n",
              "      <td>0.0</td>\n",
              "      <td>0.0</td>\n",
              "      <td>0.0</td>\n",
              "    </tr>\n",
              "    <tr>\n",
              "      <th>10</th>\n",
              "      <td>carbon dioxide</td>\n",
              "      <td>CO2</td>\n",
              "      <td>0.12</td>\n",
              "      <td>0.0</td>\n",
              "      <td>2.0</td>\n",
              "      <td>0.0</td>\n",
              "      <td>1.0</td>\n",
              "      <td>0.0</td>\n",
              "      <td>0.0</td>\n",
              "      <td>0.0</td>\n",
              "      <td>0.0</td>\n",
              "    </tr>\n",
              "    <tr>\n",
              "      <th>11</th>\n",
              "      <td>methanol</td>\n",
              "      <td>CH3OH</td>\n",
              "      <td>0.09</td>\n",
              "      <td>4.0</td>\n",
              "      <td>1.0</td>\n",
              "      <td>0.0</td>\n",
              "      <td>1.0</td>\n",
              "      <td>0.0</td>\n",
              "      <td>0.0</td>\n",
              "      <td>0.0</td>\n",
              "      <td>0.0</td>\n",
              "    </tr>\n",
              "    <tr>\n",
              "      <th>12</th>\n",
              "      <td>methane</td>\n",
              "      <td>CH4</td>\n",
              "      <td>0.04</td>\n",
              "      <td>4.0</td>\n",
              "      <td>0.0</td>\n",
              "      <td>0.0</td>\n",
              "      <td>1.0</td>\n",
              "      <td>0.0</td>\n",
              "      <td>0.0</td>\n",
              "      <td>0.0</td>\n",
              "      <td>0.0</td>\n",
              "    </tr>\n",
              "  </tbody>\n",
              "</table>\n",
              "</div>"
            ],
            "text/plain": [
              "            Compound Symbol  Concentration (wt%)    H  ...   Ca    N   Hg   Mg\n",
              "0              water    H2O                 5.50  2.0  ...  0.0  0.0  0.0  0.0\n",
              "1   hydrogen sulfide    H2S                 0.92  2.0  ...  0.0  0.0  0.0  0.0\n",
              "2       hydrogen gas     H2                 0.69  2.0  ...  0.0  0.0  0.0  0.0\n",
              "3    carbon monoxide     CO                 0.57  0.0  ...  0.0  0.0  0.0  0.0\n",
              "4            calcium     Ca                 0.40  0.0  ...  1.0  0.0  0.0  0.0\n",
              "5            ammonia    NH3                 0.33  3.0  ...  0.0  1.0  0.0  0.0\n",
              "6            mercury     Hg                 0.24  0.0  ...  0.0  0.0  1.0  0.0\n",
              "7          magnesium     Mg                 0.19  0.0  ...  0.0  0.0  0.0  1.0\n",
              "8     sulfur dioxide    SO2                 0.18  0.0  ...  0.0  0.0  0.0  0.0\n",
              "9           ethylene   C2H4                 0.17  4.0  ...  0.0  0.0  0.0  0.0\n",
              "10    carbon dioxide    CO2                 0.12  0.0  ...  0.0  0.0  0.0  0.0\n",
              "11          methanol  CH3OH                 0.09  4.0  ...  0.0  0.0  0.0  0.0\n",
              "12           methane    CH4                 0.04  4.0  ...  0.0  0.0  0.0  0.0\n",
              "\n",
              "[13 rows x 11 columns]"
            ]
          },
          "metadata": {
            "tags": []
          },
          "execution_count": 18
        }
      ]
    },
    {
      "cell_type": "code",
      "metadata": {
        "id": "By3Y3NvF7sxR",
        "outputId": "ccf08c89-ab1c-47b9-b428-518e38a5e311",
        "colab": {
          "base_uri": "https://localhost:8080/"
        }
      },
      "source": [
        "df_m.iloc[:,4:12].sum()"
      ],
      "execution_count": 19,
      "outputs": [
        {
          "output_type": "execute_result",
          "data": {
            "text/plain": [
              "O     7.0\n",
              "S     2.0\n",
              "C     6.0\n",
              "Ca    1.0\n",
              "N     1.0\n",
              "Hg    1.0\n",
              "Mg    1.0\n",
              "dtype: float64"
            ]
          },
          "metadata": {
            "tags": []
          },
          "execution_count": 19
        }
      ]
    },
    {
      "cell_type": "code",
      "metadata": {
        "id": "jkV1-kMWArQZ"
      },
      "source": [
        ""
      ],
      "execution_count": 19,
      "outputs": []
    },
    {
      "cell_type": "code",
      "metadata": {
        "id": "vih9Wg8edH_s",
        "outputId": "d8d860e7-9212-43dc-b5b6-a9e8b76af30e",
        "colab": {
          "base_uri": "https://localhost:8080/",
          "height": 264
        }
      },
      "source": [
        "df_atoms=[]\n",
        "df_atoms=pd.DataFrame(df_m.iloc[:,4:12]).sum().reset_index(name='AtomCount') #calculate the sum of each unique atomic type for all molecules observed\n",
        "df_atoms\n"
      ],
      "execution_count": 20,
      "outputs": [
        {
          "output_type": "execute_result",
          "data": {
            "text/html": [
              "<div>\n",
              "<style scoped>\n",
              "    .dataframe tbody tr th:only-of-type {\n",
              "        vertical-align: middle;\n",
              "    }\n",
              "\n",
              "    .dataframe tbody tr th {\n",
              "        vertical-align: top;\n",
              "    }\n",
              "\n",
              "    .dataframe thead th {\n",
              "        text-align: right;\n",
              "    }\n",
              "</style>\n",
              "<table border=\"1\" class=\"dataframe\">\n",
              "  <thead>\n",
              "    <tr style=\"text-align: right;\">\n",
              "      <th></th>\n",
              "      <th>index</th>\n",
              "      <th>AtomCount</th>\n",
              "    </tr>\n",
              "  </thead>\n",
              "  <tbody>\n",
              "    <tr>\n",
              "      <th>0</th>\n",
              "      <td>O</td>\n",
              "      <td>7.0</td>\n",
              "    </tr>\n",
              "    <tr>\n",
              "      <th>1</th>\n",
              "      <td>S</td>\n",
              "      <td>2.0</td>\n",
              "    </tr>\n",
              "    <tr>\n",
              "      <th>2</th>\n",
              "      <td>C</td>\n",
              "      <td>6.0</td>\n",
              "    </tr>\n",
              "    <tr>\n",
              "      <th>3</th>\n",
              "      <td>Ca</td>\n",
              "      <td>1.0</td>\n",
              "    </tr>\n",
              "    <tr>\n",
              "      <th>4</th>\n",
              "      <td>N</td>\n",
              "      <td>1.0</td>\n",
              "    </tr>\n",
              "    <tr>\n",
              "      <th>5</th>\n",
              "      <td>Hg</td>\n",
              "      <td>1.0</td>\n",
              "    </tr>\n",
              "    <tr>\n",
              "      <th>6</th>\n",
              "      <td>Mg</td>\n",
              "      <td>1.0</td>\n",
              "    </tr>\n",
              "  </tbody>\n",
              "</table>\n",
              "</div>"
            ],
            "text/plain": [
              "  index  AtomCount\n",
              "0     O        7.0\n",
              "1     S        2.0\n",
              "2     C        6.0\n",
              "3    Ca        1.0\n",
              "4     N        1.0\n",
              "5    Hg        1.0\n",
              "6    Mg        1.0"
            ]
          },
          "metadata": {
            "tags": []
          },
          "execution_count": 20
        }
      ]
    },
    {
      "cell_type": "code",
      "metadata": {
        "id": "zKWqo-rdSkQ7",
        "outputId": "fd684470-d203-4e1c-8bdf-ec3db958f136",
        "colab": {
          "base_uri": "https://localhost:8080/",
          "height": 284
        }
      },
      "source": [
        "# using the principals of minimizing unnecessary color to usful data ink this histogram conveys the information simply.\n",
        "df_atoms.plot(x='index', y='AtomCount', kind='bar', legend=False)  \n",
        "plt.ylabel('Atom Count')\n",
        "plt.xlabel('Element Name')\n",
        "plt.grid()\n",
        "plt.show()"
      ],
      "execution_count": 22,
      "outputs": [
        {
          "output_type": "display_data",
          "data": {
            "image/png": "[encoded data removed]",
            "text/plain": [
              "<Figure size 432x288 with 1 Axes>"
            ]
          },
          "metadata": {
            "tags": [],
            "needs_background": "light"
          }
        }
      ]
    },
    {
      "cell_type": "markdown",
      "metadata": {
        "id": "daWprb9nniub"
      },
      "source": [
        "This indicates there are enough carbon atoms to be of interest for resource use. The next steps will calculate the weight percent elemental abundance in the sample. "
      ]
    },
    {
      "cell_type": "markdown",
      "metadata": {
        "id": "9uMA60bH8QY_"
      },
      "source": [
        "#End of compelete work. Below are the attempts at the next steps. "
      ]
    },
    {
      "cell_type": "code",
      "metadata": {
        "id": "nC95mH4ok7uN",
        "outputId": "5826582a-56da-44c8-8001-4c37749bd149",
        "colab": {
          "base_uri": "https://localhost:8080/",
          "height": 291
        }
      },
      "source": [
        "#Make a dataframe of the periodic table of elements from this location- https://gist.github.com/GoodmanSciences/c2dd862cd38f21b0ad36b8f96b4bf1ee \n",
        "df_pt=pd.read_csv('https://gist.githubusercontent.com/GoodmanSciences/c2dd862cd38f21b0ad36b8f96b4bf1ee/raw/1d92663004489a5b6926e944c1b3d9ec5c40900e/Periodic%2520Table%2520of%2520Elements.csv')\n",
        "df_pt.head()"
      ],
      "execution_count": 23,
      "outputs": [
        {
          "output_type": "execute_result",
          "data": {
            "text/html": [
              "<div>\n",
              "<style scoped>\n",
              "    .dataframe tbody tr th:only-of-type {\n",
              "        vertical-align: middle;\n",
              "    }\n",
              "\n",
              "    .dataframe tbody tr th {\n",
              "        vertical-align: top;\n",
              "    }\n",
              "\n",
              "    .dataframe thead th {\n",
              "        text-align: right;\n",
              "    }\n",
              "</style>\n",
              "<table border=\"1\" class=\"dataframe\">\n",
              "  <thead>\n",
              "    <tr style=\"text-align: right;\">\n",
              "      <th></th>\n",
              "      <th>AtomicNumber</th>\n",
              "      <th>Element</th>\n",
              "      <th>Symbol</th>\n",
              "      <th>AtomicMass</th>\n",
              "      <th>NumberofNeutrons</th>\n",
              "      <th>NumberofProtons</th>\n",
              "      <th>NumberofElectrons</th>\n",
              "      <th>Period</th>\n",
              "      <th>Group</th>\n",
              "      <th>Phase</th>\n",
              "      <th>Radioactive</th>\n",
              "      <th>Natural</th>\n",
              "      <th>Metal</th>\n",
              "      <th>Nonmetal</th>\n",
              "      <th>Metalloid</th>\n",
              "      <th>Type</th>\n",
              "      <th>AtomicRadius</th>\n",
              "      <th>Electronegativity</th>\n",
              "      <th>FirstIonization</th>\n",
              "      <th>Density</th>\n",
              "      <th>MeltingPoint</th>\n",
              "      <th>BoilingPoint</th>\n",
              "      <th>NumberOfIsotopes</th>\n",
              "      <th>Discoverer</th>\n",
              "      <th>Year</th>\n",
              "      <th>SpecificHeat</th>\n",
              "      <th>NumberofShells</th>\n",
              "      <th>NumberofValence</th>\n",
              "    </tr>\n",
              "  </thead>\n",
              "  <tbody>\n",
              "    <tr>\n",
              "      <th>0</th>\n",
              "      <td>1</td>\n",
              "      <td>Hydrogen</td>\n",
              "      <td>H</td>\n",
              "      <td>1.007</td>\n",
              "      <td>0</td>\n",
              "      <td>1</td>\n",
              "      <td>1</td>\n",
              "      <td>1</td>\n",
              "      <td>1.0</td>\n",
              "      <td>gas</td>\n",
              "      <td>NaN</td>\n",
              "      <td>yes</td>\n",
              "      <td>NaN</td>\n",
              "      <td>yes</td>\n",
              "      <td>NaN</td>\n",
              "      <td>Nonmetal</td>\n",
              "      <td>0.79</td>\n",
              "      <td>2.20</td>\n",
              "      <td>13.5984</td>\n",
              "      <td>0.000090</td>\n",
              "      <td>14.175</td>\n",
              "      <td>20.28</td>\n",
              "      <td>3.0</td>\n",
              "      <td>Cavendish</td>\n",
              "      <td>1766.0</td>\n",
              "      <td>14.304</td>\n",
              "      <td>1</td>\n",
              "      <td>1.0</td>\n",
              "    </tr>\n",
              "    <tr>\n",
              "      <th>1</th>\n",
              "      <td>2</td>\n",
              "      <td>Helium</td>\n",
              "      <td>He</td>\n",
              "      <td>4.002</td>\n",
              "      <td>2</td>\n",
              "      <td>2</td>\n",
              "      <td>2</td>\n",
              "      <td>1</td>\n",
              "      <td>18.0</td>\n",
              "      <td>gas</td>\n",
              "      <td>NaN</td>\n",
              "      <td>yes</td>\n",
              "      <td>NaN</td>\n",
              "      <td>yes</td>\n",
              "      <td>NaN</td>\n",
              "      <td>Noble Gas</td>\n",
              "      <td>0.49</td>\n",
              "      <td>NaN</td>\n",
              "      <td>24.5874</td>\n",
              "      <td>0.000179</td>\n",
              "      <td>NaN</td>\n",
              "      <td>4.22</td>\n",
              "      <td>5.0</td>\n",
              "      <td>Janssen</td>\n",
              "      <td>1868.0</td>\n",
              "      <td>5.193</td>\n",
              "      <td>1</td>\n",
              "      <td>NaN</td>\n",
              "    </tr>\n",
              "    <tr>\n",
              "      <th>2</th>\n",
              "      <td>3</td>\n",
              "      <td>Lithium</td>\n",
              "      <td>Li</td>\n",
              "      <td>6.941</td>\n",
              "      <td>4</td>\n",
              "      <td>3</td>\n",
              "      <td>3</td>\n",
              "      <td>2</td>\n",
              "      <td>1.0</td>\n",
              "      <td>solid</td>\n",
              "      <td>NaN</td>\n",
              "      <td>yes</td>\n",
              "      <td>yes</td>\n",
              "      <td>NaN</td>\n",
              "      <td>NaN</td>\n",
              "      <td>Alkali Metal</td>\n",
              "      <td>2.10</td>\n",
              "      <td>0.98</td>\n",
              "      <td>5.3917</td>\n",
              "      <td>0.534000</td>\n",
              "      <td>453.850</td>\n",
              "      <td>1615.00</td>\n",
              "      <td>5.0</td>\n",
              "      <td>Arfvedson</td>\n",
              "      <td>1817.0</td>\n",
              "      <td>3.582</td>\n",
              "      <td>2</td>\n",
              "      <td>1.0</td>\n",
              "    </tr>\n",
              "    <tr>\n",
              "      <th>3</th>\n",
              "      <td>4</td>\n",
              "      <td>Beryllium</td>\n",
              "      <td>Be</td>\n",
              "      <td>9.012</td>\n",
              "      <td>5</td>\n",
              "      <td>4</td>\n",
              "      <td>4</td>\n",
              "      <td>2</td>\n",
              "      <td>2.0</td>\n",
              "      <td>solid</td>\n",
              "      <td>NaN</td>\n",
              "      <td>yes</td>\n",
              "      <td>yes</td>\n",
              "      <td>NaN</td>\n",
              "      <td>NaN</td>\n",
              "      <td>Alkaline Earth Metal</td>\n",
              "      <td>1.40</td>\n",
              "      <td>1.57</td>\n",
              "      <td>9.3227</td>\n",
              "      <td>1.850000</td>\n",
              "      <td>1560.150</td>\n",
              "      <td>2742.00</td>\n",
              "      <td>6.0</td>\n",
              "      <td>Vaulquelin</td>\n",
              "      <td>1798.0</td>\n",
              "      <td>1.825</td>\n",
              "      <td>2</td>\n",
              "      <td>2.0</td>\n",
              "    </tr>\n",
              "    <tr>\n",
              "      <th>4</th>\n",
              "      <td>5</td>\n",
              "      <td>Boron</td>\n",
              "      <td>B</td>\n",
              "      <td>10.811</td>\n",
              "      <td>6</td>\n",
              "      <td>5</td>\n",
              "      <td>5</td>\n",
              "      <td>2</td>\n",
              "      <td>13.0</td>\n",
              "      <td>solid</td>\n",
              "      <td>NaN</td>\n",
              "      <td>yes</td>\n",
              "      <td>NaN</td>\n",
              "      <td>NaN</td>\n",
              "      <td>yes</td>\n",
              "      <td>Metalloid</td>\n",
              "      <td>1.20</td>\n",
              "      <td>2.04</td>\n",
              "      <td>8.2980</td>\n",
              "      <td>2.340000</td>\n",
              "      <td>2573.150</td>\n",
              "      <td>4200.00</td>\n",
              "      <td>6.0</td>\n",
              "      <td>Gay-Lussac</td>\n",
              "      <td>1808.0</td>\n",
              "      <td>1.026</td>\n",
              "      <td>2</td>\n",
              "      <td>3.0</td>\n",
              "    </tr>\n",
              "  </tbody>\n",
              "</table>\n",
              "</div>"
            ],
            "text/plain": [
              "   AtomicNumber    Element  ... NumberofShells  NumberofValence\n",
              "0             1   Hydrogen  ...              1              1.0\n",
              "1             2     Helium  ...              1              NaN\n",
              "2             3    Lithium  ...              2              1.0\n",
              "3             4  Beryllium  ...              2              2.0\n",
              "4             5      Boron  ...              2              3.0\n",
              "\n",
              "[5 rows x 28 columns]"
            ]
          },
          "metadata": {
            "tags": []
          },
          "execution_count": 23
        }
      ]
    },
    {
      "cell_type": "code",
      "metadata": {
        "id": "zkMbkxcSptDx",
        "outputId": "ec4f54bd-e042-41db-9a02-4cf9bbefddd6",
        "colab": {
          "base_uri": "https://localhost:8080/",
          "height": 233
        }
      },
      "source": [
        "df_pt.iloc[:,2:4].head(6) #I want just the two columns from the Periodic table with te Symbol and Atomic mass and then I want to match the Symbol field to the previous dataframe. "
      ],
      "execution_count": 24,
      "outputs": [
        {
          "output_type": "execute_result",
          "data": {
            "text/html": [
              "<div>\n",
              "<style scoped>\n",
              "    .dataframe tbody tr th:only-of-type {\n",
              "        vertical-align: middle;\n",
              "    }\n",
              "\n",
              "    .dataframe tbody tr th {\n",
              "        vertical-align: top;\n",
              "    }\n",
              "\n",
              "    .dataframe thead th {\n",
              "        text-align: right;\n",
              "    }\n",
              "</style>\n",
              "<table border=\"1\" class=\"dataframe\">\n",
              "  <thead>\n",
              "    <tr style=\"text-align: right;\">\n",
              "      <th></th>\n",
              "      <th>Symbol</th>\n",
              "      <th>AtomicMass</th>\n",
              "    </tr>\n",
              "  </thead>\n",
              "  <tbody>\n",
              "    <tr>\n",
              "      <th>0</th>\n",
              "      <td>H</td>\n",
              "      <td>1.007</td>\n",
              "    </tr>\n",
              "    <tr>\n",
              "      <th>1</th>\n",
              "      <td>He</td>\n",
              "      <td>4.002</td>\n",
              "    </tr>\n",
              "    <tr>\n",
              "      <th>2</th>\n",
              "      <td>Li</td>\n",
              "      <td>6.941</td>\n",
              "    </tr>\n",
              "    <tr>\n",
              "      <th>3</th>\n",
              "      <td>Be</td>\n",
              "      <td>9.012</td>\n",
              "    </tr>\n",
              "    <tr>\n",
              "      <th>4</th>\n",
              "      <td>B</td>\n",
              "      <td>10.811</td>\n",
              "    </tr>\n",
              "    <tr>\n",
              "      <th>5</th>\n",
              "      <td>C</td>\n",
              "      <td>12.011</td>\n",
              "    </tr>\n",
              "  </tbody>\n",
              "</table>\n",
              "</div>"
            ],
            "text/plain": [
              "  Symbol  AtomicMass\n",
              "0      H       1.007\n",
              "1     He       4.002\n",
              "2     Li       6.941\n",
              "3     Be       9.012\n",
              "4      B      10.811\n",
              "5      C      12.011"
            ]
          },
          "metadata": {
            "tags": []
          },
          "execution_count": 24
        }
      ]
    },
    {
      "cell_type": "code",
      "metadata": {
        "id": "TQgVV9Nlppiy"
      },
      "source": [
        ""
      ],
      "execution_count": 24,
      "outputs": []
    },
    {
      "cell_type": "markdown",
      "metadata": {
        "id": "ByPWKnHnrr2e"
      },
      "source": [
        "Next I want to make a column of atomic weights and then multiply the weights by the number of atoms to get the atomic weight percent. A description of the process is here. \n",
        "https://www.scribd.com/doc/74247139/How-to-Convert-Atomic-Percent-to-Weight-Percent-and-Vice-Versa\n"
      ]
    },
    {
      "cell_type": "code",
      "metadata": {
        "id": "AqPbN5p8bv4n"
      },
      "source": [
        "#alternate method of merging dataframes.\n",
        "#merge them together, aligning rows based on their labels in the index\n",
        "#df_merged = pd.merge(left=df_econ, right=df_race, how='inner', left_index=True, right_index=True)\n",
        "#df_merged.head()\n"
      ],
      "execution_count": 25,
      "outputs": []
    }
  ]
}