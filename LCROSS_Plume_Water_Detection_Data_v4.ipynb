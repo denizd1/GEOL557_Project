{
  "nbformat": 4,
  "nbformat_minor": 0,
  "metadata": {
    "colab": {
      "name": "LCROSS Plume Water Detection Data_v4.ipynb",
      "provenance": [],
      "collapsed_sections": [],
      "include_colab_link": true
    },
    "kernelspec": {
      "name": "python3",
      "display_name": "Python 3"
    }
  },
  "cells": [
    {
      "cell_type": "markdown",
      "metadata": {
        "id": "view-in-github",
        "colab_type": "text"
      },
      "source": [
        "<a href=\"https://colab.research.google.com/github/denizd1/GEOL557_Project/blob/main/LCROSS_Plume_Water_Detection_Data_v4.ipynb\" target=\"_parent\"><img src=\"https://colab.research.google.com/assets/colab-badge.svg\" alt=\"Open In Colab\"/></a>"
      ]
    },
    {
      "cell_type": "markdown",
      "metadata": {
        "id": "1rROLu0tRzxa"
      },
      "source": [
        "LCROSS Plume Water Detection Data\n",
        "\n"
      ]
    },
    {
      "cell_type": "code",
      "metadata": {
        "id": "1GzuRFlLSCB0"
      },
      "source": [
        "import pandas as pd\n",
        "import matplotlib.pyplot as plt"
      ],
      "execution_count": 4,
      "outputs": []
    },
    {
      "cell_type": "code",
      "metadata": {
        "id": "LuSLg_XcSEUR",
        "outputId": "f0ae462b-5daf-428a-8d5b-426f28739345",
        "colab": {
          "base_uri": "https://localhost:8080/",
          "height": 452
        }
      },
      "source": [
        "data = {'Compound':['water', 'hydrogen sulfide', 'hydrogen gas', 'carbon monoxide', 'calcium', 'ammonia','mercury','magnesium','sulfur dioxide','ethylene','carbon dioxide','methanol','methane'],\n",
        "        'Symbol':['H2O','H2S','H2','CO','Ca','NH3','Hg','Mg','SO2','C2H4','CO2','CH3OH','CH4'],\n",
        "        'Concentration (wt%)':[5.5,0.92,0.69,0.57,0.4,0.33,0.24,0.19,0.18,0.17,0.12,0.09,0.04]}\n",
        "df = pd.DataFrame(data)\n",
        "df"
      ],
      "execution_count": 23,
      "outputs": [
        {
          "output_type": "execute_result",
          "data": {
            "text/html": [
              "<div>\n",
              "<style scoped>\n",
              "    .dataframe tbody tr th:only-of-type {\n",
              "        vertical-align: middle;\n",
              "    }\n",
              "\n",
              "    .dataframe tbody tr th {\n",
              "        vertical-align: top;\n",
              "    }\n",
              "\n",
              "    .dataframe thead th {\n",
              "        text-align: right;\n",
              "    }\n",
              "</style>\n",
              "<table border=\"1\" class=\"dataframe\">\n",
              "  <thead>\n",
              "    <tr style=\"text-align: right;\">\n",
              "      <th></th>\n",
              "      <th>Compound</th>\n",
              "      <th>Symbol</th>\n",
              "      <th>Concentration (wt%)</th>\n",
              "    </tr>\n",
              "  </thead>\n",
              "  <tbody>\n",
              "    <tr>\n",
              "      <th>0</th>\n",
              "      <td>water</td>\n",
              "      <td>H2O</td>\n",
              "      <td>5.50</td>\n",
              "    </tr>\n",
              "    <tr>\n",
              "      <th>1</th>\n",
              "      <td>hydrogen sulfide</td>\n",
              "      <td>H2S</td>\n",
              "      <td>0.92</td>\n",
              "    </tr>\n",
              "    <tr>\n",
              "      <th>2</th>\n",
              "      <td>hydrogen gas</td>\n",
              "      <td>H2</td>\n",
              "      <td>0.69</td>\n",
              "    </tr>\n",
              "    <tr>\n",
              "      <th>3</th>\n",
              "      <td>carbon monoxide</td>\n",
              "      <td>CO</td>\n",
              "      <td>0.57</td>\n",
              "    </tr>\n",
              "    <tr>\n",
              "      <th>4</th>\n",
              "      <td>calcium</td>\n",
              "      <td>Ca</td>\n",
              "      <td>0.40</td>\n",
              "    </tr>\n",
              "    <tr>\n",
              "      <th>5</th>\n",
              "      <td>ammonia</td>\n",
              "      <td>NH3</td>\n",
              "      <td>0.33</td>\n",
              "    </tr>\n",
              "    <tr>\n",
              "      <th>6</th>\n",
              "      <td>mercury</td>\n",
              "      <td>Hg</td>\n",
              "      <td>0.24</td>\n",
              "    </tr>\n",
              "    <tr>\n",
              "      <th>7</th>\n",
              "      <td>magnesium</td>\n",
              "      <td>Mg</td>\n",
              "      <td>0.19</td>\n",
              "    </tr>\n",
              "    <tr>\n",
              "      <th>8</th>\n",
              "      <td>sulfur dioxide</td>\n",
              "      <td>SO2</td>\n",
              "      <td>0.18</td>\n",
              "    </tr>\n",
              "    <tr>\n",
              "      <th>9</th>\n",
              "      <td>ethylene</td>\n",
              "      <td>C2H4</td>\n",
              "      <td>0.17</td>\n",
              "    </tr>\n",
              "    <tr>\n",
              "      <th>10</th>\n",
              "      <td>carbon dioxide</td>\n",
              "      <td>CO2</td>\n",
              "      <td>0.12</td>\n",
              "    </tr>\n",
              "    <tr>\n",
              "      <th>11</th>\n",
              "      <td>methanol</td>\n",
              "      <td>CH3OH</td>\n",
              "      <td>0.09</td>\n",
              "    </tr>\n",
              "    <tr>\n",
              "      <th>12</th>\n",
              "      <td>methane</td>\n",
              "      <td>CH4</td>\n",
              "      <td>0.04</td>\n",
              "    </tr>\n",
              "  </tbody>\n",
              "</table>\n",
              "</div>"
            ],
            "text/plain": [
              "            Compound Symbol  Concentration (wt%)\n",
              "0              water    H2O                 5.50\n",
              "1   hydrogen sulfide    H2S                 0.92\n",
              "2       hydrogen gas     H2                 0.69\n",
              "3    carbon monoxide     CO                 0.57\n",
              "4            calcium     Ca                 0.40\n",
              "5            ammonia    NH3                 0.33\n",
              "6            mercury     Hg                 0.24\n",
              "7          magnesium     Mg                 0.19\n",
              "8     sulfur dioxide    SO2                 0.18\n",
              "9           ethylene   C2H4                 0.17\n",
              "10    carbon dioxide    CO2                 0.12\n",
              "11          methanol  CH3OH                 0.09\n",
              "12           methane    CH4                 0.04"
            ]
          },
          "metadata": {
            "tags": []
          },
          "execution_count": 23
        }
      ]
    },
    {
      "cell_type": "code",
      "metadata": {
        "id": "aiC0SkZRuNkj",
        "outputId": "dd62cf6d-2fc3-436d-e80d-c0b76000c627",
        "colab": {
          "base_uri": "https://localhost:8080/",
          "height": 452
        }
      },
      "source": [
        "df2 = pd.read_csv('https://raw.githubusercontent.com/denizd1/GEOL557_Project/main/data/ColapreteA_2010_LCROSS_Plume_Water_Detection_CorrectedTable_from_GeorgeandChris.csv')\n",
        "df2"
      ],
      "execution_count": 6,
      "outputs": [
        {
          "output_type": "execute_result",
          "data": {
            "text/html": [
              "<div>\n",
              "<style scoped>\n",
              "    .dataframe tbody tr th:only-of-type {\n",
              "        vertical-align: middle;\n",
              "    }\n",
              "\n",
              "    .dataframe tbody tr th {\n",
              "        vertical-align: top;\n",
              "    }\n",
              "\n",
              "    .dataframe thead th {\n",
              "        text-align: right;\n",
              "    }\n",
              "</style>\n",
              "<table border=\"1\" class=\"dataframe\">\n",
              "  <thead>\n",
              "    <tr style=\"text-align: right;\">\n",
              "      <th></th>\n",
              "      <th>Compound</th>\n",
              "      <th>Symbol</th>\n",
              "      <th>Concentration (wt%)</th>\n",
              "    </tr>\n",
              "  </thead>\n",
              "  <tbody>\n",
              "    <tr>\n",
              "      <th>0</th>\n",
              "      <td>water</td>\n",
              "      <td>H2O</td>\n",
              "      <td>5.50</td>\n",
              "    </tr>\n",
              "    <tr>\n",
              "      <th>1</th>\n",
              "      <td>hydrogen sulfide</td>\n",
              "      <td>H2S</td>\n",
              "      <td>0.92</td>\n",
              "    </tr>\n",
              "    <tr>\n",
              "      <th>2</th>\n",
              "      <td>hydrogen gas</td>\n",
              "      <td>H2</td>\n",
              "      <td>0.69</td>\n",
              "    </tr>\n",
              "    <tr>\n",
              "      <th>3</th>\n",
              "      <td>carbon monoxide</td>\n",
              "      <td>CO</td>\n",
              "      <td>0.57</td>\n",
              "    </tr>\n",
              "    <tr>\n",
              "      <th>4</th>\n",
              "      <td>Calcium</td>\n",
              "      <td>Ca</td>\n",
              "      <td>0.40</td>\n",
              "    </tr>\n",
              "    <tr>\n",
              "      <th>5</th>\n",
              "      <td>Ammonia</td>\n",
              "      <td>NH3</td>\n",
              "      <td>0.33</td>\n",
              "    </tr>\n",
              "    <tr>\n",
              "      <th>6</th>\n",
              "      <td>Mercury</td>\n",
              "      <td>Hg</td>\n",
              "      <td>0.24</td>\n",
              "    </tr>\n",
              "    <tr>\n",
              "      <th>7</th>\n",
              "      <td>Magnesium</td>\n",
              "      <td>Mg</td>\n",
              "      <td>0.19</td>\n",
              "    </tr>\n",
              "    <tr>\n",
              "      <th>8</th>\n",
              "      <td>Sulfur dioxide</td>\n",
              "      <td>SO2</td>\n",
              "      <td>0.18</td>\n",
              "    </tr>\n",
              "    <tr>\n",
              "      <th>9</th>\n",
              "      <td>Ethylene</td>\n",
              "      <td>C2H4</td>\n",
              "      <td>0.17</td>\n",
              "    </tr>\n",
              "    <tr>\n",
              "      <th>10</th>\n",
              "      <td>Carbon dioxide</td>\n",
              "      <td>CO2</td>\n",
              "      <td>0.12</td>\n",
              "    </tr>\n",
              "    <tr>\n",
              "      <th>11</th>\n",
              "      <td>Methanol</td>\n",
              "      <td>CH3OH</td>\n",
              "      <td>0.09</td>\n",
              "    </tr>\n",
              "    <tr>\n",
              "      <th>12</th>\n",
              "      <td>Methane</td>\n",
              "      <td>CH4</td>\n",
              "      <td>0.04</td>\n",
              "    </tr>\n",
              "  </tbody>\n",
              "</table>\n",
              "</div>"
            ],
            "text/plain": [
              "            Compound Symbol  Concentration (wt%)\n",
              "0              water    H2O                 5.50\n",
              "1   hydrogen sulfide    H2S                 0.92\n",
              "2       hydrogen gas     H2                 0.69\n",
              "3    carbon monoxide     CO                 0.57\n",
              "4            Calcium     Ca                 0.40\n",
              "5            Ammonia    NH3                 0.33\n",
              "6            Mercury     Hg                 0.24\n",
              "7          Magnesium     Mg                 0.19\n",
              "8     Sulfur dioxide    SO2                 0.18\n",
              "9           Ethylene   C2H4                 0.17\n",
              "10    Carbon dioxide    CO2                 0.12\n",
              "11          Methanol  CH3OH                 0.09\n",
              "12           Methane    CH4                 0.04"
            ]
          },
          "metadata": {
            "tags": []
          },
          "execution_count": 6
        }
      ]
    },
    {
      "cell_type": "code",
      "metadata": {
        "id": "b8MzYIGVsp1u",
        "outputId": "5a82f00c-e7eb-46a7-beab-c37fbbd32854",
        "colab": {
          "base_uri": "https://localhost:8080/",
          "height": 427
        }
      },
      "source": [
        "# Creating plot \n",
        "fig = plt.figure(figsize =(10, 7)) \n",
        "plt.pie(df['Concentration (wt%)'], labels = df['Compound']) \n",
        "plt.title('Compound Wt%')\n",
        "# show plot \n",
        "plt.show() "
      ],
      "execution_count": 7,
      "outputs": [
        {
          "output_type": "display_data",
          "data": {
            "image/png": "[encoded data removed]",
            "text/plain": [
              "<Figure size 720x504 with 1 Axes>"
            ]
          },
          "metadata": {
            "tags": []
          }
        }
      ]
    },
    {
      "cell_type": "code",
      "metadata": {
        "id": "EYHD-gEYtwut",
        "outputId": "ed3db881-6218-4f1e-c8fa-2bf54ee1379e",
        "colab": {
          "base_uri": "https://localhost:8080/",
          "height": 452
        }
      },
      "source": [
        "#df['Carbon']=df.string.search('')\n",
        "df['Carbon']=df[\"Symbol\"].str.startswith('C')\n",
        "df"
      ],
      "execution_count": 8,
      "outputs": [
        {
          "output_type": "execute_result",
          "data": {
            "text/html": [
              "<div>\n",
              "<style scoped>\n",
              "    .dataframe tbody tr th:only-of-type {\n",
              "        vertical-align: middle;\n",
              "    }\n",
              "\n",
              "    .dataframe tbody tr th {\n",
              "        vertical-align: top;\n",
              "    }\n",
              "\n",
              "    .dataframe thead th {\n",
              "        text-align: right;\n",
              "    }\n",
              "</style>\n",
              "<table border=\"1\" class=\"dataframe\">\n",
              "  <thead>\n",
              "    <tr style=\"text-align: right;\">\n",
              "      <th></th>\n",
              "      <th>Compound</th>\n",
              "      <th>Symbol</th>\n",
              "      <th>Concentration (wt%)</th>\n",
              "      <th>Carbon</th>\n",
              "    </tr>\n",
              "  </thead>\n",
              "  <tbody>\n",
              "    <tr>\n",
              "      <th>0</th>\n",
              "      <td>water</td>\n",
              "      <td>H20</td>\n",
              "      <td>5.50</td>\n",
              "      <td>False</td>\n",
              "    </tr>\n",
              "    <tr>\n",
              "      <th>1</th>\n",
              "      <td>hydrogen sulfide</td>\n",
              "      <td>H2S</td>\n",
              "      <td>0.92</td>\n",
              "      <td>False</td>\n",
              "    </tr>\n",
              "    <tr>\n",
              "      <th>2</th>\n",
              "      <td>hydrogen gas</td>\n",
              "      <td>H2</td>\n",
              "      <td>0.69</td>\n",
              "      <td>False</td>\n",
              "    </tr>\n",
              "    <tr>\n",
              "      <th>3</th>\n",
              "      <td>carbon monoxide</td>\n",
              "      <td>CO</td>\n",
              "      <td>0.57</td>\n",
              "      <td>True</td>\n",
              "    </tr>\n",
              "    <tr>\n",
              "      <th>4</th>\n",
              "      <td>calcium</td>\n",
              "      <td>Ca</td>\n",
              "      <td>0.40</td>\n",
              "      <td>True</td>\n",
              "    </tr>\n",
              "    <tr>\n",
              "      <th>5</th>\n",
              "      <td>ammonia</td>\n",
              "      <td>NH3</td>\n",
              "      <td>0.33</td>\n",
              "      <td>False</td>\n",
              "    </tr>\n",
              "    <tr>\n",
              "      <th>6</th>\n",
              "      <td>mercury</td>\n",
              "      <td>Hg</td>\n",
              "      <td>0.24</td>\n",
              "      <td>False</td>\n",
              "    </tr>\n",
              "    <tr>\n",
              "      <th>7</th>\n",
              "      <td>magnesium</td>\n",
              "      <td>Mg</td>\n",
              "      <td>0.19</td>\n",
              "      <td>False</td>\n",
              "    </tr>\n",
              "    <tr>\n",
              "      <th>8</th>\n",
              "      <td>sulfur dioxide</td>\n",
              "      <td>SO2</td>\n",
              "      <td>0.18</td>\n",
              "      <td>False</td>\n",
              "    </tr>\n",
              "    <tr>\n",
              "      <th>9</th>\n",
              "      <td>ethylene</td>\n",
              "      <td>C2H4</td>\n",
              "      <td>0.17</td>\n",
              "      <td>True</td>\n",
              "    </tr>\n",
              "    <tr>\n",
              "      <th>10</th>\n",
              "      <td>carbon dioxide</td>\n",
              "      <td>CO2</td>\n",
              "      <td>0.12</td>\n",
              "      <td>True</td>\n",
              "    </tr>\n",
              "    <tr>\n",
              "      <th>11</th>\n",
              "      <td>methanol</td>\n",
              "      <td>CH3OH</td>\n",
              "      <td>0.09</td>\n",
              "      <td>True</td>\n",
              "    </tr>\n",
              "    <tr>\n",
              "      <th>12</th>\n",
              "      <td>methane</td>\n",
              "      <td>CH4</td>\n",
              "      <td>0.04</td>\n",
              "      <td>True</td>\n",
              "    </tr>\n",
              "  </tbody>\n",
              "</table>\n",
              "</div>"
            ],
            "text/plain": [
              "            Compound Symbol  Concentration (wt%)  Carbon\n",
              "0              water    H20                 5.50   False\n",
              "1   hydrogen sulfide    H2S                 0.92   False\n",
              "2       hydrogen gas     H2                 0.69   False\n",
              "3    carbon monoxide     CO                 0.57    True\n",
              "4            calcium     Ca                 0.40    True\n",
              "5            ammonia    NH3                 0.33   False\n",
              "6            mercury     Hg                 0.24   False\n",
              "7          magnesium     Mg                 0.19   False\n",
              "8     sulfur dioxide    SO2                 0.18   False\n",
              "9           ethylene   C2H4                 0.17    True\n",
              "10    carbon dioxide    CO2                 0.12    True\n",
              "11          methanol  CH3OH                 0.09    True\n",
              "12           methane    CH4                 0.04    True"
            ]
          },
          "metadata": {
            "tags": []
          },
          "execution_count": 8
        }
      ]
    },
    {
      "cell_type": "code",
      "metadata": {
        "id": "LFzHYLUqyPIa",
        "outputId": "983072ce-9c54-4305-bff5-0ff300b81922",
        "colab": {
          "base_uri": "https://localhost:8080/",
          "height": 427
        }
      },
      "source": [
        "# Creating plot \n",
        "fig = plt.figure(figsize =(10, 7)) \n",
        "c_only = pd.DataFrame(df.groupby(['Carbon']))\n",
        "c_only = c_only.iloc[1][1]\n",
        "plt.pie(c_only['Concentration (wt%)'], labels = c_only['Compound']) \n",
        "plt.title('Compound Wt%')\n",
        "# show plot \n",
        "plt.show() \n",
        "#df_first = df[(df.Pclass == 1)]"
      ],
      "execution_count": 9,
      "outputs": [
        {
          "output_type": "display_data",
          "data": {
            "image/png": "[encoded data removed]",
            "text/plain": [
              "<Figure size 720x504 with 1 Axes>"
            ]
          },
          "metadata": {
            "tags": []
          }
        }
      ]
    },
    {
      "cell_type": "code",
      "metadata": {
        "id": "_sZPvtubPuLx",
        "outputId": "416ecce4-f201-48c8-c201-c29d12853098",
        "colab": {
          "base_uri": "https://localhost:8080/"
        }
      },
      "source": [
        "pip install chemparse #https://pypi.org/project/chemparse/"
      ],
      "execution_count": 1,
      "outputs": [
        {
          "output_type": "stream",
          "text": [
            "Collecting chemparse\n",
            "  Downloading https://files.pythonhosted.org/packages/33/90/074708249c3301c97b487ae5371f4c184bedc611a1af36c3869b7ecccf3f/chemparse-0.1.0.tar.gz\n",
            "Building wheels for collected packages: chemparse\n",
            "  Building wheel for chemparse (setup.py) ... \u001b[?25l\u001b[?25hdone\n",
            "  Created wheel for chemparse: filename=chemparse-0.1.0-cp36-none-any.whl size=2913 sha256=2d32eb6bb56063cc765125229fe1d0fb96bf9d527a1562a7466837b3bc5ebe14\n",
            "  Stored in directory: /root/.cache/pip/wheels/6d/14/a5/1fee5885ee2793f331fe97ce98392ab4ee79b02147bbb4a59d\n",
            "Successfully built chemparse\n",
            "Installing collected packages: chemparse\n",
            "Successfully installed chemparse-0.1.0\n"
          ],
          "name": "stdout"
        }
      ]
    },
    {
      "cell_type": "code",
      "metadata": {
        "id": "Lplw99BQPy1h",
        "outputId": "ebf2facf-13da-464d-ad08-8e08ee2d7264",
        "colab": {
          "base_uri": "https://localhost:8080/"
        }
      },
      "source": [
        "import chemparse\n",
        "\n",
        "print(chemparse.parse_formula(\"C6H12O6\"))"
      ],
      "execution_count": 10,
      "outputs": [
        {
          "output_type": "stream",
          "text": [
            "{'C': 6.0, 'H': 12.0, 'O': 6.0}\n"
          ],
          "name": "stdout"
        }
      ]
    },
    {
      "cell_type": "code",
      "metadata": {
        "id": "0jGSksP4QBx0",
        "outputId": "a07f6b6c-dd5e-4fc2-fa2d-006ce5c99f6e",
        "colab": {
          "base_uri": "https://localhost:8080/",
          "height": 35
        }
      },
      "source": [
        "df['Symbol'].to_list()[0]"
      ],
      "execution_count": 21,
      "outputs": [
        {
          "output_type": "execute_result",
          "data": {
            "application/vnd.google.colaboratory.intrinsic+json": {
              "type": "string"
            },
            "text/plain": [
              "'H20'"
            ]
          },
          "metadata": {
            "tags": []
          },
          "execution_count": 21
        }
      ]
    },
    {
      "cell_type": "code",
      "metadata": {
        "id": "Z9tybamQQo2v",
        "outputId": "eb6a2bcd-5eb0-43b6-b9e3-387d8d7ab0d7",
        "colab": {
          "base_uri": "https://localhost:8080/"
        }
      },
      "source": [
        "aa=chemparse.parse_formula(df['Symbol'].to_list()[0])\n",
        "print(type(aa))"
      ],
      "execution_count": 34,
      "outputs": [
        {
          "output_type": "stream",
          "text": [
            "<class 'dict'>\n"
          ],
          "name": "stdout"
        }
      ]
    },
    {
      "cell_type": "code",
      "metadata": {
        "id": "ITzyQOlLYw_m",
        "outputId": "1d28021a-58eb-4acb-aa64-f2e10353ad2a",
        "colab": {
          "base_uri": "https://localhost:8080/"
        }
      },
      "source": [
        "elements=[]\n",
        "for i in range(len(df['Symbol'].to_list())):\n",
        "  elements.append(chemparse.parse_formula(df['Symbol'].to_list()[i]))\n",
        "elements"
      ],
      "execution_count": 29,
      "outputs": [
        {
          "output_type": "execute_result",
          "data": {
            "text/plain": [
              "[{'H': 2.0, 'O': 1.0},\n",
              " {'H': 2.0, 'S': 1.0},\n",
              " {'H': 2.0},\n",
              " {'C': 1.0, 'O': 1.0},\n",
              " {'Ca': 1.0},\n",
              " {'H': 3.0, 'N': 1.0},\n",
              " {'Hg': 1.0},\n",
              " {'Mg': 1.0},\n",
              " {'O': 2.0, 'S': 1.0},\n",
              " {'C': 2.0, 'H': 4.0},\n",
              " {'C': 1.0, 'O': 2.0},\n",
              " {'C': 1.0, 'H': 4.0, 'O': 1.0},\n",
              " {'C': 1.0, 'H': 4.0}]"
            ]
          },
          "metadata": {
            "tags": []
          },
          "execution_count": 29
        }
      ]
    },
    {
      "cell_type": "code",
      "metadata": {
        "id": "jA8hnO59ZvJh",
        "outputId": "b8ce22d2-fff4-41b8-feca-5b2c592dd6b2",
        "colab": {
          "base_uri": "https://localhost:8080/",
          "height": 452
        }
      },
      "source": [
        "df_e = pd.DataFrame(elements)\n",
        "df_e"
      ],
      "execution_count": 36,
      "outputs": [
        {
          "output_type": "execute_result",
          "data": {
            "text/html": [
              "<div>\n",
              "<style scoped>\n",
              "    .dataframe tbody tr th:only-of-type {\n",
              "        vertical-align: middle;\n",
              "    }\n",
              "\n",
              "    .dataframe tbody tr th {\n",
              "        vertical-align: top;\n",
              "    }\n",
              "\n",
              "    .dataframe thead th {\n",
              "        text-align: right;\n",
              "    }\n",
              "</style>\n",
              "<table border=\"1\" class=\"dataframe\">\n",
              "  <thead>\n",
              "    <tr style=\"text-align: right;\">\n",
              "      <th></th>\n",
              "      <th>H</th>\n",
              "      <th>O</th>\n",
              "      <th>S</th>\n",
              "      <th>C</th>\n",
              "      <th>Ca</th>\n",
              "      <th>N</th>\n",
              "      <th>Hg</th>\n",
              "      <th>Mg</th>\n",
              "    </tr>\n",
              "  </thead>\n",
              "  <tbody>\n",
              "    <tr>\n",
              "      <th>0</th>\n",
              "      <td>2.0</td>\n",
              "      <td>1.0</td>\n",
              "      <td>NaN</td>\n",
              "      <td>NaN</td>\n",
              "      <td>NaN</td>\n",
              "      <td>NaN</td>\n",
              "      <td>NaN</td>\n",
              "      <td>NaN</td>\n",
              "    </tr>\n",
              "    <tr>\n",
              "      <th>1</th>\n",
              "      <td>2.0</td>\n",
              "      <td>NaN</td>\n",
              "      <td>1.0</td>\n",
              "      <td>NaN</td>\n",
              "      <td>NaN</td>\n",
              "      <td>NaN</td>\n",
              "      <td>NaN</td>\n",
              "      <td>NaN</td>\n",
              "    </tr>\n",
              "    <tr>\n",
              "      <th>2</th>\n",
              "      <td>2.0</td>\n",
              "      <td>NaN</td>\n",
              "      <td>NaN</td>\n",
              "      <td>NaN</td>\n",
              "      <td>NaN</td>\n",
              "      <td>NaN</td>\n",
              "      <td>NaN</td>\n",
              "      <td>NaN</td>\n",
              "    </tr>\n",
              "    <tr>\n",
              "      <th>3</th>\n",
              "      <td>NaN</td>\n",
              "      <td>1.0</td>\n",
              "      <td>NaN</td>\n",
              "      <td>1.0</td>\n",
              "      <td>NaN</td>\n",
              "      <td>NaN</td>\n",
              "      <td>NaN</td>\n",
              "      <td>NaN</td>\n",
              "    </tr>\n",
              "    <tr>\n",
              "      <th>4</th>\n",
              "      <td>NaN</td>\n",
              "      <td>NaN</td>\n",
              "      <td>NaN</td>\n",
              "      <td>NaN</td>\n",
              "      <td>1.0</td>\n",
              "      <td>NaN</td>\n",
              "      <td>NaN</td>\n",
              "      <td>NaN</td>\n",
              "    </tr>\n",
              "    <tr>\n",
              "      <th>5</th>\n",
              "      <td>3.0</td>\n",
              "      <td>NaN</td>\n",
              "      <td>NaN</td>\n",
              "      <td>NaN</td>\n",
              "      <td>NaN</td>\n",
              "      <td>1.0</td>\n",
              "      <td>NaN</td>\n",
              "      <td>NaN</td>\n",
              "    </tr>\n",
              "    <tr>\n",
              "      <th>6</th>\n",
              "      <td>NaN</td>\n",
              "      <td>NaN</td>\n",
              "      <td>NaN</td>\n",
              "      <td>NaN</td>\n",
              "      <td>NaN</td>\n",
              "      <td>NaN</td>\n",
              "      <td>1.0</td>\n",
              "      <td>NaN</td>\n",
              "    </tr>\n",
              "    <tr>\n",
              "      <th>7</th>\n",
              "      <td>NaN</td>\n",
              "      <td>NaN</td>\n",
              "      <td>NaN</td>\n",
              "      <td>NaN</td>\n",
              "      <td>NaN</td>\n",
              "      <td>NaN</td>\n",
              "      <td>NaN</td>\n",
              "      <td>1.0</td>\n",
              "    </tr>\n",
              "    <tr>\n",
              "      <th>8</th>\n",
              "      <td>NaN</td>\n",
              "      <td>2.0</td>\n",
              "      <td>1.0</td>\n",
              "      <td>NaN</td>\n",
              "      <td>NaN</td>\n",
              "      <td>NaN</td>\n",
              "      <td>NaN</td>\n",
              "      <td>NaN</td>\n",
              "    </tr>\n",
              "    <tr>\n",
              "      <th>9</th>\n",
              "      <td>4.0</td>\n",
              "      <td>NaN</td>\n",
              "      <td>NaN</td>\n",
              "      <td>2.0</td>\n",
              "      <td>NaN</td>\n",
              "      <td>NaN</td>\n",
              "      <td>NaN</td>\n",
              "      <td>NaN</td>\n",
              "    </tr>\n",
              "    <tr>\n",
              "      <th>10</th>\n",
              "      <td>NaN</td>\n",
              "      <td>2.0</td>\n",
              "      <td>NaN</td>\n",
              "      <td>1.0</td>\n",
              "      <td>NaN</td>\n",
              "      <td>NaN</td>\n",
              "      <td>NaN</td>\n",
              "      <td>NaN</td>\n",
              "    </tr>\n",
              "    <tr>\n",
              "      <th>11</th>\n",
              "      <td>4.0</td>\n",
              "      <td>1.0</td>\n",
              "      <td>NaN</td>\n",
              "      <td>1.0</td>\n",
              "      <td>NaN</td>\n",
              "      <td>NaN</td>\n",
              "      <td>NaN</td>\n",
              "      <td>NaN</td>\n",
              "    </tr>\n",
              "    <tr>\n",
              "      <th>12</th>\n",
              "      <td>4.0</td>\n",
              "      <td>NaN</td>\n",
              "      <td>NaN</td>\n",
              "      <td>1.0</td>\n",
              "      <td>NaN</td>\n",
              "      <td>NaN</td>\n",
              "      <td>NaN</td>\n",
              "      <td>NaN</td>\n",
              "    </tr>\n",
              "  </tbody>\n",
              "</table>\n",
              "</div>"
            ],
            "text/plain": [
              "      H    O    S    C   Ca    N   Hg   Mg\n",
              "0   2.0  1.0  NaN  NaN  NaN  NaN  NaN  NaN\n",
              "1   2.0  NaN  1.0  NaN  NaN  NaN  NaN  NaN\n",
              "2   2.0  NaN  NaN  NaN  NaN  NaN  NaN  NaN\n",
              "3   NaN  1.0  NaN  1.0  NaN  NaN  NaN  NaN\n",
              "4   NaN  NaN  NaN  NaN  1.0  NaN  NaN  NaN\n",
              "5   3.0  NaN  NaN  NaN  NaN  1.0  NaN  NaN\n",
              "6   NaN  NaN  NaN  NaN  NaN  NaN  1.0  NaN\n",
              "7   NaN  NaN  NaN  NaN  NaN  NaN  NaN  1.0\n",
              "8   NaN  2.0  1.0  NaN  NaN  NaN  NaN  NaN\n",
              "9   4.0  NaN  NaN  2.0  NaN  NaN  NaN  NaN\n",
              "10  NaN  2.0  NaN  1.0  NaN  NaN  NaN  NaN\n",
              "11  4.0  1.0  NaN  1.0  NaN  NaN  NaN  NaN\n",
              "12  4.0  NaN  NaN  1.0  NaN  NaN  NaN  NaN"
            ]
          },
          "metadata": {
            "tags": []
          },
          "execution_count": 36
        }
      ]
    },
    {
      "cell_type": "code",
      "metadata": {
        "id": "1JVMp3H5apKG",
        "outputId": "4db5cc49-61c4-407f-d761-5278567b2e2e",
        "colab": {
          "base_uri": "https://localhost:8080/",
          "height": 452
        }
      },
      "source": [
        "df_m = pd.concat([df, df_e], axis=1, sort=False)\n",
        "df_m=df_m.fillna(0)\n",
        "df_m"
      ],
      "execution_count": 54,
      "outputs": [
        {
          "output_type": "execute_result",
          "data": {
            "text/html": [
              "<div>\n",
              "<style scoped>\n",
              "    .dataframe tbody tr th:only-of-type {\n",
              "        vertical-align: middle;\n",
              "    }\n",
              "\n",
              "    .dataframe tbody tr th {\n",
              "        vertical-align: top;\n",
              "    }\n",
              "\n",
              "    .dataframe thead th {\n",
              "        text-align: right;\n",
              "    }\n",
              "</style>\n",
              "<table border=\"1\" class=\"dataframe\">\n",
              "  <thead>\n",
              "    <tr style=\"text-align: right;\">\n",
              "      <th></th>\n",
              "      <th>Compound</th>\n",
              "      <th>Symbol</th>\n",
              "      <th>Concentration (wt%)</th>\n",
              "      <th>H</th>\n",
              "      <th>O</th>\n",
              "      <th>S</th>\n",
              "      <th>C</th>\n",
              "      <th>Ca</th>\n",
              "      <th>N</th>\n",
              "      <th>Hg</th>\n",
              "      <th>Mg</th>\n",
              "    </tr>\n",
              "  </thead>\n",
              "  <tbody>\n",
              "    <tr>\n",
              "      <th>0</th>\n",
              "      <td>water</td>\n",
              "      <td>H2O</td>\n",
              "      <td>5.50</td>\n",
              "      <td>2.0</td>\n",
              "      <td>1.0</td>\n",
              "      <td>0.0</td>\n",
              "      <td>0.0</td>\n",
              "      <td>0.0</td>\n",
              "      <td>0.0</td>\n",
              "      <td>0.0</td>\n",
              "      <td>0.0</td>\n",
              "    </tr>\n",
              "    <tr>\n",
              "      <th>1</th>\n",
              "      <td>hydrogen sulfide</td>\n",
              "      <td>H2S</td>\n",
              "      <td>0.92</td>\n",
              "      <td>2.0</td>\n",
              "      <td>0.0</td>\n",
              "      <td>1.0</td>\n",
              "      <td>0.0</td>\n",
              "      <td>0.0</td>\n",
              "      <td>0.0</td>\n",
              "      <td>0.0</td>\n",
              "      <td>0.0</td>\n",
              "    </tr>\n",
              "    <tr>\n",
              "      <th>2</th>\n",
              "      <td>hydrogen gas</td>\n",
              "      <td>H2</td>\n",
              "      <td>0.69</td>\n",
              "      <td>2.0</td>\n",
              "      <td>0.0</td>\n",
              "      <td>0.0</td>\n",
              "      <td>0.0</td>\n",
              "      <td>0.0</td>\n",
              "      <td>0.0</td>\n",
              "      <td>0.0</td>\n",
              "      <td>0.0</td>\n",
              "    </tr>\n",
              "    <tr>\n",
              "      <th>3</th>\n",
              "      <td>carbon monoxide</td>\n",
              "      <td>CO</td>\n",
              "      <td>0.57</td>\n",
              "      <td>0.0</td>\n",
              "      <td>1.0</td>\n",
              "      <td>0.0</td>\n",
              "      <td>1.0</td>\n",
              "      <td>0.0</td>\n",
              "      <td>0.0</td>\n",
              "      <td>0.0</td>\n",
              "      <td>0.0</td>\n",
              "    </tr>\n",
              "    <tr>\n",
              "      <th>4</th>\n",
              "      <td>calcium</td>\n",
              "      <td>Ca</td>\n",
              "      <td>0.40</td>\n",
              "      <td>0.0</td>\n",
              "      <td>0.0</td>\n",
              "      <td>0.0</td>\n",
              "      <td>0.0</td>\n",
              "      <td>1.0</td>\n",
              "      <td>0.0</td>\n",
              "      <td>0.0</td>\n",
              "      <td>0.0</td>\n",
              "    </tr>\n",
              "    <tr>\n",
              "      <th>5</th>\n",
              "      <td>ammonia</td>\n",
              "      <td>NH3</td>\n",
              "      <td>0.33</td>\n",
              "      <td>3.0</td>\n",
              "      <td>0.0</td>\n",
              "      <td>0.0</td>\n",
              "      <td>0.0</td>\n",
              "      <td>0.0</td>\n",
              "      <td>1.0</td>\n",
              "      <td>0.0</td>\n",
              "      <td>0.0</td>\n",
              "    </tr>\n",
              "    <tr>\n",
              "      <th>6</th>\n",
              "      <td>mercury</td>\n",
              "      <td>Hg</td>\n",
              "      <td>0.24</td>\n",
              "      <td>0.0</td>\n",
              "      <td>0.0</td>\n",
              "      <td>0.0</td>\n",
              "      <td>0.0</td>\n",
              "      <td>0.0</td>\n",
              "      <td>0.0</td>\n",
              "      <td>1.0</td>\n",
              "      <td>0.0</td>\n",
              "    </tr>\n",
              "    <tr>\n",
              "      <th>7</th>\n",
              "      <td>magnesium</td>\n",
              "      <td>Mg</td>\n",
              "      <td>0.19</td>\n",
              "      <td>0.0</td>\n",
              "      <td>0.0</td>\n",
              "      <td>0.0</td>\n",
              "      <td>0.0</td>\n",
              "      <td>0.0</td>\n",
              "      <td>0.0</td>\n",
              "      <td>0.0</td>\n",
              "      <td>1.0</td>\n",
              "    </tr>\n",
              "    <tr>\n",
              "      <th>8</th>\n",
              "      <td>sulfur dioxide</td>\n",
              "      <td>SO2</td>\n",
              "      <td>0.18</td>\n",
              "      <td>0.0</td>\n",
              "      <td>2.0</td>\n",
              "      <td>1.0</td>\n",
              "      <td>0.0</td>\n",
              "      <td>0.0</td>\n",
              "      <td>0.0</td>\n",
              "      <td>0.0</td>\n",
              "      <td>0.0</td>\n",
              "    </tr>\n",
              "    <tr>\n",
              "      <th>9</th>\n",
              "      <td>ethylene</td>\n",
              "      <td>C2H4</td>\n",
              "      <td>0.17</td>\n",
              "      <td>4.0</td>\n",
              "      <td>0.0</td>\n",
              "      <td>0.0</td>\n",
              "      <td>2.0</td>\n",
              "      <td>0.0</td>\n",
              "      <td>0.0</td>\n",
              "      <td>0.0</td>\n",
              "      <td>0.0</td>\n",
              "    </tr>\n",
              "    <tr>\n",
              "      <th>10</th>\n",
              "      <td>carbon dioxide</td>\n",
              "      <td>CO2</td>\n",
              "      <td>0.12</td>\n",
              "      <td>0.0</td>\n",
              "      <td>2.0</td>\n",
              "      <td>0.0</td>\n",
              "      <td>1.0</td>\n",
              "      <td>0.0</td>\n",
              "      <td>0.0</td>\n",
              "      <td>0.0</td>\n",
              "      <td>0.0</td>\n",
              "    </tr>\n",
              "    <tr>\n",
              "      <th>11</th>\n",
              "      <td>methanol</td>\n",
              "      <td>CH3OH</td>\n",
              "      <td>0.09</td>\n",
              "      <td>4.0</td>\n",
              "      <td>1.0</td>\n",
              "      <td>0.0</td>\n",
              "      <td>1.0</td>\n",
              "      <td>0.0</td>\n",
              "      <td>0.0</td>\n",
              "      <td>0.0</td>\n",
              "      <td>0.0</td>\n",
              "    </tr>\n",
              "    <tr>\n",
              "      <th>12</th>\n",
              "      <td>methane</td>\n",
              "      <td>CH4</td>\n",
              "      <td>0.04</td>\n",
              "      <td>4.0</td>\n",
              "      <td>0.0</td>\n",
              "      <td>0.0</td>\n",
              "      <td>1.0</td>\n",
              "      <td>0.0</td>\n",
              "      <td>0.0</td>\n",
              "      <td>0.0</td>\n",
              "      <td>0.0</td>\n",
              "    </tr>\n",
              "  </tbody>\n",
              "</table>\n",
              "</div>"
            ],
            "text/plain": [
              "            Compound Symbol  Concentration (wt%)    H  ...   Ca    N   Hg   Mg\n",
              "0              water    H2O                 5.50  2.0  ...  0.0  0.0  0.0  0.0\n",
              "1   hydrogen sulfide    H2S                 0.92  2.0  ...  0.0  0.0  0.0  0.0\n",
              "2       hydrogen gas     H2                 0.69  2.0  ...  0.0  0.0  0.0  0.0\n",
              "3    carbon monoxide     CO                 0.57  0.0  ...  0.0  0.0  0.0  0.0\n",
              "4            calcium     Ca                 0.40  0.0  ...  1.0  0.0  0.0  0.0\n",
              "5            ammonia    NH3                 0.33  3.0  ...  0.0  1.0  0.0  0.0\n",
              "6            mercury     Hg                 0.24  0.0  ...  0.0  0.0  1.0  0.0\n",
              "7          magnesium     Mg                 0.19  0.0  ...  0.0  0.0  0.0  1.0\n",
              "8     sulfur dioxide    SO2                 0.18  0.0  ...  0.0  0.0  0.0  0.0\n",
              "9           ethylene   C2H4                 0.17  4.0  ...  0.0  0.0  0.0  0.0\n",
              "10    carbon dioxide    CO2                 0.12  0.0  ...  0.0  0.0  0.0  0.0\n",
              "11          methanol  CH3OH                 0.09  4.0  ...  0.0  0.0  0.0  0.0\n",
              "12           methane    CH4                 0.04  4.0  ...  0.0  0.0  0.0  0.0\n",
              "\n",
              "[13 rows x 11 columns]"
            ]
          },
          "metadata": {
            "tags": []
          },
          "execution_count": 54
        }
      ]
    },
    {
      "cell_type": "code",
      "metadata": {
        "id": "vih9Wg8edH_s",
        "outputId": "ff441153-95aa-4f81-ef0c-c0137778e269",
        "colab": {
          "base_uri": "https://localhost:8080/"
        }
      },
      "source": [
        "df_m.iloc[:,3:11].sum()"
      ],
      "execution_count": 55,
      "outputs": [
        {
          "output_type": "execute_result",
          "data": {
            "text/plain": [
              "H     21.0\n",
              "O      7.0\n",
              "S      2.0\n",
              "C      6.0\n",
              "Ca     1.0\n",
              "N      1.0\n",
              "Hg     1.0\n",
              "Mg     1.0\n",
              "dtype: float64"
            ]
          },
          "metadata": {
            "tags": []
          },
          "execution_count": 55
        }
      ]
    },
    {
      "cell_type": "code",
      "metadata": {
        "id": "AqPbN5p8bv4n"
      },
      "source": [
        "# merge them together, aligning rows based on their labels in the index\n",
        "#df_merged = pd.merge(left=df_econ, right=df_race, how='inner', left_index=True, right_index=True)\n",
        "#df_merged.head()\n"
      ],
      "execution_count": null,
      "outputs": []
    }
  ]
}